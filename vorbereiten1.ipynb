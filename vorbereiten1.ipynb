{
 "cells": [
  {
   "cell_type": "markdown",
   "id": "14c20dcb-aa64-48e9-8c54-27b0b87d3731",
   "metadata": {},
   "source": [
    "Führen Sie das nächste Feld mit <b>Shift-Enter</b> aus, um benötigte Python-Voraussetzungen zu laden."
   ]
  },
  {
   "cell_type": "code",
   "execution_count": null,
   "id": "029db7c7-4eae-4e7d-95b0-7dba8df95122",
   "metadata": {},
   "outputs": [],
   "source": [
    "from utils.discrstruct import *"
   ]
  },
  {
   "cell_type": "markdown",
   "id": "92206806-0e49-41ba-9ca4-075f4bb15731",
   "metadata": {},
   "source": [
    "<h1>Kapitel 1: Grundlegende Strukturen</h1>\n",
    "\n",
    "Diese Übungsblätter folgen dem Lehrbuch <i>Modellieren mit Diskreten Strukturen</i> von Peter Riegler. Dabei werden die wesentlichen Inhalte kurz zusammengefasst und mit Beispielen der Programmiersprache <i>Python</i> dargestellt. Sie sollten die Texte im Lehrbuch beim Durcharbeiten dieser Übungen parallel lesen. \n",
    "\n",
    "<h2>1.4 Kollektionen: Mengen und Tupel</h2>"
   ]
  },
  {
   "cell_type": "markdown",
   "id": "aef6beb5-8361-4456-b55c-0a2155b1eb6a",
   "metadata": {},
   "source": [
    "Kollektionen sind Ansammlungen von Dingen, die nach irgendwelchen Kriterien kategorisiert werden. Man kann vier Arten von Kollektionen\n",
    "erkennen, die durch zwei Aspekte gekennzeichnet sind:\n",
    "\n",
    "<ul>\n",
    "<li> Die Reihenfolge der Objekte in der Kollektion\n",
    "<li> Das mögliche Mehrfachvorkommen der Objekte in der Kollektion\n",
    "</ul>    \n",
    "    Es gibt <i>Tupel</i> und <i>Mengen</i>. Tupel werden auch <i>Listen</i> oder <i>Arrays</i> genannt. Bei Tupeln ist die Reihenfolge wichtig und Mehrfachvorkommen von Objekten möglich. Bei Mengen ist die Reihenfolge nicht wichtig und Mehrfachvorkommen von Objekten nicht möglich. In Programmiersprachen werden meist Tupel  bevorzugt, da ein Computer diese der Reihe nach abarbeiten kann. In der Mathematik werden Mengen bevorzugt. Tupel werden mit runden Klammern oder mit eckigen Klammern  geschrieben (<i> (a,b,c) </i> oder <i> [a,b,c] </i>). Mengen werden mit geschweiften Klammern geschrieben (<i> {a,b,c} </i>). \n"
   ]
  },
  {
   "cell_type": "code",
   "execution_count": null,
   "id": "f5c4074f-ec50-40e1-8ce5-39eb8e91c2ae",
   "metadata": {},
   "outputs": [],
   "source": [
    "[1,6,3]\n",
    "{1,6,3}\n",
    "[1,1,1]\n",
    "{1,1,1}"
   ]
  },
  {
   "cell_type": "markdown",
   "id": "4b656be0-bcd0-4b38-9189-93623cc5641f",
   "metadata": {},
   "source": [
    "Kollektionen können mit <i>==</i> verglichen werden:"
   ]
  },
  {
   "cell_type": "code",
   "execution_count": null,
   "id": "41aec33e-fd73-491f-9aee-0abdeee88953",
   "metadata": {},
   "outputs": [],
   "source": [
    "[1,3,6] == [1,6,3]\n",
    "{1,3,6} == {1,6,3}\n",
    "{1,3,6} == {1,2,3}\n",
    "[1, 6, 3] == [1, 3+3, 1*3]"
   ]
  },
  {
   "cell_type": "code",
   "execution_count": null,
   "id": "4d47feea-97df-4e97-a838-62c164fa312d",
   "metadata": {},
   "outputs": [],
   "source": []
  }
 ],
 "metadata": {
  "kernelspec": {
   "display_name": "Python 3 (ipykernel)",
   "language": "python",
   "name": "python3"
  },
  "language_info": {
   "codemirror_mode": {
    "name": "ipython",
    "version": 3
   },
   "file_extension": ".py",
   "mimetype": "text/x-python",
   "name": "python",
   "nbconvert_exporter": "python",
   "pygments_lexer": "ipython3",
   "version": "3.10.8"
  }
 },
 "nbformat": 4,
 "nbformat_minor": 5
}
