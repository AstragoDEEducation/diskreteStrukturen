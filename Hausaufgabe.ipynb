{
 "cells": [
  {
   "cell_type": "code",
   "execution_count": null,
   "id": "824b10e1-4561-4576-8f07-fd1421910c3f",
   "metadata": {},
   "outputs": [],
   "source": [
    "from utils.discrstruct import *"
   ]
  },
  {
   "cell_type": "markdown",
   "id": "f67c2948-f8a1-4294-837b-d244b057e897",
   "metadata": {},
   "source": [
    "<b>Aufgabe</b>: Wie viele Äquivalenzrelationen gibt es auf einer 4 elementigen Menge?"
   ]
  },
  {
   "cell_type": "markdown",
   "id": "eea65525-05d5-4cee-8819-e27e3c5a9994",
   "metadata": {},
   "source": [
    "<b>1. Implementierung der Aufgabe in Python für ein Beispiel</b>"
   ]
  },
  {
   "cell_type": "markdown",
   "id": "43d91a7a-c7f4-4949-9472-74a7d4a4b3c3",
   "metadata": {},
   "source": [
    "<b>1.1 Definitionen</b>\n",
    "    \n",
    "Eine Äquivalenzrelation kann folgendermaßen in Python implementiert werden:"
   ]
  },
  {
   "cell_type": "code",
   "execution_count": null,
   "id": "380bec83-c65f-4c56-a4b0-d490492ac71b",
   "metadata": {},
   "outputs": [],
   "source": [
    "def reflexiv (R,A):\n",
    "    return all((a,a) in R for a in A)\n",
    "def symmetrisch (R,A):\n",
    "    return all(((a,b) in R) -s>> ((b,a) in R) for a in A for b in A)\n",
    "def transitiv (R,A):\n",
    "    return all(((a,b) in R and (b,c) in R) -s>> ((a,c) in R) for a in A for b in A for c in A)\n",
    "def Aequivalenzrelation(R,A):\n",
    "    return reflexiv(R,A) and symmetrisch(R,A) and transitiv(R,A)"
   ]
  },
  {
   "cell_type": "markdown",
   "id": "6563aef8-d9ff-4e0b-8ca5-23ab28bb3367",
   "metadata": {},
   "source": [
    "Eine 4 elementige Beispielmenge:"
   ]
  },
  {
   "cell_type": "code",
   "execution_count": null,
   "id": "ce8994b4-eb82-4c7e-bbe3-468de5a2655a",
   "metadata": {},
   "outputs": [],
   "source": [
    "A = {1,2,3,4}"
   ]
  },
  {
   "cell_type": "markdown",
   "id": "f561798e-5132-4647-a5ae-ca2cd1582a8a",
   "metadata": {},
   "source": [
    "Die folgende Menge enthält alle Relationen (Teilmengen des kartesischen Produkts), die Äquivalenzrelationen sind:"
   ]
  },
  {
   "cell_type": "code",
   "execution_count": null,
   "id": "4bf636d9-aa33-475a-9697-8aef4075cc41",
   "metadata": {},
   "outputs": [],
   "source": [
    "Ergebnismenge = {R for R in PowerSet(CartProd(A, A)) if Aequivalenzrelation(R,A)}"
   ]
  },
  {
   "cell_type": "markdown",
   "id": "dd7a357d-e72a-43d1-ae9d-4c4bfa3e51c6",
   "metadata": {},
   "source": [
    "Die Anzahl der Elemente ist:"
   ]
  },
  {
   "cell_type": "code",
   "execution_count": null,
   "id": "0eb763ae-a70f-4759-921c-7ce10852de4d",
   "metadata": {},
   "outputs": [],
   "source": [
    "len(Ergebnismenge)"
   ]
  },
  {
   "cell_type": "markdown",
   "id": "da93262a-fe7d-4ec2-aa27-f26a6713619f",
   "metadata": {},
   "source": [
    "<b>1.2 Erklärungen</b>\n",
    "\n",
    "Fügen Sie hier noch weitere Details hinzu bezüglich, wie Sie überprüft haben, dass Ihr Python-Code richtig ist."
   ]
  },
  {
   "cell_type": "markdown",
   "id": "2932d3d4-104d-4cde-8863-6873707873ca",
   "metadata": {},
   "source": [
    "Die Elemente der Ergebnismenge:"
   ]
  },
  {
   "cell_type": "code",
   "execution_count": null,
   "id": "34a3f494-355a-46cb-b5eb-0aeb92c749ee",
   "metadata": {},
   "outputs": [],
   "source": [
    "Ergebnismenge"
   ]
  },
  {
   "cell_type": "markdown",
   "id": "84418c4d-1ac6-4fe0-a847-b8975497a4be",
   "metadata": {},
   "source": [
    "Wenn man sich die einzelnen Elemente der Ergebnismenge ansieht, sieht man das diese tatsächlich Äquivalenzrelationen sind."
   ]
  },
  {
   "cell_type": "markdown",
   "id": "32107fd2-ef0b-421e-bfc8-ebfcf3f5e285",
   "metadata": {},
   "source": [
    "<b>2. Mathematische Begründung</b>\n",
    "\n",
    "Für eine Äquivalenzrelation gilt, dass verschiedene Äquivalenzklassen disjunkt sind und die Vereinigung aller Äquivalenzklassen wieder die ursprüngliche Menge ergibt. Daher entspricht die Anzahl der Äquivalenzrelationen auch der Anzahl der verschiedenen Möglichkeiten, wie man die Menge aufteilen kann. Dabei gibt es folgenden Möglichkeiten:\n",
    "\n",
    "Nur 1-elementige Teilmengen: {{1},{2},{3},{4}} (genau 1 Möglichkeit)\n",
    "\n",
    "Eine 2-elementige Teilmenge: {{1,2},{3},{4}} (d.h. 2 auswählen: 6 Möglichkeiten)\n",
    "\n",
    "Zwei 2-elementige Teilmenge: {{1,2},{3,4}} (3 Möglichkeiten)\n",
    "\n",
    "Eine 3-elementige Teilmenge: {{1,2,3},{4}} (4 Möglichkeiten)\n",
    "\n",
    "Eine 4-elementige Teilmenge: {{1,2,3,4}} (1 Möglichkeit)\n",
    "\n",
    "Insgesamt sind das 15 Möglichkeiten.\n"
   ]
  },
  {
   "cell_type": "markdown",
   "id": "1c00af71-76b3-4df7-86fb-709ba7ca204a",
   "metadata": {},
   "source": [
    "<b>2.1 Für beliebig große Mengen</b>\n",
    "\n",
    "Man kann die Anzahl der Möglichkeiten auch für eine beliebig große Menge berechnen. Das, was Sie in diesem Kurs über Kombinatorik lernen, reicht dafür aber nicht. Wenn man im Internet sucht, findet man, dass die gesuchte Zahl \"Bellsche Zahl\" heißt und es dafür Formeln gibt.\n",
    "\n",
    "(Für einige der anderen Aufgabenstellungen, können Sie das Muster für beliebig große Mengen auch selbst beschreiben, mit dem, was Sie über Kombinatorik lernen. In anderen Fällen geht das nicht und Sie finden vielleicht auch nichts im Internet. Dann schreiben Sie, dass Sie nichts finden konnten.)"
   ]
  },
  {
   "cell_type": "markdown",
   "id": "cf3838f0-a07d-42ee-9a56-b6c137ac7aa4",
   "metadata": {},
   "source": [
    "<b>2.2 Quellenangabe</b>\n",
    "\n",
    "Ich habe alles selbst erstellt, außer: Informationen über die Bellesche Zahl: https://de.wikipedia.org/wiki/Bellsche_Zahl \n",
    "\n",
    "(Geben Sie hier alle Quellen an, die Sie verwendet haben.)"
   ]
  },
  {
   "cell_type": "code",
   "execution_count": null,
   "id": "2c332795-1f35-4e36-b0e1-59b541789d0d",
   "metadata": {},
   "outputs": [],
   "source": []
  }
 ],
 "metadata": {
  "kernelspec": {
   "display_name": "Python 3 (ipykernel)",
   "language": "python",
   "name": "python3"
  },
  "language_info": {
   "codemirror_mode": {
    "name": "ipython",
    "version": 3
   },
   "file_extension": ".py",
   "mimetype": "text/x-python",
   "name": "python",
   "nbconvert_exporter": "python",
   "pygments_lexer": "ipython3",
   "version": "3.10.8"
  }
 },
 "nbformat": 4,
 "nbformat_minor": 5
}
