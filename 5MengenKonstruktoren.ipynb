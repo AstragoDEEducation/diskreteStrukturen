{
 "cells": [
  {
   "cell_type": "code",
   "execution_count": 1,
   "id": "22d89c1d-3f67-48a1-9da6-2eaf9886fa20",
   "metadata": {},
   "outputs": [
    {
     "data": {
      "text/html": [
       "<script type=\"text/javascript\">\n",
       "function ueberpruefen(property) {\n",
       "var solutions = \n",
       "{'kapitel2_1_0': 'RGllIEZsYXNjaGUgaXN0IG5pY2h0IHZvbGwu', 'kapitel2_1_1': 'RGllIEhvc2UgaXN0IG5pY2h0IHNjaHdhcnou', 'kapitel2_2_0': 'RXIgbWFnIGtlaW5lbiBTY2huYXBzIG9kZXIgZXIgbWFnIFNla3Qu', 'kapitel2_2_1': 'U2llIHRhbnp0IG5pY2h0IG9kZXIgZsOkaHJ0IG5pY2h0IFJhZC4=', 'kapitel2_3_0': 'SmE=', 'kapitel2_3_1': 'SmE=', 'kapitel2_3_2': 'SmE=', 'kapitel2_3_3': 'TmVpbg==', 'kapitel2_3_4': 'SmE=', 'kapitel2_3_5': 'TmVpbg==', 'kapitel2_3_6': 'SmE=', 'kapitel2_3_7': 'TmVpbg==', 'kapitel2_4_0': 'QXVzc2FnZWZvcm0=', 'kapitel2_4_1': 'QXVzc2FnZWZvcm0=', 'kapitel2_4_2': 'QXVzc2FnZWZvcm0=', 'kapitel2_4_3': 'V2VkZXIgQXVzc2FnZSBub2NoIEF1c3NhZ2Vmb3Jt', 'kapitel2_4_4': 'QXVzc2FnZQ==', 'kapitel2_4_5': 'QXVzc2FnZQ==', 'kapitel2_4_6': 'V2VkZXIgQXVzc2FnZSBub2NoIEF1c3NhZ2Vmb3Jt', 'kapitel2_4_7': 'QXVzc2FnZQ==', 'kapitel2_5_0': 'ZW50d2VkZXItb2Rlcg==', 'kapitel2_5_1': 'ZW50d2VkZXItb2Rlcg==', 'kapitel2_5_2': 'bG9naXNjaGVzIG9kZXI=', 'kapitel2_5_3': 'ZW50d2VkZXItb2Rlcg==', 'kapitel2_6_0': 'd2Focg==', 'kapitel2_6_1': 'ZmFsc2No', 'kapitel2_6_2': 'd2Focg==', 'kapitel2_6_3': 'ZmFsc2No', 'kapitel2_7_0': 'QXVmesOkaGx1bmcgdm9uIEdlZ2Vuc3TDpG5kZW4=', 'kapitel2_7_1': 'bG9naXNjaGUgS29uanVua3Rpb24=', 'kapitel2_7_2': 'bG9naXNjaGUgS29uanVua3Rpb24=', 'kapitel2_7_3': 'QXVmesOkaGx1bmcgdm9uIEdlZ2Vuc3TDpG5kZW4=', 'kapitel3_1_0': 'RGVmaW5pdGlvbg==', 'kapitel3_1_1': 'VGhlb3JlbQ==', 'kapitel3_1_2': 'RGVmaW5pdGlvbg==', 'kapitel3_1_3': 'VGhlb3JlbQ==', 'kapitel3_1_4': 'RGVmaW5pdGlvbg==', 'kapitel3_1_5': 'VGhlb3JlbQ==', 'kapitel3_2_0': 'QSDihpIgQg==', 'kapitel3_2_1': 'QSDihpAgQg==', 'kapitel3_2_2': 'QSDih5IgQg==', 'kapitel3_2_3': 'QSDih5IgQg==', 'kapitel3_2_4': 'QSDihpAgQg==', 'kapitel3_2_5': 'QSDih5QgQg==', 'kapitel3_3_0': 'a29tbXV0YXRpdg==', 'kapitel3_3_1': 'bmljaHQga29tbXV0YXRpdg==', 'kapitel3_3_2': 'bmljaHQga29tbXV0YXRpdg==', 'kapitel3_3_3': 'bmljaHQga29tbXV0YXRpdg==', 'kapitel3_4_0': 'bmV1dHJhbGVzIEVsZW1lbnQ=', 'kapitel3_4_1': 'a2VpbiBuZXV0cmFsZXMgRWxlbWVudA==', 'kapitel3_4_2': 'a2VpbiBuZXV0cmFsZXMgRWxlbWVudA==', 'kapitel3_4_3': 'bmV1dHJhbGVzIEVsZW1lbnQ=', 'kapitel3_4_4': 'bmV1dHJhbGVzIEVsZW1lbnQ=', 'kapitel3_4_5': 'a2VpbiBuZXV0cmFsZXMgRWxlbWVudA==', 'kapitel3_4_6': 'a2VpbiBuZXV0cmFsZXMgRWxlbWVudA==', 'kapitel3_4_7': 'bmV1dHJhbGVzIEVsZW1lbnQ='}\n",
       "\n",
       "   form_elements = document.querySelector(\"#\"+property).elements;\n",
       "   for (i = 0; i < form_elements.length ;i++) {\n",
       "      var answer = \"<font size=5 color='red'>&#10007;</font>\";\n",
       "      if (typeof solutions[form_elements[i].id] !== 'undefined') {\n",
       "         if (form_elements[i].value == \n",
       "             decodeURIComponent(escape(atob(solutions[form_elements[i].id] )))) {\n",
       "             answer = \"<font size=5 color='green'>&#10003;</font>\";\n",
       "         }\n",
       "      document.querySelector(\"#\" + form_elements[i].id + \"_ans\").innerHTML=answer;\n",
       "      }\n",
       "   }\n",
       "}\n",
       "</script>"
      ],
      "text/plain": [
       "<IPython.core.display.HTML object>"
      ]
     },
     "metadata": {},
     "output_type": "display_data"
    }
   ],
   "source": [
    "from utils.discrstruct import *"
   ]
  },
  {
   "cell_type": "markdown",
   "id": "0e992e89-4f6c-4608-a821-15d9b3fc9c44",
   "metadata": {},
   "source": [
    "<b>Berechnen Sie mit Python:</b><br>\n",
    "\n",
    "<ul>\n",
    "<li>den Schnitt und die Vereinigung von {1, 2, 3} und {2, 3, 4}\n",
    "<li> die Potenzmenge von {1, 2, 3}\n",
    "    <li> das kartesische Produkt von {1, 2, 3} und {'a', 'b'} \n",
    "<li> das kartesische Produkt von {1, 2, 3} mit sich selbst\n",
    "    </ul>"
   ]
  },
  {
   "cell_type": "code",
   "execution_count": null,
   "id": "0f5c9a53-6fa1-4f54-88d0-5720a656d3ce",
   "metadata": {},
   "outputs": [],
   "source": [
    "TODO"
   ]
  },
  {
   "cell_type": "markdown",
   "id": "8c4f88e2-5763-4da1-afbd-0c0075ea1065",
   "metadata": {},
   "source": [
    "<b>Konstruktoren</b>\n",
    "\n",
    "Beispiel eines Mengen-Konstruktors für die durch 4 teilbaren Zahlen zwischen -10 und 10:"
   ]
  },
  {
   "cell_type": "code",
   "execution_count": null,
   "id": "ceeccc1c-c907-4332-b46d-8ff8fe58dc7f",
   "metadata": {},
   "outputs": [],
   "source": [
    "{x for x in range(-10,11) if x % 4 == 0}"
   ]
  },
  {
   "cell_type": "markdown",
   "id": "0b1946e9-422c-4b15-b82a-770bb5c111fd",
   "metadata": {},
   "source": [
    "Schreiben Sie Mengen-Konstruktoren für\n",
    "<ul>\n",
    "    <li> die ungeraden Zahlen zwischen 10 und 20.\n",
    "    <li> die geraden, ganzen Zahlen größer 4 und kleiner 15.\n",
    "    <li> die doppelten der ungeraden Zahlen zwischen 10 und 20. (Sie können dafür in Ihrem Konstruktor \"{2 * x for x ...}  \" verwenden)\n",
    "<li> die Summen aus den Zahlen von 1 bis 10 addiert mit den Zahlen von 5 bis 8, so dass die Summe kleiner als 15 ist.\n",
    "<li> Die Paare (x,y), für die x+y $<$ 8 und x,y aus der Menge {1..6} kommen. (Tipp: Verwenden Sie hier (x,y) anstatt von [x,y] für die Paare.)\n",
    "</ul>"
   ]
  },
  {
   "cell_type": "code",
   "execution_count": null,
   "id": "7e7ba653-4665-4d71-99f7-524d991394c7",
   "metadata": {},
   "outputs": [],
   "source": []
  },
  {
   "cell_type": "markdown",
   "id": "dcb5b62f-51a3-46ee-9e37-a79ff44a23ea",
   "metadata": {},
   "source": [
    "Schreiben Sie Mengen-Konstruktoren für\n",
    "<ul>\n",
    "   <li> Die Paare von Zahlen aus {1..20}, die nach Division durch 5 denselben Rest haben.\n",
    "<li> Die Paare (x,y), für die x ⊆ y gilt und x, y Elemente der Potenzmenge von {1,2,3} sind.\n",
    "    <li>Tripeln (n,m,k) aus Zahlen zwischen 1 und 10, so dass n + m = k.\n",
    "<li>Zahlen zwischen 1 und 20, die alle gerade sind, außer 4, und alle durch 5 teilbaren Zahlen außer 15.\n",
    "<li>Paare aus Wahrheitswerten, die einer wahren Subjunktion entsprechen.\n",
    "    </ul>"
   ]
  },
  {
   "cell_type": "code",
   "execution_count": null,
   "id": "e02ecdb3-e293-4eea-ac5a-7dfab0fb8534",
   "metadata": {},
   "outputs": [],
   "source": []
  }
 ],
 "metadata": {
  "kernelspec": {
   "display_name": "Python 3 (ipykernel)",
   "language": "python",
   "name": "python3"
  },
  "language_info": {
   "codemirror_mode": {
    "name": "ipython",
    "version": 3
   },
   "file_extension": ".py",
   "mimetype": "text/x-python",
   "name": "python",
   "nbconvert_exporter": "python",
   "pygments_lexer": "ipython3",
   "version": "3.10.8"
  }
 },
 "nbformat": 4,
 "nbformat_minor": 5
}
