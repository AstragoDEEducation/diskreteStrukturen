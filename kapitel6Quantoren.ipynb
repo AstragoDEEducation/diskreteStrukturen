{
 "cells": [
  {
   "cell_type": "code",
   "execution_count": null,
   "id": "7f4071a9-9dc5-48d8-872c-1a1f4dd684f9",
   "metadata": {},
   "outputs": [],
   "source": [
    "from utils.discrstruct import *"
   ]
  },
  {
   "cell_type": "markdown",
   "id": "3181e042-cb8f-47e4-a34e-06aabb7d5edf",
   "metadata": {},
   "source": [
    "<h1>Kapitel 6: Quantoren</h1>\n",
    "\n",
    "<h2>6.1 Aufwärmübungen</h2>\n",
    "\n",
    "Handelt es sich bei den folgenden Sätzen um Aussagen oder nur um Aussageformen? \n",
    "\n",
    "1. Es gibt ein $x\\in \\mathbb{N}$ mit 5 = x + 1.\n",
    "\n",
    "2. Für jedes $n\\in \\mathbb{N}$ gibt es ein m mit m = n + 1.\n",
    "\n",
    "3. Alle Studierenden der Ostfalia haben eine Matrikelnummer.\n",
    "\n",
    "4. Es gibt ein $n\\in \\mathbb{N}$ mit $n^2 = n$.\n",
    "\n",
    "5. Für alle $n\\in \\mathbb{N}$ gilt $n^2 = n$.\n",
    "\n",
    "6. Kein $n\\in \\mathbb{N}$ hat die Eigenschaft $n < 0$.\n",
    "\n",
    "\n",
    "Falls es sich um Assuagen handelt, welche Wahrheistwerte haben die obenstehenden Sätze? Wie kann man die Sätze negieren? Wie negiert man insbesondere die Wörter \"es gibt\", \"jeder\", \"alle\" und \"kein\"?\n"
   ]
  },
  {
   "cell_type": "markdown",
   "id": "e3a1a002-4c63-40fc-8e72-824de6da7c17",
   "metadata": {},
   "source": [
    "<h2>6.3 Prädikate und quantifizierte Aussagen</h2>\n",
    "\n",
    "Aussageformen bestehen aus einem Teil, der die Variablen spezifiziert, und einem Teil, der erklärt, was mit den Variablen gemacht wird. Der erste Teil enthält normalerweise eine <b>Quantifizierung</b> und der zweite Teil wird in der Logik als <b>Prädikat</b> bezeichnet. Zum Beispiel besteht <i>\"Es gibt ein $x\\in \\mathbb{N}$ mit 5 = x + 1\"</i> aus der Quantifizierung <i>\"Es gibt ein $x\\in \\mathbb{N}$\"</i> und dem Prädikat <i>\"5 = x + 1\"</i>.\n",
    "\n",
    "<div style='background-color: lightgray'><b>Definition:</b> \n",
    "Aussagen der Art\n",
    "\"Für alle x aus der Menge M gilt P(x)\"\n",
    "sind genau dann wahr, wenn das Prädikat P(x) für alle Elemente x aus der Menge M wahr ist. Man nennt solche Aussagen <b>All-Aussagen</b>. Die formale Notation ist\n",
    "    <center>$\\forall(x \\in M | P (x))$.</center>\n",
    "    \n",
    "Aussagen der Art\n",
    "\"Es gibt ein x aus der Menge M, so dass P(x) gilt\"\n",
    "sind genau dann wahr, wenn das Prädikat P(x) mindestens für ein x $\\in$ M wahr ist. Man nennt solche Aussagen <b>Existenz-Aussagen</b>. Die formale Notation ist\n",
    "    <center>  $\\exists(x \\in M | P (x))$.</center>  </div>\n",
    "  \n",
    "Die Symbole $\\forall$ und $\\exists$ werden als <b>All-Quantor</b> bzw. <b>Existenz-Quantor</b> bezeichnet. "
   ]
  },
  {
   "cell_type": "markdown",
   "id": "a4459e64-5d68-4885-803c-5bf925222d96",
   "metadata": {},
   "source": [
    "<h2>Quantoren in Python</h2>\n",
    "\n",
    "In Python ist die Reihenfolge umgekehrt: man schreibt erst das Prädikat und dann die Quantifizierung.\n",
    "$\\forall (x \\in \\{0, 1, ..., 5\\} \\mid x < 5 )$ entspricht <i>all(x < 5 for x in range(0,6))</i> und $\\exists (x \\in \\{0, 1, ..., 5\\} \\mid x < 5 )$ entspricht <i>any(x < 5 for x in range(0,6))</i> in Python. Überlegen Sie sich für die folgenden Beispiele erst, was herauskommt, bevor Sie es ausführen:"
   ]
  },
  {
   "cell_type": "code",
   "execution_count": null,
   "id": "fbf10036-80c5-419e-8da6-bbdab3e47bda",
   "metadata": {},
   "outputs": [],
   "source": [
    "zahl = {1,2,3,4,5,6,7,8,9,10}\n",
    "gerade = {2,4,6,8,10}\n",
    "ungerade = {1,3,5,7,9}\n",
    "eins = {17}\n",
    "zwei = {2,3}\n",
    "all(x < 5 for x in zwei)\n",
    "all(x < 5 for x in zahl)\n",
    "any(x < 5 for x in zahl)\n",
    "all(x != y for x in gerade for y in ungerade)"
   ]
  },
  {
   "cell_type": "markdown",
   "id": "b0d2db6c-e0b8-434d-a97a-e95c23b02be5",
   "metadata": {},
   "source": [
    "Zur Überprüfung können Sie sich auch Einzelergebnisse anschauen, indem Sie statt des Quantors eine Liste von Wahrheitswerten ausgeben lassen:"
   ]
  },
  {
   "cell_type": "code",
   "execution_count": null,
   "id": "a78383b4-d4d7-4b38-bed0-e3c1f03eabc0",
   "metadata": {},
   "outputs": [],
   "source": [
    "all(x < 5 for x in zwei)\n",
    "[x < 5 for x in zwei]"
   ]
  },
  {
   "cell_type": "markdown",
   "id": "592f14e2-a08b-4938-83a9-5b75a3d67bf6",
   "metadata": {},
   "source": [
    "<b>Aufgabe</b> \n",
    "\n",
    "Vergleichen Sie die Notationen für quantifizierte Aussagen und Mengen in der Mathematik und in Python. Welche Bestandteile kommen vor? Wie ist die Reihenfolge? Beispiele:\n",
    "\n",
    "$\\{ x : x \\in \\{0, 1, ...,10\\} \\mid x : 2 > 3\\}$\n",
    "\n",
    "$\\exists(x \\in \\{0, 1, ...,10\\} \\mid x : 2 > 3)$"
   ]
  },
  {
   "cell_type": "code",
   "execution_count": null,
   "id": "a05b8441-b9fa-4bb2-a5f2-bd10e58f5d6a",
   "metadata": {},
   "outputs": [],
   "source": [
    "{x for x in range(0,11) if x/2 > 3}\n",
    "any(x/2 > 3 for x in range(0,11))"
   ]
  },
  {
   "cell_type": "markdown",
   "id": "3c5209a3-a06b-4ebc-b58b-cdfd7806b175",
   "metadata": {},
   "source": [
    "<h2>6.5 Negation quantifizierter Aussagen</h2>\n",
    "\n",
    "Die Negation von quantifizierten Aussagen ähnelt den de-Morgan'schen Regeln:\n",
    "\n",
    "<div style='background-color: lightgray'>\n",
    "$\\lnot\\forall(x \\in M \\mid P(x)) \\Leftrightarrow \\exists (x\\in M |\\lnot P(x))$<br>\n",
    "$\\lnot\\exists(x \\in M \\mid P(x)) \\Leftrightarrow \\forall (x\\in M |\\lnot P(x))$\n",
    "</div>\n",
    "\n",
    "da sich die Zeichen ($\\forall$ und $\\exists$) umändern und die Negation in den geklammerten\n",
    "Ausdruck hineingezogen wird."
   ]
  },
  {
   "cell_type": "code",
   "execution_count": null,
   "id": "871287ec-8bfa-456d-b806-f5b61b399dc9",
   "metadata": {},
   "outputs": [],
   "source": []
  }
 ],
 "metadata": {
  "kernelspec": {
   "display_name": "Python 3 (ipykernel)",
   "language": "python",
   "name": "python3"
  },
  "language_info": {
   "codemirror_mode": {
    "name": "ipython",
    "version": 3
   },
   "file_extension": ".py",
   "mimetype": "text/x-python",
   "name": "python",
   "nbconvert_exporter": "python",
   "pygments_lexer": "ipython3",
   "version": "3.10.8"
  }
 },
 "nbformat": 4,
 "nbformat_minor": 5
}
