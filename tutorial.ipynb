{
 "cells": [
  {
   "cell_type": "code",
   "execution_count": null,
   "id": "133e0511-d479-4ff0-9cb8-75550097879d",
   "metadata": {},
   "outputs": [],
   "source": [
    "from utils.discrstruct import *\n",
    "from sympy import EmptySet, FiniteSet, Symbol, PowerSet, Naturals0"
   ]
  },
  {
   "cell_type": "markdown",
   "id": "a2f6e503-30bf-44c4-b18e-62c9299a921f",
   "metadata": {
    "tags": []
   },
   "source": [
    "<h1>Python Tutorial (für Diskrete Strukturen)</h1>\n",
    "\n",
    "Diese Übungen sind als Jupyter-Notebook erstellt. Die Felder, bei denen links <b>[..]:</b> steht, können Sie ausführen. Klicken Sie dazu in das Feld und dann <b>SHIFT-ENTER</b>. Das allererste Feld jedes Notebooks dieses Kurses lädt Definitionen und Bibliotheken, die benötigt werden. Sie müssen das jedes Mal ausführen, wenn Sie das Notebook verwenden. Klicken Sie jetzt also in das obige Feld und tippen Sie dann <b>SHIFT-ENTER</b>.\n",
    "\n",
    "Sie können die Notebooks selber editieren. Mit <b>ESC a m</b> können Sie ein Feld für Notizen über dem derzeit aktiven Feld erstellen. Wenn Sie versehentlich ein Feld löschen, gibt es ein Undo unter Edit. Eventuell ist es sinnvoll, wenn Sie das Notebook erst unter einem neuen Namen speichern, bevor Sie es editieren, damit Sie die ursprüngliche Version auch noch haben.\n",
    "\n",
    "<b>Falls Sie etwas eingeben, dass einen Fehler erzeugt, so dass das Notebook anschließend nicht mehr reagiert, klicken Sie auf Kernel - Interrupt Kernel</b>"
   ]
  },
  {
   "cell_type": "markdown",
   "id": "ceba26be-fc55-4fe0-b664-c20c11958eb0",
   "metadata": {
    "tags": []
   },
   "source": [
    "Nach jedem Abschnitt finden Sie einige Beispiele zum Ausprobieren. Python wird in diesem Kurs verwendet um mathematische Inhalte mit einem Computer überprüfen zu können. Umlaute im Code funktionieren eventuell nicht und sollten besser vermieden werden. Kommentare beginnen mit dem Zeichen #."
   ]
  },
  {
   "cell_type": "markdown",
   "id": "88d2c19b-a5c6-4288-8266-89c3423e8bec",
   "metadata": {
    "tags": []
   },
   "source": [
    "<h1>Tutorial Teil 1</h1>\n",
    "<h2>1.1 Zuweisung und Variable</h2>\n",
    "\n",
    "Variablen dienen dazu bestimmte Werte oder Ergebnisse aus Berechnungen für die spätere Verwendung zu speichern. Um Variablen Werte zuzuweisen, stellt Python den Zuweisungsoperator\n",
    "    <span class=\"code\">=</span> bereit. Variablennamen in Python beginnen immer mit einem Buchstaben oder einem Unterstrich, auf den Buchstaben, Zahlen oder Unterstriche folgen können. Um sich den Wert einer Variablen (oder einer Aussage) anzuschauen, schreiben Sie die Variable (oder die Aussage) einzeln in eine Zeile. Führen Sie das Feld mit <b>SHIFT-ENTER</b> aus. "
   ]
  },
  {
   "cell_type": "code",
   "execution_count": null,
   "id": "509b0092-e67b-42db-97c8-d8ecfd509851",
   "metadata": {},
   "outputs": [],
   "source": [
    "# Hier werden Variablen definiert\n",
    "a = 25;\n",
    "b = a - 20;\n",
    "c = 5/7;\n",
    "C = b - a;\n",
    "text_1 = \"Hello World\";\n",
    "# Eine Zeile, die nur eine Variable enthält,\n",
    "# zeigt den Wert der Variablen an\n",
    "a\n",
    "b\n",
    "c\n",
    "C\n",
    "text_1"
   ]
  },
  {
   "cell_type": "markdown",
   "id": "cc0106f2-80bf-4b99-a5e1-a145df9c7928",
   "metadata": {},
   "source": [
    "<h2>1.2 Arithmetische Operatoren</h2>\n",
    "\n",
    "Python stellt die folgenden arithmetischen Operatoren bereit: \n",
    "\n",
    "<table cellpadding=\"5\" border=\"1\">\n",
    "    <tbody>\n",
    "        <tr>\n",
    "            <td class=\"code\">+</td>\n",
    "            <td>Addition</td>\n",
    "        </tr>\n",
    "        <tr>\n",
    "            <td class=\"code\">-</td>\n",
    "            <td>Subtraktion</td>\n",
    "        </tr>\n",
    "        <tr>\n",
    "            <td class=\"code\">*</td>\n",
    "            <td>Multiplikation</td>\n",
    "        </tr>\n",
    "        <tr>\n",
    "            <td class=\"code\">**</td>\n",
    "            <td>Potenz</td>\n",
    "        </tr>\n",
    "        <tr>\n",
    "            <td class=\"code\">/</td>\n",
    "            <td>Division</td>\n",
    "        </tr>\n",
    "        <tr>\n",
    "            <td class=\"code\">//</td>\n",
    "            <td>ganzzahlige Division</td>\n",
    "        </tr>\n",
    "        <tr>\n",
    "            <td class=\"code\">%</td>\n",
    "            <td>Modulus</td>\n",
    "        </tr>\n",
    "    </tbody>\n",
    "</table>\n",
    "\n",
    "Probieren Sie diese Operatoren selbst einmal aus. Hier einige Anregungen: "
   ]
  },
  {
   "cell_type": "code",
   "execution_count": null,
   "id": "e9e794a9-5355-4733-9e32-39afbede8ae5",
   "metadata": {},
   "outputs": [],
   "source": [
    "3 + 5\n",
    "3*5 + 5*6\n",
    "3/5 + 5/6\n",
    "3//5 + 5//6\n",
    "\"Modulo:\"\n",
    "17 % 8\n",
    "3%5 + 5%6\n",
    "\"Potenzen:\"\n",
    "2**8\n",
    "2**3**4\n",
    "2*(3+4)**2"
   ]
  },
  {
   "cell_type": "markdown",
   "id": "1c2cc0ad-4998-4b0e-9444-56bca2b83c1b",
   "metadata": {
    "tags": []
   },
   "source": [
    "<h3>Aufgabe: Ganzzahlige Division</h3>\n",
    "45 soll ganzzahlig durch 6 geteilt werden. Welchen der Operatoren /, // oder % brauchen Sie dafür? Was ist der Unterschied zwischen den 3 Operatoren? Probieren Sie es aus:\n"
   ]
  },
  {
   "cell_type": "code",
   "execution_count": null,
   "id": "64d7bbcb-0d4a-4a03-9c19-a7317f63199d",
   "metadata": {},
   "outputs": [],
   "source": [
    "TODO"
   ]
  },
  {
   "cell_type": "markdown",
   "id": "9918ac96-3450-4378-80da-9a889f25e911",
   "metadata": {},
   "source": [
    "<h2>1.3 Vergleichsoperatoren</h2>\n",
    "Werte können verglichen werden, z.B. \"$2^3$ ist kleiner als $3^2$\" oder \"47 + 11 ist gleich  29 * 2\". Um derartige Aussagen in Python formulieren zu können, stehen folgende Operatoren zur Verfügung:\n",
    "\n",
    "<table cellpadding=\"5\" border=\"1\">\n",
    "    <tbody>\n",
    "        <tr>\n",
    "            <td class=\"code\">==</td>\n",
    "            <td>Gleich<br></td>\n",
    "        </tr>\n",
    "        <tr>\n",
    "            <td class=\"code\">!=</td>\n",
    "            <td>Ungleich</td>\n",
    "        </tr>\n",
    "        <tr>\n",
    "            <td class=\"code\">&gt;</td>\n",
    "            <td>Größer</td>\n",
    "        </tr>\n",
    "        <tr>\n",
    "            <td class=\"code\">&gt;=</td>\n",
    "            <td>Größer gleich</td>\n",
    "        </tr>\n",
    "        <tr>\n",
    "            <td class=\"code\">&lt;</td>\n",
    "            <td>Kleiner</td>\n",
    "        </tr>\n",
    "        <tr>\n",
    "            <td class=\"code\">&lt;=</td>\n",
    "            <td>Kleiner gleich</td>\n",
    "        </tr>\n",
    "    </tbody>\n",
    "</table>\n",
    "\n",
    "Diese Operatoren liefern als Ergebnis immer einen Wahrheitswert, also entweder <span class=\"code\">True</span> oder <span class=\"code\">False</span>.\n",
    "\n",
    "Probieren Sie diese Operatoren selbst einmal aus. Hier einige Anregungen:"
   ]
  },
  {
   "cell_type": "code",
   "execution_count": null,
   "id": "178399b5-68c6-4298-8ec9-6cd1a2faeb60",
   "metadata": {},
   "outputs": [],
   "source": [
    "2**3 < 3**2\n",
    "47 + 11 == 58\n",
    "47 + 11 == 29 * 2\n",
    "47 + 11 == 4711"
   ]
  },
  {
   "cell_type": "markdown",
   "id": "49fba537-cfc6-4445-8699-dfe1e69f59b7",
   "metadata": {},
   "source": [
    "<h2>1.4 Klammern sind wichtig</h2>"
   ]
  },
  {
   "cell_type": "markdown",
   "id": "7e162d63-8ca4-46a3-812b-db5f2b126c19",
   "metadata": {},
   "source": [
    "Überlegen Sie sich zunächst, was das Ergebnis sein wird, und probieren Sie es dann aus:"
   ]
  },
  {
   "cell_type": "code",
   "execution_count": null,
   "id": "e7b8d595-652a-4ca1-a6f1-f7ffa506ffcb",
   "metadata": {},
   "outputs": [],
   "source": [
    "1 + 2 * 3 + 4\n",
    "1 + (2 * 3) + 4\n",
    "(1 + 2) * (3 + 4)\n",
    "2**3 + 1\n",
    "2**(3 + 1)"
   ]
  },
  {
   "cell_type": "markdown",
   "id": "fd6111ec-c948-4e67-bde5-605d9413a376",
   "metadata": {},
   "source": [
    "<h2>1.5 Funktionen</h2>\n",
    "\n",
    "Auch Funktionen lassen sich in Python programmieren. (Vermutlich kennen Sie Funktionen schon aus der Schule. Funktionen werden in ein paar Wochen noch genauer behandelt.) Eine Funktion, die zu jedem Element einer Menge 1 hinzuaddiert, könnte beispielsweise so aussehen: "
   ]
  },
  {
   "cell_type": "code",
   "execution_count": null,
   "id": "3b6038ab-8965-4e86-bb27-255746a32955",
   "metadata": {},
   "outputs": [],
   "source": [
    "def addiere1(a):\n",
    "     return a + 1\n",
    "addiere1(42)"
   ]
  },
  {
   "cell_type": "markdown",
   "id": "01b2cb46-7e9e-41ea-a455-534ed917e008",
   "metadata": {},
   "source": [
    "Schreiben Sie entsprechend eine Funktion <i> subtrahiere1</i>"
   ]
  },
  {
   "cell_type": "code",
   "execution_count": null,
   "id": "09b15994-7744-48b0-945f-afdc88eb515a",
   "metadata": {},
   "outputs": [],
   "source": [
    "TODO"
   ]
  },
  {
   "cell_type": "markdown",
   "id": "e9b0c1f4-1a90-4589-8a34-c2990eb2dbe6",
   "metadata": {},
   "source": [
    "Hinweis: Eine Funktion muss immer mit passenden Parametern aufgerufen werden! Die Eingabe von zwei Parametern führt in diesem Beispiel zu einer Fehlermeldung."
   ]
  },
  {
   "cell_type": "code",
   "execution_count": null,
   "id": "88df0a4f-fb0f-4c73-8417-32ea956d9b05",
   "metadata": {},
   "outputs": [],
   "source": [
    "addiere1(2,3)"
   ]
  },
  {
   "cell_type": "markdown",
   "id": "a80b4dd3-e862-4960-ab13-5c541c37e88c",
   "metadata": {},
   "source": [
    "<h2>1.6 Übungsaufgaben</h2>\n",
    "\n",
    "1) Schreiben Sie eine Formel für diese Berechnung: \n",
    "\n",
    "Addieren Sie 3 zu einer Zahl. Multiplizieren Sie mit 2. Ziehen Sie 4 ab. Ziehen Sie zweimal die ursprüngliche Zahl ab. Addieren Sie 3.\n",
    "\n",
    "Tipp: das Ergebnis muss immer 5 sein.\n",
    "\n",
    "2) Was passiert, wenn Sie den Modulus von negativen Zahlen berechnen? Können Sie sich die Werte erklären?\n",
    "\n",
    "3) Schreiben Sie (auf Papier) eine Formel, die eine Zahl als Summe einer ganzzahligen Division multipliziert mit dem Teiler + Rest darstellt. Überprüfen Sie Ihre Formel dann mit Python.\n",
    "\n",
    "4) Schreiben Sie eine Funktion, die die Formel aus 1) berechnet und überprüfen Sie damit das Ergebnis für verschiedene Werte.\n",
    "\n",
    "5) Schreiben Sie eine Funktion, die den Durchschnitt aus 5 Zahlen berechnet.\n",
    "\n",
    "6) Schreiben Sie eine Funktion, die Prozent berechnet. Z.B <i>prozent(5,80)</i> soll 5% von 80 berechnen."
   ]
  },
  {
   "cell_type": "code",
   "execution_count": null,
   "id": "afb6087f-d920-446d-8559-abb349a2089a",
   "metadata": {},
   "outputs": [],
   "source": [
    "TODO"
   ]
  },
  {
   "cell_type": "markdown",
   "id": "bc0fe638-7a69-46bd-9424-31d1632a7283",
   "metadata": {
    "tags": []
   },
   "source": [
    "<h1>Teil 2: Logik</h1>\n",
    "\n",
    "Dieser Teil des Tutorials gehört zu Kapitel 2 des Lehrbuchs."
   ]
  },
  {
   "cell_type": "markdown",
   "id": "9f45f3e2-f5af-4948-9c1e-c819fc5832f0",
   "metadata": {},
   "source": [
    "<h2>2.1 Aussagenlogische Operatoren</h2>\n",
    "\n",
    "In Python stehen die aussagenlogischen Operatoren <b>and</b>, <b>or</b> und <b>not</b> zur Verfügung. Der Operator \"-s>>\" (für \"$\\rightarrow$\") funktioniert nur in diesem Kurs. Das mathematische \"$\\leftrightarrow$\" und das mathematische \"$=$\" werden in Python nicht unterschieden und beide durch \"==\" dargestellt.</p>\n",
    "<table cellpadding=\"5\" border=\"1\">\n",
    "    <tbody>\n",
    "        <tr>\n",
    "            <td>not</td>\n",
    "            <td>Negation, $\\lnot$ </td>\n",
    "        </tr>\n",
    "        <tr>\n",
    "            <td>and</td>\n",
    "            <td>Konjunktion, $\\land$</td>\n",
    "        </tr>\n",
    "        <tr>\n",
    "            <td>or</td>\n",
    "            <td>Disjunktion, $\\lor$ </td>\n",
    "        </tr>\n",
    "        <tr>\n",
    "            <td>-s>> (oder &lt;=)</td>\n",
    "            <td>Subjunktion, $\\rightarrow$ (\"Wenn ..., dann ...\")</td>\n",
    "        </tr>\n",
    "        <tr>\n",
    "            <td>==</td>\n",
    "            <td>Bijunktion, $\\leftrightarrow$ (\"... genau dann, wenn ...\")</td>\n",
    "        </tr>\n",
    "    </tbody>\n",
    "</table>\n",
    "\n",
    "Diese Operatoren sind für Elemente von Zahlenmengen nicht definiert, stattdessen erwarten sie Wahrheistwerte (True oder False)."
   ]
  },
  {
   "cell_type": "code",
   "execution_count": null,
   "id": "6a9b997d-42e9-4d9c-bbc3-9e0a892d1511",
   "metadata": {},
   "outputs": [],
   "source": [
    "True and False\n",
    "True or not False\n",
    "True and (True or False)\n",
    "not(True and False)\n",
    "\"Subjunktion und Bijunktion:\"\n",
    "True -s>> False\n",
    "True == False\n",
    "(5 < 4) -s>> (4 < 5)\n",
    "(5 < 4) == (3 == 4)"
   ]
  },
  {
   "cell_type": "markdown",
   "id": "89b9875a-d190-4c44-a30e-fbd61b97b46d",
   "metadata": {
    "tags": []
   },
   "source": [
    "<h1>Teil 3: Mengen </h1>\n",
    "\n",
    "Dieser Teil des Tutorials gehört zu Kapitel 5 des Lehrbuchs."
   ]
  },
  {
   "cell_type": "markdown",
   "id": "75eda9f1-670a-4862-8254-f7b108efe43c",
   "metadata": {},
   "source": [
    "<h2>3.1 Mengenoperatoren</h2>\n",
    "Man kann in Python Mengen mit <b>{...}</b> definieren, kann solche Mengen aber nicht verschachteln. Daher ist es besser Mengen mit <b>FiniteSet()</b> zu definieren.\n",
    "\n",
    "<table cellpadding=\"5\" border=\"1\">\n",
    "        <tr>\n",
    "            <td>in</td>\n",
    "            <td>Element in Menge</td></tr>\n",
    "        <tr>\n",
    "            <td>| oder +</td>\n",
    "            <td>Vereinigung</td></tr>\n",
    "        <tr>\n",
    "            <td>&</td>\n",
    "            <td>Schnittmenge</td></tr>\n",
    "        <tr>\n",
    "            <td>-</td>\n",
    "            <td>Differenz</td></tr>\n",
    "        <tr>\n",
    "            <td>len(...)</td>\n",
    "            <td>Kardinalität (Anzahl der Elemente)</td></tr>\n",
    "        <tr>\n",
    "            <td>==</td>\n",
    "            <td>Gleich</td></tr>\n",
    "        <tr>\n",
    "            <td>!=</td>\n",
    "            <td>Ungleich</td></tr>\n",
    "        <tr>\n",
    "            <td>&lt;=</td>\n",
    "            <td>Teilmenge (auch &gt;= für Obermenge)</td></tr>\n",
    "        <tr>\n",
    "            <td>&lt;</td>\n",
    "            <td>echte Teilmenge (auch &gt; für echte Obermenge)</td></tr>\n",
    "         <tr>\n",
    "            <td>*</td>\n",
    "            <td>kartesisches Produkt</td></tr>\n",
    "         <tr>\n",
    "            <td>PowerSet(...)</td>\n",
    "            <td>Potenzmenge</td></tr>\n",
    "    \n",
    "</table>\n",
    "Wenn nur eine Formel angezeigt wird anstatt des Ergebnis, kann man <b>set()</b> verwenden, um die Elemente angezeigt zu bekommen."
   ]
  },
  {
   "cell_type": "code",
   "execution_count": null,
   "id": "288ac427-d109-4026-8e98-24d5f7262525",
   "metadata": {},
   "outputs": [],
   "source": [
    "A = FiniteSet(1,2)\n",
    "B = FiniteSet(3, FiniteSet(4))\n",
    "C = FiniteSet(1,2,7)\n",
    "\"Hier beginnt der Output:\"\n",
    "A | B\n",
    "A <= C\n",
    "3 in A\n",
    "A != B\n",
    "len(A)\n",
    "set(A * C)\n",
    "set(PowerSet(A))"
   ]
  },
  {
   "cell_type": "markdown",
   "id": "1af9ef21-361d-41b0-b1f8-c0688efd8368",
   "metadata": {},
   "source": [
    "<h2>3.2 Listen</h2>\n",
    "\n",
    "Im Unterschied zur Mathematik werden in Programmiersprachen eher Listen anstatt Mengen verwendet, da Listen eine festgelegte Reihenfolge der Elemente haben, Mengen aber nicht. Listen werden in Python zumeist mit eckigen Klammern geschrieben (zB. [1,2,3]),\n",
    "manchmal aber auch mit runden (zB (3,40,5,10)) -- der Unterschied ist hier nicht wichtig. In der Mathematik werden Listen meist mit runden Klammern geschrieben (im Lehrbuch aber mit eckigen Klammern). Sie kennen diese Schreibweise vermutlich schon von Vektoren. Listen aufeinanderfolgender Zahlen können mit <b>list(range(...))</b> erzeugt werden. Mengen können mit <b>list(...)</b> in Listen umgewandelt werden."
   ]
  },
  {
   "cell_type": "code",
   "execution_count": null,
   "id": "f60c45c6-70a1-4031-bd21-77368b57f509",
   "metadata": {},
   "outputs": [],
   "source": [
    "[0, 1, 2, 3, 4, 5, 6, 7, 8]\n",
    "\"Eine Liste der Zahlen von 0 bis 9-1:\" \n",
    "list(range(0,9))\n",
    "FiniteSet(3,4)\n",
    "list(FiniteSet(3,4))"
   ]
  },
  {
   "cell_type": "markdown",
   "id": "65b9999b-df9b-4fe5-b4c1-23da996aa277",
   "metadata": {},
   "source": [
    "Listen können auch in Mengen umgewandelt werden. Dafür wird die Schreibweise <b>FiniteSet(*[...])</b> verwendet."
   ]
  },
  {
   "cell_type": "code",
   "execution_count": null,
   "id": "4c1d0092-557f-4fb5-b8d2-b32e529f310b",
   "metadata": {},
   "outputs": [],
   "source": [
    "list(range(0,9))\n",
    "FiniteSet(*range(0,9))\n",
    "FiniteSet(*[0, 1, 2, 3, 4, 5, 6, 7, 8])"
   ]
  },
  {
   "cell_type": "markdown",
   "id": "cb0ecd1e-f403-4fbb-a98e-42074f704345",
   "metadata": {},
   "source": [
    "<h2>3.3 Mengenkonstruktoren</h2>"
   ]
  },
  {
   "cell_type": "markdown",
   "id": "cf507615-a980-43d3-91b4-459820dc1d7c",
   "metadata": {},
   "source": [
    "Anstatt alle Elemente einer Liste oder Menge aufzuzählen, können diese auch durch Angabe einer Grundmenge und einem logischen Ausdruck konstruiert werden. Die Notation in Python ähnelt dabei der in der Mathematik üblichen Notation. Für Mengen wird dies auch als <i>Set Comprehension</i> oder <i>Set Builder</i> Notation bezeichnet."
   ]
  },
  {
   "cell_type": "code",
   "execution_count": null,
   "id": "a7d2c764-07e0-4d30-8fa0-e33bc3d39219",
   "metadata": {},
   "outputs": [],
   "source": [
    "\"Listen:\"\n",
    "[x for x in range(-10,11)]\n",
    "[x for x in range(-10,11) if 2*x >= 3 and x-1 <= 6]\n",
    "[[x,y] for x in range(0,3) for y in range(0,3)]\n",
    "[x*y for x in range(0,3) for y in range(0,3) if x+y > 2]\n",
    "[w for w in FiniteSet(True,False)**2]\n",
    "\"Liste von Mengen:\"\n",
    "[FiniteSet(x,y) for x in range(-1,2) for y in range(-1,2) if x<y]\n",
    "\"Mengen:\"\n",
    "FiniteSet(*[x for x in range(-10,11)])\n",
    "FiniteSet(*[set for set in PowerSet(FiniteSet(1,2,3)) if 3 in set])"
   ]
  },
  {
   "cell_type": "markdown",
   "id": "6e4e6cdc-9576-40a8-9496-f0c9e8d3bb97",
   "metadata": {},
   "source": [
    "<h2>3.3 Übungsaufgaben</h2>\n",
    "\n",
    "Übersetzen Sie die folgenden mathematisch notierten Mengenkonstruktoren nach Python:\n",
    "\n",
    "$\\{x : x \\in \\{0,1,2,3,4\\} \\mid x \\mbox{ mod } 3 = 1\\}$\n",
    "\n",
    "$\\{x + 4 : x \\in \\{0,2,4,6,8\\}\\}$"
   ]
  },
  {
   "cell_type": "code",
   "execution_count": null,
   "id": "263f09a3-160b-442e-8d3b-efdc3fdfa8e7",
   "metadata": {},
   "outputs": [],
   "source": [
    "TODO"
   ]
  },
  {
   "cell_type": "markdown",
   "id": "2085430c-a15f-495e-ad31-bd98d7cd7bee",
   "metadata": {},
   "source": [
    "<h1>Teil 4: Quantifizierte logische Aussagen </h1>\n",
    "\n",
    "Dieser Teil des Tutorials gehört zu Kapitel 6 des Lehrbuchs."
   ]
  },
  {
   "cell_type": "markdown",
   "id": "7e198b08-de1d-49e3-9012-c0ddb780c877",
   "metadata": {},
   "source": [
    "In Python ist die Reihenfolge der Ausdrücke hinter einem Quantor im Vergleich zur Mathematik vertauscht. In der Mathematik schreibt man <b>$\\forall$ (MENGE $\\mid$ AUSSAGEFORM)</b>. In Python entspricht das <b>all(AUSSAGEFORM for MENGE)</b>. Zum Beispiel entspricht $\\forall (x \\in \\{0, 1, ..., 5\\} \\mid x < 5 )$ in Python: <i>all(x < 5 for x in range(0,6))</i>. Sprachlich könnte das erste als \"Für alle x in $\\{0, 1, ..., 5\\}$ gilt, x kleiner 5\" und das zweite als \"x kleiner 5, gilt für alle x in $\\{0, 1, ..., 5\\}$\" dargestellt werden."
   ]
  },
  {
   "cell_type": "code",
   "execution_count": null,
   "id": "7c28a65f-cc8e-4238-bea4-eadcecf93979",
   "metadata": {},
   "outputs": [],
   "source": [
    "all(x < 5 for x in range(0,7))"
   ]
  },
  {
   "cell_type": "markdown",
   "id": "8c5c203c-8d77-45e1-a80f-63adc65c96b6",
   "metadata": {},
   "source": [
    "Auch geschachtelte Quantoren lassen sich konstruieren. Die mathematischen Aussagen\n",
    "$\\forall (y \\in \\{3,4,5\\} \\mid \\exists (x \\in \\{1,5,6\\} \\mid y > x ))$<br>\n",
    "$\\forall (y \\in \\{3,4,5\\} \\mid \\exists (x \\in \\{4,5,6\\} \\mid y > x ))$<br>\n",
    "$\\forall (y \\in \\{3,4,5\\} \\mid \\forall (x \\in \\{1,5,6\\} \\mid y > x ))$<br>\n",
    "werden in Python so dargestellt:"
   ]
  },
  {
   "cell_type": "code",
   "execution_count": null,
   "id": "bc78a753-4930-4a9e-94d6-1852664f57ed",
   "metadata": {},
   "outputs": [],
   "source": [
    "all(any(y > x for x in FiniteSet(1,5,6)) for y in FiniteSet(3,4,5))\n",
    "all(any(y > x for x in FiniteSet(4,5,6)) for y in FiniteSet(3,4,5))\n",
    "all(all(y > x for x in FiniteSet(1,5,6)) for y in FiniteSet(3,4,5))"
   ]
  },
  {
   "cell_type": "markdown",
   "id": "9a4ee415-6699-4e8e-82fa-2f4a2987b1e6",
   "metadata": {},
   "source": [
    "Gleiche Quantoren kann man auch zusammenfassen:"
   ]
  },
  {
   "cell_type": "code",
   "execution_count": null,
   "id": "0770c9fc-e794-4914-8170-d75ff441f20c",
   "metadata": {},
   "outputs": [],
   "source": [
    "all(y > x for x in FiniteSet(1,5,6) for y in FiniteSet(3,4,5))"
   ]
  },
  {
   "cell_type": "markdown",
   "id": "989cd9b6-4179-48b2-9e41-702cefba7e32",
   "metadata": {},
   "source": [
    "Sie können sich die einzelnen Werte dabei auch folgendermaßen anschauen. Dabei muss für \"all(any(...))\" in <b>jedem</b> inneren Tupel <b>ein</b> True vorkommen. Für \"all(all(...))\" müssen in <b>jedem</b> inneren Tupel <b>alle</b> Werte True sein. Und so weiter."
   ]
  },
  {
   "cell_type": "code",
   "execution_count": null,
   "id": "58abb61d-2d71-4469-bd71-6bb95d9f00a2",
   "metadata": {},
   "outputs": [],
   "source": [
    "[[y > x for x in FiniteSet(1,5,6)] for y in FiniteSet(3,4,5)]\n",
    "[[y > x for x in FiniteSet(4,5,6)] for y in FiniteSet(3,4,5)]\n",
    "[y > x for x in FiniteSet(4,5,6) for y in FiniteSet(3,4,5)]"
   ]
  },
  {
   "cell_type": "code",
   "execution_count": null,
   "id": "a33adfb8-c418-4e41-a452-94ce48aa9b8b",
   "metadata": {},
   "outputs": [],
   "source": []
  }
 ],
 "metadata": {
  "kernelspec": {
   "display_name": "Python 3 (ipykernel)",
   "language": "python",
   "name": "python3"
  },
  "language_info": {
   "codemirror_mode": {
    "name": "ipython",
    "version": 3
   },
   "file_extension": ".py",
   "mimetype": "text/x-python",
   "name": "python",
   "nbconvert_exporter": "python",
   "pygments_lexer": "ipython3",
   "version": "3.10.8"
  }
 },
 "nbformat": 4,
 "nbformat_minor": 5
}
