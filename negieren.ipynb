{
 "cells": [
  {
   "cell_type": "code",
   "execution_count": null,
   "id": "9d4449b4-d409-4927-a7b6-9fd139e324a7",
   "metadata": {},
   "outputs": [],
   "source": [
    "from utils.discrstruct import *\n",
    "from definitions import *"
   ]
  },
  {
   "cell_type": "markdown",
   "id": "bce79fb3-71bc-408e-a8a2-a38ee37de4c4",
   "metadata": {},
   "source": [
    "<h2>Negieren sprachlicher Sätze</h2>\n",
    "\n",
    "1) Die Sonne scheint und es regnet.\n",
    "\n",
    "Formale Modellierung: <b>S and R</b>\n",
    "\n",
    "Welches ist die richtige Negation:\n",
    "\n",
    "<ul>\n",
    "    <li> Die Sonne scheint nicht und es regnet nicht. <b>not S and not R</b>\n",
    "    <li>Es scheint weder die Sonne noch es regnet. <b>not S and not R</b>\n",
    "    <li>Die Sonne scheint nicht oder es regnet nicht. <b>not S or not R</b>\n",
    "    <li>Entweder die Sonne scheint nicht oder es regnet nicht. <b> (S and not R) or (not S and R)</b>\n",
    "        </ul>\n",
    "        \n",
    "Wenn Sie sich nicht sicher sind, können Sie sich die zugehörigen Wahrheitstabellen ansehen. Die Ergebnisspalte der Wahrheitstabelle der Negation enthält genau dann False, wenn der ursprüngliche Wert True war und True, wenn der usprüngliche Wert False war."
   ]
  },
  {
   "cell_type": "code",
   "execution_count": null,
   "id": "b90992e5-5bb4-43ba-9f46-8864ee1f31ee",
   "metadata": {},
   "outputs": [],
   "source": [
    "printtable(\"S and R\")"
   ]
  },
  {
   "cell_type": "code",
   "execution_count": null,
   "id": "1e9f245d-339f-4415-8eee-17ee0988faf9",
   "metadata": {},
   "outputs": [],
   "source": [
    "printtable(\"...\")"
   ]
  },
  {
   "cell_type": "markdown",
   "id": "7c73dcdf-0b9e-4bc2-a8d9-3f489b924068",
   "metadata": {},
   "source": [
    "2. Wenn die Sonne scheint, dann regnet es nicht.\n",
    "\n",
    "Formale Modellierung: <b>S -s>> not R</b>\n",
    "\n",
    "<ul>\n",
    "    <li>Wenn die Sonne nicht scheint, dann regnet es. <b>not S -s>> R</b>\n",
    "    <li>Wenn es regnet, dann scheint die Sonne nicht. <b>R -s>> not S</b>\n",
    "     <li>Die Sonne scheint nicht oder es regnet nicht. <b>not S or not R</b> \n",
    "    <li>Die Sonne scheint und es regnet. <b>S and R</b>     "
   ]
  },
  {
   "cell_type": "code",
   "execution_count": null,
   "id": "5bd0ab7f-e15b-4e9b-9eeb-cf24a5234dcd",
   "metadata": {},
   "outputs": [],
   "source": [
    "printtable(\"S -s>> not R\")"
   ]
  },
  {
   "cell_type": "code",
   "execution_count": null,
   "id": "6a808333-1443-49b7-a181-8a824383c46b",
   "metadata": {},
   "outputs": [],
   "source": [
    "printtable(\"...\")"
   ]
  },
  {
   "cell_type": "markdown",
   "id": "e303fce7-ff83-47d5-a098-44e0ea3a0a44",
   "metadata": {},
   "source": [
    "Negieren Sie die folgenden Sätze:\n",
    "\n",
    "3. Er kommt zu spät oder gar nicht. <b>S or not G</b>\n",
    "4. Entweder sie trinkt Tee oder Kaffee. <b>(T and not K) or (not T and K)</b>\n",
    "5. Genau dann wenn Sie 2000 geboren wurden, sind Sie 23 Jahre alt. <b>(G and J) or (not G and not J)</b>"
   ]
  },
  {
   "cell_type": "code",
   "execution_count": null,
   "id": "96716ed2-317f-4427-8243-24734053041f",
   "metadata": {},
   "outputs": [],
   "source": [
    "printtable(\"...\")"
   ]
  },
  {
   "cell_type": "code",
   "execution_count": null,
   "id": "37b7d93b-b9e2-4f91-a188-47fae5573ab8",
   "metadata": {},
   "outputs": [],
   "source": []
  }
 ],
 "metadata": {
  "kernelspec": {
   "display_name": "Python 3 (ipykernel)",
   "language": "python",
   "name": "python3"
  },
  "language_info": {
   "codemirror_mode": {
    "name": "ipython",
    "version": 3
   },
   "file_extension": ".py",
   "mimetype": "text/x-python",
   "name": "python",
   "nbconvert_exporter": "python",
   "pygments_lexer": "ipython3",
   "version": "3.10.8"
  }
 },
 "nbformat": 4,
 "nbformat_minor": 5
}
