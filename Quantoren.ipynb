{
 "cells": [
  {
   "cell_type": "code",
   "execution_count": null,
   "id": "7f4071a9-9dc5-48d8-872c-1a1f4dd684f9",
   "metadata": {},
   "outputs": [],
   "source": [
    "from utils.discrstruct import *\n",
    "from sympy import EmptySet, FiniteSet, PowerSet"
   ]
  },
  {
   "cell_type": "markdown",
   "id": "a4459e64-5d68-4885-803c-5bf925222d96",
   "metadata": {},
   "source": [
    "<b>Quantoren in Python</b>\n",
    "\n",
    "$\\forall (x \\in \\{0, 1, ..., 5\\} \\mid x < 5 )$ entspricht <i>all(x < 5 for x in range(0,6))</i> und $\\exists (x \\in \\{0, 1, ..., 5\\} \\mid x < 5 )$ entspricht <i>any(x < 5 for x in range(0,6))</i> in Python. Überlegen Sie sich für die folgenden Beispiele erst, was herauskommt, bevor Sie es ausführen:"
   ]
  },
  {
   "cell_type": "code",
   "execution_count": null,
   "id": "fbf10036-80c5-419e-8da6-bbdab3e47bda",
   "metadata": {},
   "outputs": [],
   "source": [
    "zahl = FiniteSet(1,2,3,4,5,6,7,8,9,10)\n",
    "gerade = FiniteSet(2,4,6,8,10)\n",
    "ungerade = FiniteSet(1,3,5,7,9)\n",
    "eins = FiniteSet(17)\n",
    "zwei = FiniteSet(2,3)\n",
    "all(x < 5 for x in zwei)\n",
    "all(x < 5 for x in zahl)\n",
    "any(x < 5 for x in zahl)\n",
    "all(x != y for x in gerade for y in ungerade)"
   ]
  },
  {
   "cell_type": "markdown",
   "id": "b0d2db6c-e0b8-434d-a97a-e95c23b02be5",
   "metadata": {},
   "source": [
    "Zur Überprüfung können Sie sich auch Einzelergebnisse anschauen:"
   ]
  },
  {
   "cell_type": "code",
   "execution_count": null,
   "id": "a78383b4-d4d7-4b38-bed0-e3c1f03eabc0",
   "metadata": {},
   "outputs": [],
   "source": [
    "all(x < 5 for x in zwei)\n",
    "[x < 5 for x in zwei]"
   ]
  },
  {
   "cell_type": "markdown",
   "id": "0c555e49-3aa8-4471-b52c-d683ac853643",
   "metadata": {},
   "source": [
    "<b>Aufgaben</b>\n",
    "\n",
    "Implementieren Sie bezüglich der Mengen zahl, ungerade, gerade, eins, zwei die folgenden Aussagen und deren Negationen. Zur Erinnerung: len(x) ergibt die Anzahl der Elemente in der Menge x.\n",
    "<ul>\n",
    "    <li>Alle Zahlen in ungerade sind kleiner als 11.\n",
    "    <li>Es gibt eine Zahl in ungerade mit x + 2 = 9.\n",
    "    <li>Alle Zahlen in ungerade sind auch in zahl.\n",
    "    <li>Mindestens eine der Mengen in BeispielMengen hat 5 Elemente.\n",
    "    <li>Alle Mengen in BeispielMengen haben mindestens 1 Element.\n",
    "</ul>        \n",
    "Reicht es aus, sich die Wahrheitswerte der Gesamtaussagen anzuschauen um zu überprüfen, ob Sie richtig negiert haben?"
   ]
  },
  {
   "cell_type": "code",
   "execution_count": null,
   "id": "d5bf3596-cd98-4619-9e67-1717ddf8de75",
   "metadata": {},
   "outputs": [],
   "source": [
    "BeispielMengen = FiniteSet(zahl,ungerade,gerade,eins,zwei)\n",
    "all( TODO)\n",
    "'Negation:'\n",
    "TODO"
   ]
  },
  {
   "cell_type": "markdown",
   "id": "fb63b7bd-a891-404c-9534-9ce264deac21",
   "metadata": {},
   "source": [
    "<b>Mathematische Definitionen in Python<b>\n",
    "\n",
    "Die meisten Definitionen aus dem Lehrbuch kann man in Python implementieren. Hier sind ein paar Beispiele: "
   ]
  },
  {
   "cell_type": "code",
   "execution_count": null,
   "id": "c3ddf80d-538e-4769-a1a4-6c5928799280",
   "metadata": {},
   "outputs": [],
   "source": [
    "def Vereinigung (Universum, Menge1, Menge2):\n",
    "    return {x for x in Universum if x in Menge1 or x in Menge2}\n",
    "def Differenz (Menge1, Menge2):\n",
    "    return {x for x in Menge1 if x not in Menge2}"
   ]
  },
  {
   "cell_type": "markdown",
   "id": "b43590c3-61c0-4f08-a162-9c2ca7e37fb1",
   "metadata": {},
   "source": [
    "Diese Definitionen können dann auf Werte angewendet werden:"
   ]
  },
  {
   "cell_type": "code",
   "execution_count": null,
   "id": "34aa0560-0a0b-4153-9b62-61bc2a1b62d0",
   "metadata": {},
   "outputs": [],
   "source": [
    "Vereinigung(zahl,ungerade,gerade)\n",
    "Differenz(zahl,ungerade)"
   ]
  },
  {
   "cell_type": "markdown",
   "id": "99890012-3b3c-4ba2-8f8d-73d4ef63f2ed",
   "metadata": {},
   "source": [
    "Meistens definiert man in der Mathematik Eigenschaften, die man überprüfen kann. Auf \"return\" folgt dann keine Menge, sondern eine Aussage mit einem Quantor. Zum Beispiel besagt die folgende Definition, dass Schnittmengen kommutativ sind, wenn für alle Mengen gilt, dass $x \\cap y = y \\cap x$ ist."
   ]
  },
  {
   "cell_type": "code",
   "execution_count": null,
   "id": "b83ebb27-9aa2-4a1e-9807-46144b5dd7c5",
   "metadata": {},
   "outputs": [],
   "source": [
    "def SchnittmengeKommutativ (Mengen):\n",
    "    return all (x & y == y & x for x in Mengen for y in Mengen)\n",
    "SchnittmengeKommutativ(BeispielMengen)"
   ]
  },
  {
   "cell_type": "markdown",
   "id": "cc9956b0-806d-4468-a5c3-663a97b1af0a",
   "metadata": {},
   "source": [
    "<b>Aufgaben</b>\n",
    "\n",
    "1. Implementieren Sie eine Definition für ein neutrales Elemente bezüglich Schnittmengen (das neutrale Element soll sowohl rechts als auch links stehen können)."
   ]
  },
  {
   "cell_type": "code",
   "execution_count": null,
   "id": "d9516c88-9683-4c9d-ab42-4d1ed0095e4c",
   "metadata": {},
   "outputs": [],
   "source": [
    "def schnittmengeNeutral (Mengen, neutralesElement):\n",
    "    return TODO\n",
    "Universum1 = zahl\n",
    "Universum2 = zahl | FiniteSet(17)\n",
    "schnittmengeNeutral(BeispielMengen,Universum1)\n",
    "schnittmengeNeutral(BeispielMengen,Universum2)"
   ]
  },
  {
   "cell_type": "markdown",
   "id": "3f750baf-0979-4017-9d6b-259f16595224",
   "metadata": {},
   "source": [
    "2. Implementieren Sie eine Definition von \"Teilmenge\" ohne \"$<$=\" zu verwenden."
   ]
  },
  {
   "cell_type": "code",
   "execution_count": null,
   "id": "cc2c238e-b7d8-4188-bc04-0abf61252f4e",
   "metadata": {},
   "outputs": [],
   "source": [
    "def teilmenge (Menge1,Menge2):\n",
    "    return TODO\n",
    "teilmenge(ungerade,zahl)\n",
    "teilmenge(zahl,ungerade)\n",
    "teilmenge(gerade,ungerade)"
   ]
  },
  {
   "cell_type": "markdown",
   "id": "71e36604-9fbe-4eb5-8af2-d87f303a9b7d",
   "metadata": {},
   "source": [
    "3. Sie können sich jetzt die Datei \"definitions.py\" ansehen, die sich in der linken Datei-Liste befinden sollte. Dort sind einige Definitionen aus dem Lehrbuch hinterlegt. Die Definitionen sind noch etwas abstrakter, da dort die Operation \"op\" selber noch eingegeben werden kann. Darauf kommen wir in den nächsten Wochen noch zurück. Aber vermutlich können Sie die Definitionen in der Datei jetzt schon größtenteils verstehen."
   ]
  },
  {
   "cell_type": "markdown",
   "id": "4fb4607f-e5cb-46c7-8afc-6b2f64d88793",
   "metadata": {},
   "source": [
    "<b>Merkwürdige Beispiele</b> \n",
    "\n",
    "Warum ist $\\forall (n \\in \\mathbb{N} \\mid k = n+1)$ eine Kontradiktion und $\\forall (n \\in \\mathbb{N} \\mid k := n+1)$ keine Kontradiktion? Warum ergibt die dritte Zeile True?"
   ]
  },
  {
   "cell_type": "code",
   "execution_count": null,
   "id": "10e3710e-5bc2-490b-b282-7d215a2b6e63",
   "metadata": {},
   "outputs": [],
   "source": [
    "all( k == x + 1 for x in zahl for k in zahl)\n",
    "all( k := x + 1 for x in zahl)\n",
    "all ( \"a\" != \"b\" for x in zahl)"
   ]
  },
  {
   "cell_type": "code",
   "execution_count": null,
   "id": "871287ec-8bfa-456d-b806-f5b61b399dc9",
   "metadata": {},
   "outputs": [],
   "source": []
  }
 ],
 "metadata": {
  "kernelspec": {
   "display_name": "Python 3 (ipykernel)",
   "language": "python",
   "name": "python3"
  },
  "language_info": {
   "codemirror_mode": {
    "name": "ipython",
    "version": 3
   },
   "file_extension": ".py",
   "mimetype": "text/x-python",
   "name": "python",
   "nbconvert_exporter": "python",
   "pygments_lexer": "ipython3",
   "version": "3.10.8"
  }
 },
 "nbformat": 4,
 "nbformat_minor": 5
}
