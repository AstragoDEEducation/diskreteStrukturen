{
 "cells": [
  {
   "cell_type": "markdown",
   "id": "8e0ccf75-233b-4ffe-93e1-aaac1a54a83a",
   "metadata": {},
   "source": [
    "Denken Sie daran, das nächste Feld auszuführen, bevor Sie die untenstehenden Aufgaben bearbeiten."
   ]
  },
  {
   "cell_type": "code",
   "execution_count": null,
   "id": "5d324ee0-963f-4ffe-b28d-a568bc03f979",
   "metadata": {},
   "outputs": [],
   "source": [
    "from utils.discrstruct import *\n",
    "from math import floor"
   ]
  },
  {
   "cell_type": "markdown",
   "id": "c1dd9007-2e2d-428e-9a0b-efff8f4ca728",
   "metadata": {},
   "source": [
    "<h1>Kapitel 5: Mengen</h1>\n",
    "\n",
    "<h2>5.1 Aufwärmübungen</h2>\n",
    "\n",
    "Hinweis: im Folgenden wird die Python range()-Funktion verwendet. Sie produziert eine Sequenz von Zahlen. Z.B. range(-4,11) sind die Zahlen von -4 bis +10; range(-1,16,2) sind die Zahlen von -1 bis +15 mit Schrittweite 2. Man kann damit Mengen bilden:"
   ]
  },
  {
   "cell_type": "code",
   "execution_count": null,
   "id": "64efc514-349d-4cb3-9a58-024897b5e630",
   "metadata": {},
   "outputs": [],
   "source": [
    "range(-4,11)   # von -4 bis 10\n",
    "range(-1,16,2) # von -1 bis 16, Schrittweite: 2\n",
    "{x for x in range(-4,11)}\n",
    "{x for x in range(-1,16,2)}"
   ]
  },
  {
   "cell_type": "markdown",
   "id": "360db5ca-5575-4b44-b428-2ce466846264",
   "metadata": {},
   "source": [
    "1. Wie viele Elemente haben die folgenden Mengen? Schreiben Sie zuerst Ihre Antworten auf und schauen Sie sich anschließend die Mengen mit Python an. Die Funktion len() berechnet die Anzahl der Elemente."
   ]
  },
  {
   "cell_type": "code",
   "execution_count": null,
   "id": "615e0200-f8fb-4fd9-ab48-38524fb7d3ba",
   "metadata": {},
   "outputs": [],
   "source": [
    "{10,20,30,40,50,\"True\",10,20}\n",
    "{10,20,10+10,2*10}\n",
    "{\"5\" != 5, True, 4 < 5}\n",
    "{0,1,True}\n",
    "{\"True\", True}\n",
    "len({10,20,30,40,50,\"True\",10,20})"
   ]
  },
  {
   "cell_type": "markdown",
   "id": "c896cdb5-46b1-406d-a7fc-991eb1790f0f",
   "metadata": {},
   "source": [
    "2. Um in Python Mengen zu verschachteln, d.h. Mengen von Mengen zu bilden, müssen die inneren Mengen mit frozenset({...}) definiert werden. In diesem Kurs kann das auch als fs({...}) abgekürzt werden. "
   ]
  },
  {
   "cell_type": "code",
   "execution_count": null,
   "id": "f7691c85-2c4e-47b3-9159-8f107a2d94f5",
   "metadata": {},
   "outputs": [],
   "source": [
    "{1,fs({10,20,30,40})}\n",
    "{fs({3,True}),2,3,fs({2,3})}\n",
    "{1,fs({1,fs({1})})}\n",
    "len({1,fs({10,20,30,40})})\n",
    "TODO"
   ]
  },
  {
   "cell_type": "markdown",
   "id": "569471cd-7e64-450e-bb29-0e335c0ed0a7",
   "metadata": {},
   "source": [
    "Die leere Menge muss man als <b>set()</b> oder fs({}) schreiben, da <b>{}</b> in Python eine andere Bedeutung hat. "
   ]
  },
  {
   "cell_type": "code",
   "execution_count": null,
   "id": "5d5f30fd-d657-417d-b3c1-96fab98d6310",
   "metadata": {},
   "outputs": [],
   "source": [
    "set() == {}\n",
    "set() == fs({})"
   ]
  },
  {
   "cell_type": "markdown",
   "id": "3d3b15ba-d408-4b80-97a0-eeaa0f380792",
   "metadata": {},
   "source": [
    "Überlegen Sie sich die Anzahl der Elemente in folgenden Mengen erst, bevor Sie sie mit Python ausführen. Überprüfen Sie mit len(...)."
   ]
  },
  {
   "cell_type": "code",
   "execution_count": null,
   "id": "173e2d93-43d0-4588-8686-e52c145d1e05",
   "metadata": {},
   "outputs": [],
   "source": [
    "set()\n",
    "{1,2} & {3,4}\n",
    "{fs({})}\n",
    "len(set())\n",
    "TODO"
   ]
  },
  {
   "cell_type": "markdown",
   "id": "0beb7f26-609c-40b9-a019-8f0fffae0bb1",
   "metadata": {},
   "source": [
    "3. Welche der folgenden Mengen sind gleich? Überlegen Sie wieder erst, bevor Sie es ausprobieren."
   ]
  },
  {
   "cell_type": "code",
   "execution_count": null,
   "id": "62b16a55-7762-40ad-86c8-6d71591eafea",
   "metadata": {},
   "outputs": [],
   "source": [
    "{n for n in range(-4,11) if n % 2 == 0}\n",
    "{2*(n-2) for n in range(0,8)}\n",
    "{(n-30)//5 for n in range(10,90,10)}\n",
    "{floor(((n+65)**2)/70 - 66) for n in range(1,9)} \n",
    "{x+y for x in range(-1,6,2) for y in range(-3,6,2)} "
   ]
  },
  {
   "cell_type": "markdown",
   "id": "6562f1ef-f485-4869-b0ce-091129e5f37f",
   "metadata": {},
   "source": [
    "4. Welche der folgenden Mengen enthalten das Element 1? Überlegen Sie wieder erst, bevor Sie es ausprobieren."
   ]
  },
  {
   "cell_type": "code",
   "execution_count": null,
   "id": "24cd66b6-e89d-426e-a2cf-61733f367d8e",
   "metadata": {},
   "outputs": [],
   "source": [
    "1 in {1,2}\n",
    "{fs({1,2})}\n",
    "1 in {fs({1,2})}\n",
    "{1,2} in {fs({1,2})}"
   ]
  },
  {
   "cell_type": "markdown",
   "id": "08bf7a37-c602-446a-b519-16190a7d0f89",
   "metadata": {},
   "source": [
    "5. Schreiben Sie alle Teilmengen der Menge {1, 2, 3} auf. Die Menge aller Teilmengen heißt Potenzmenge (englisch: powerset) und kann mit Python folgendermaßen bestimmt werden:"
   ]
  },
  {
   "cell_type": "code",
   "execution_count": null,
   "id": "3f21b809-b829-48e9-83dc-facc89fb08e6",
   "metadata": {},
   "outputs": [],
   "source": [
    "set(PowerSet({1,2,3}))"
   ]
  },
  {
   "cell_type": "markdown",
   "id": "ec4449a2-6f34-4e08-9720-564d90a9e7f6",
   "metadata": {
    "tags": []
   },
   "source": [
    "<h2>5.3 Element und Teilmenge</h2>\n",
    "\n",
    "Man muss zwei Arten von \"Enthalten sein\" für Mengen unterscheiden. Wenn man sich eine Menge anzeigen lässt, kann man die <b>Elemente</b> aufgelistet und durch Komma getrennt sehen. <b>Teilmengen</b> sind schwieriger (oder gar nicht) zu sehen. Man kann sie aber berechnen:\n",
    "\n",
    "<div style='background-color: lightgray'><b>Definition:</b> Eine Menge A heißt Teilmenge einer Menge B, wenn jedes Element von A auch Element von B ist. Man schreibt dann A $\\subseteq$ B.</div>\n",
    "\n",
    "<p></p>\n",
    "Folgende Mengenoperatoren gibt es dafür in Python:\n",
    "\n",
    "<table>\n",
    "        <tr>\n",
    "            <td>in</td>\n",
    "            <td>Element in Menge</td></tr>\n",
    "        <tr>\n",
    "            <td>&lt;=</td>\n",
    "            <td>Teilmenge (auch &gt;= für Obermenge)</td></tr>\n",
    "        <tr>\n",
    "            <td>&lt;</td>\n",
    "            <td>echte Teilmenge (auch &gt; für echte Obermenge</td></tr>\n",
    "        <tr>\n",
    "            <td>==</td>\n",
    "            <td>Gleich</td></tr>\n",
    "        <tr>\n",
    "            <td>!=</td>\n",
    "            <td>Ungleich</td></tr>\n",
    "        <tr>\n",
    "            <td>len(...)</td>\n",
    "            <td>Kardinalität (Anzahl der Elemente)</td></tr>\n",
    "</table>\n"
   ]
  },
  {
   "cell_type": "code",
   "execution_count": null,
   "id": "cde8d2e3-d998-453d-af31-6af1beaf5bd6",
   "metadata": {},
   "outputs": [],
   "source": [
    "1 in {1,2}\n",
    "{1,2} <= {1,2,3}\n",
    "{1,2,3} <= {1,2,3}\n",
    "{1,2} < {1,2,3}\n",
    "{1,2,3} < {1,2,3}"
   ]
  },
  {
   "cell_type": "markdown",
   "id": "a9c43743-dee1-4ec2-87f3-0897b12f611a",
   "metadata": {},
   "source": [
    "Was gilt für die leere Menge:"
   ]
  },
  {
   "cell_type": "code",
   "execution_count": null,
   "id": "2eb2a180-5b61-4454-aee7-e6204208dd70",
   "metadata": {},
   "outputs": [],
   "source": [
    "set() in {1,2}\n",
    "set() <= {1,2}\n",
    "set() in {fs({}),2,3}"
   ]
  },
  {
   "cell_type": "markdown",
   "id": "9b21ca93-0e2f-4b24-92a7-d91fe17137f5",
   "metadata": {},
   "source": [
    "<h2>5.4 Mengen-Konstruktoren</h2>\n",
    "\n",
    "Schauen Sie sich hierfür die Abschnitte 3.2 und 3.3 im tutorial.ipynb an."
   ]
  },
  {
   "cell_type": "markdown",
   "id": "d8f527d1-c9db-4f5c-9607-3e7b8d046a07",
   "metadata": {},
   "source": [
    "<h2>5.5 Operationen auf Mengen</h2>\n",
    "\n",
    "<div style='background-color: lightgray'><b>Definition:</b>\n",
    "    \n",
    "Die Menge A $\\cup$ B mit $A \\cup B = \\{x: x \\in \\mathbb{U} \\mid x \\in A \\vee x \\in B\\}$ nennt man die Vereinigung (oder Vereinigungsmenge) der Mengen A und B.\n",
    "    \n",
    "Die Menge A $\\cap$ B mit $A \\cap B = \\{x: x \\in \\mathbb{U} \\mid x \\in A \\wedge x \\in B\\}$ nennt man den Schnitt (oder Schnittmenge, Durchschnitt) der Mengen A und B.\n",
    "    \n",
    "Die Menge A\\B mit $A \\backslash B = \\{x: x \\in \\mathbb{U} | x \\in A \\wedge x \\notin B\\}$ nennt man die Differenz der Mengen A und B.\n",
    "    \n",
    "Die Menge A mit $\\overline{A} = \\{x: x \\in \\mathbb{U} | x \\notin A \\}$ nennt man das Komplement der Menge A.\n",
    "</div>\n",
    "\n",
    "In Python sind diese standardmäßig definiert:\n",
    "\n",
    "<table>\n",
    "        <tr>\n",
    "            <td>|</td>\n",
    "            <td>Vereinigung</td></tr>\n",
    "        <tr>\n",
    "            <td>&</td>\n",
    "            <td>Schnittmenge</td></tr>\n",
    "        <tr>\n",
    "            <td>-</td>\n",
    "            <td>Differenz</td></tr>\n",
    "</table>"
   ]
  },
  {
   "cell_type": "code",
   "execution_count": null,
   "id": "f8623a38-3a17-4202-aec3-056b6ea37d77",
   "metadata": {},
   "outputs": [],
   "source": [
    "{1,2,3,4} | {4,5,6}\n",
    "{1,2,3,4} & {4,5,6}\n",
    "{1,2,3,4} - {4,5,6}"
   ]
  },
  {
   "cell_type": "markdown",
   "id": "3112cdb9-feed-41a9-843a-cc6b4ee37279",
   "metadata": {},
   "source": [
    "Für das Komplement muss man ein Universum angeben. Daher unterscheiden sich Differenz und Komplement in Python nicht."
   ]
  },
  {
   "cell_type": "code",
   "execution_count": null,
   "id": "7b80eed5-abcd-410e-914e-9ceacbc51924",
   "metadata": {},
   "outputs": [],
   "source": [
    "Universum = {x for x in range(-10,11)}\n",
    "A = {1,2,3,4,5}\n",
    "Universum\n",
    "A\n",
    "Universum - A"
   ]
  },
  {
   "cell_type": "markdown",
   "id": "aa813b9d-66d1-4313-8cb1-4b17b06b0275",
   "metadata": {},
   "source": [
    "<h2>5.7 Algebraische Eigenschaften</h2>\n",
    "\n",
    "Es gelten die gleichen Eigenschaften wie für Aussagenlogik ($\\cup$ statt $\\vee$,\n",
    "$\\cap$ statt $\\wedge$, $\\emptyset$ statt False und Universum statt True). Allerdings muss man in Python für die Berechnung konkrete Mengen definieren. Überprüfen Sie weitere der Eigenschaften an Beispielen:"
   ]
  },
  {
   "cell_type": "code",
   "execution_count": null,
   "id": "f11ad785-fb85-4064-bc4f-780b45a624e7",
   "metadata": {},
   "outputs": [],
   "source": [
    "A = {1,2,3,4,5,6,7,8}\n",
    "B = {10,11,12,13,14,15}\n",
    "A | set() == A\n",
    "A | B == B | A\n",
    "TODO"
   ]
  },
  {
   "cell_type": "markdown",
   "id": "898ba190-de05-4aee-9efa-859eb3312119",
   "metadata": {},
   "source": [
    "<h2>5.8 Potenzmenge</h2>\n",
    "\n",
    "<div style='background-color: lightgray'><b>Definition:</b>\n",
    "     Die Menge aller Teilmengen einer Ausgangsmenge S wird als Potenzmenge von S bezeichnet und mit P(S) symbolisiert.</div>\n",
    "<p></p>\n",
    "In Python kann man die Potenzmenge mit <b>PowerSet(..)</b> berechnen. Für die\n",
    "Potenzmenge gilt:\n",
    "<p></p>\n",
    "<div style='background-color: lightgray'><b>Theorem:</b>\n",
    "    Für die Mächtigkeit der Potenzmenge einer Menge S gilt $|P(S)| = 2^{|S|}$.</div>"
   ]
  },
  {
   "cell_type": "code",
   "execution_count": null,
   "id": "43af1db0-af40-4e9d-ac6f-6a201ed055c9",
   "metadata": {},
   "outputs": [],
   "source": [
    "A = {1,2,3,4}\n",
    "A\n",
    "set(PowerSet(A))\n",
    "len(PowerSet(A))\n",
    "2**(len(A))"
   ]
  },
  {
   "cell_type": "markdown",
   "id": "badbc012-f027-47f1-ab9a-6e084d810c04",
   "metadata": {},
   "source": [
    "<h2>5.9 Kartesisches Produkt</h2>\n",
    "\n",
    "<div style='background-color: lightgray'><b>Definition:</b>\n",
    "    Die Menge aller geordneten Paare zweier Mengen A und B wird kartesisches Produkt von A und B genannt und mit A × B symbolisiert:\n",
    "A × B = {[a, b] : a ∈ A, b ∈ B} \n"
   ]
  },
  {
   "cell_type": "code",
   "execution_count": null,
   "id": "726f3d1d-1669-4d92-993e-3b7b9b1619fd",
   "metadata": {},
   "outputs": [],
   "source": [
    "A = {1,2,3,4}\n",
    "B = {10,11,12}\n",
    "CartProd(A, B)"
   ]
  },
  {
   "cell_type": "markdown",
   "id": "2f605577-2c41-41b1-92a3-503bdfaa8c42",
   "metadata": {},
   "source": [
    "Welche Eigenschaften gelten für das Kartesische Produkt nicht:"
   ]
  },
  {
   "cell_type": "code",
   "execution_count": null,
   "id": "29e81477-e937-464f-b109-266fe4b689f1",
   "metadata": {},
   "outputs": [],
   "source": [
    "A = {1,2,3,4}\n",
    "B = {10,11,12}\n",
    "CartProd(A, B)== CartProd(B, A)\n",
    "CartProd(A, CartProd(B, A)) == CartProd(CartProd(A, B),A)"
   ]
  },
  {
   "cell_type": "markdown",
   "id": "49881b15-ba1f-40fc-9be0-de3ad56ff94d",
   "metadata": {},
   "source": [
    "<h2>5.12 Übungsaufgaben</h2>\n",
    "\n",
    "1. Vergleichen Sie die drei Mengen. Können Sie sich das Ergebnis erklären?"
   ]
  },
  {
   "cell_type": "code",
   "execution_count": null,
   "id": "dfc133de-2bb2-4234-be33-2d642bcb5108",
   "metadata": {},
   "outputs": [],
   "source": [
    "{x for x in range(1,11) if x < 5}\n",
    "{x for x in range(1,11) if 1 < 5}\n",
    "{x for x in range(1,11) if 5 < 1}"
   ]
  },
  {
   "cell_type": "markdown",
   "id": "40bf4a9f-ad0e-4507-aaf0-cb69d0677136",
   "metadata": {},
   "source": [
    "2. Bestimmen Sie (per Hand) die Potenzmengen der folgenden Mengen und überprüfen Sie Ihre Ergebnisse anschließend mit Python:"
   ]
  },
  {
   "cell_type": "code",
   "execution_count": null,
   "id": "8e0d912c-23ca-4688-a68a-9e68c14a2b54",
   "metadata": {},
   "outputs": [],
   "source": [
    "{1,2}\n",
    "set()"
   ]
  },
  {
   "cell_type": "markdown",
   "id": "1e5f23cb-c69d-4595-aa8e-e9e483678211",
   "metadata": {},
   "source": [
    "3a. Bilden Sie eine Menge mit Namen <i>gerade</i> der geraden Zahlen aus den Zahlen von 1 bis 50\n",
    "\n",
    "b. Bilden Sie eine Menge mit Namen <i>produkte</i>, welche die Produkte aus den geraden Zahlen von 1 bis 5 multipliziert mit den ungeraden Zahlen von 1 bis 5 beinhaltet.\n",
    "\n",
    "c. Die Elemente von Mengen müssen nicht alle vom gleichen Typ sein. Bilden Sie eine Menge mit Namen <i>vielfalt</i>, welche die Menge der geraden Zahlen von 1 bis 50, den String \"Text\" und die Menge {1,2} enthält. \n"
   ]
  },
  {
   "cell_type": "code",
   "execution_count": null,
   "id": "778a90ab-8a87-4201-b13d-415366f68c80",
   "metadata": {},
   "outputs": [],
   "source": [
    "gerade = TODO\n",
    "produkte = TODO\n",
    "vielfalt = TODO\n",
    "gerade\n",
    "produkte\n",
    "vielfalt"
   ]
  },
  {
   "cell_type": "markdown",
   "id": "bdbdadb7-94f0-48bb-8f97-4e85e40b34d6",
   "metadata": {},
   "source": [
    "Mit dem folgenden Feld können Sie Ihre Ergebnisse des vorherigen Felds mit hinterlegten Musterlösungen überprüfen. Führen Sie es einfach aus, ohne etwas zu ändern."
   ]
  },
  {
   "cell_type": "code",
   "execution_count": null,
   "id": "1491baa1-3cc6-4855-963e-ce2de4e1cfd0",
   "metadata": {},
   "outputs": [],
   "source": [
    "pruefe('tutorial 3.4',[gerade,produkte,vielfalt])"
   ]
  },
  {
   "cell_type": "code",
   "execution_count": null,
   "id": "2d5275a1-532a-411e-b686-f3f41eb05971",
   "metadata": {},
   "outputs": [],
   "source": []
  }
 ],
 "metadata": {
  "kernelspec": {
   "display_name": "Python 3 (ipykernel)",
   "language": "python",
   "name": "python3"
  },
  "language_info": {
   "codemirror_mode": {
    "name": "ipython",
    "version": 3
   },
   "file_extension": ".py",
   "mimetype": "text/x-python",
   "name": "python",
   "nbconvert_exporter": "python",
   "pygments_lexer": "ipython3",
   "version": "3.10.8"
  }
 },
 "nbformat": 4,
 "nbformat_minor": 5
}
