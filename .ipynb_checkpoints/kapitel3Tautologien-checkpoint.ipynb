{
 "cells": [
  {
   "cell_type": "markdown",
   "id": "71bf99af-c686-4d8f-8f49-0eaafdac764a",
   "metadata": {},
   "source": [
    "Denken Sie daran, das nächste Feld auszuführen, bevor Sie die untenstehenden Aufgaben bearbeiten."
   ]
  },
  {
   "cell_type": "code",
   "execution_count": 1,
   "id": "8a22a3fc-4bd5-4a32-9f8a-021cdedd59e2",
   "metadata": {},
   "outputs": [
    {
     "data": {
      "text/html": [
       "<script type=\"text/javascript\">\n",
       "function ueberpruefen(property) {\n",
       "var solutions = \n",
       "{'kapitel2_1_0': 'RGllIEZsYXNjaGUgaXN0IG5pY2h0IHZvbGwu', 'kapitel2_1_1': 'RGllIEhvc2UgaXN0IG5pY2h0IHNjaHdhcnou', 'kapitel2_2_0': 'RXIgbWFnIGtlaW5lbiBTY2huYXBzIG9kZXIgZXIgbWFnIFNla3Qu', 'kapitel2_2_1': 'U2llIHRhbnp0IG5pY2h0IG9kZXIgZsOkaHJ0IG5pY2h0IFJhZC4=', 'kapitel2_3_0': 'SmE=', 'kapitel2_3_1': 'SmE=', 'kapitel2_3_2': 'SmE=', 'kapitel2_3_3': 'TmVpbg==', 'kapitel2_3_4': 'SmE=', 'kapitel2_3_5': 'TmVpbg==', 'kapitel2_3_6': 'SmE=', 'kapitel2_3_7': 'TmVpbg==', 'kapitel2_4_0': 'QXVzc2FnZWZvcm0=', 'kapitel2_4_1': 'QXVzc2FnZWZvcm0=', 'kapitel2_4_2': 'QXVzc2FnZWZvcm0=', 'kapitel2_4_3': 'V2VkZXIgQXVzc2FnZSBub2NoIEF1c3NhZ2Vmb3Jt', 'kapitel2_4_4': 'QXVzc2FnZQ==', 'kapitel2_4_5': 'QXVzc2FnZQ==', 'kapitel2_4_6': 'V2VkZXIgQXVzc2FnZSBub2NoIEF1c3NhZ2Vmb3Jt', 'kapitel2_4_7': 'QXVzc2FnZQ==', 'kapitel2_5_0': 'ZW50d2VkZXItb2Rlcg==', 'kapitel2_5_1': 'ZW50d2VkZXItb2Rlcg==', 'kapitel2_5_2': 'bG9naXNjaGVzIG9kZXI=', 'kapitel2_5_3': 'ZW50d2VkZXItb2Rlcg==', 'kapitel2_6_0': 'd2Focg==', 'kapitel2_6_1': 'ZmFsc2No', 'kapitel2_6_2': 'd2Focg==', 'kapitel2_6_3': 'ZmFsc2No', 'kapitel2_7_0': 'QXVmesOkaGx1bmcgdm9uIEdlZ2Vuc3TDpG5kZW4=', 'kapitel2_7_1': 'bG9naXNjaGUgS29uanVua3Rpb24=', 'kapitel2_7_2': 'bG9naXNjaGUgS29uanVua3Rpb24=', 'kapitel2_7_3': 'QXVmesOkaGx1bmcgdm9uIEdlZ2Vuc3TDpG5kZW4=', 'kapitel3_1_0': 'RGVmaW5pdGlvbg==', 'kapitel3_1_1': 'VGhlb3JlbQ==', 'kapitel3_1_2': 'RGVmaW5pdGlvbg==', 'kapitel3_1_3': 'VGhlb3JlbQ==', 'kapitel3_1_4': 'RGVmaW5pdGlvbg==', 'kapitel3_1_5': 'VGhlb3JlbQ==', 'kapitel3_2_0': 'QSDihpIgQg==', 'kapitel3_2_1': 'QSDihpAgQg==', 'kapitel3_2_2': 'QSDih5IgQg==', 'kapitel3_2_3': 'QSDih5IgQg==', 'kapitel3_2_4': 'QSDihpAgQg==', 'kapitel3_2_5': 'QSDih5QgQg==', 'kapitel3_3_0': 'a29tbXV0YXRpdg==', 'kapitel3_3_1': 'bmljaHQga29tbXV0YXRpdg==', 'kapitel3_3_2': 'bmljaHQga29tbXV0YXRpdg==', 'kapitel3_3_3': 'bmljaHQga29tbXV0YXRpdg==', 'kapitel3_4_0': 'bmV1dHJhbGVzIEVsZW1lbnQ=', 'kapitel3_4_1': 'a2VpbiBuZXV0cmFsZXMgRWxlbWVudA==', 'kapitel3_4_2': 'a2VpbiBuZXV0cmFsZXMgRWxlbWVudA==', 'kapitel3_4_3': 'bmV1dHJhbGVzIEVsZW1lbnQ=', 'kapitel3_4_4': 'bmV1dHJhbGVzIEVsZW1lbnQ=', 'kapitel3_4_5': 'a2VpbiBuZXV0cmFsZXMgRWxlbWVudA==', 'kapitel3_4_6': 'a2VpbiBuZXV0cmFsZXMgRWxlbWVudA==', 'kapitel3_4_7': 'bmV1dHJhbGVzIEVsZW1lbnQ='}\n",
       "\n",
       "   form_elements = document.querySelector(\"#\"+property).elements;\n",
       "   for (i = 0; i < form_elements.length ;i++) {\n",
       "      var answer = \"<font size=5 color='red'>&#10007;</font>\";\n",
       "      if (typeof solutions[form_elements[i].id] !== 'undefined') {\n",
       "         if (form_elements[i].value == \n",
       "             decodeURIComponent(escape(atob(solutions[form_elements[i].id] )))) {\n",
       "             answer = \"<font size=5 color='green'>&#10003;</font>\";\n",
       "         }\n",
       "      document.querySelector(\"#\" + form_elements[i].id + \"_ans\").innerHTML=answer;\n",
       "      }\n",
       "   }\n",
       "}\n",
       "</script>"
      ],
      "text/plain": [
       "<IPython.core.display.HTML object>"
      ]
     },
     "metadata": {},
     "output_type": "display_data"
    }
   ],
   "source": [
    "from utils.discrstruct import *"
   ]
  },
  {
   "cell_type": "markdown",
   "id": "834dff7e-81f6-4aca-92a7-a9fd3a89106f",
   "metadata": {},
   "source": [
    "<h1>Kapitel 3: Tautologien</h1>\n",
    "<h2>3.1 Aufwärmübungen</h2>\n",
    "\n",
    "1. Was haben die Wahrheitswerte der folgenden Gruppen formallogischer Ausdrücke jeweils gemeinsam? Überlegen Sie erst und probieren Sie es dann mit Python aus.\n",
    "\n",
    "Gruppe 1\n",
    "\n",
    "A ∨ ¬A<br>\n",
    "(A ∧ ¬A) = 0<br>\n",
    "(A ∧ B) → B"
   ]
  },
  {
   "cell_type": "code",
   "execution_count": 3,
   "id": "ffaa4fbf-e7e5-4912-a63c-a50e9f2d52d6",
   "metadata": {},
   "outputs": [
    {
     "name": "stdout",
     "output_type": "stream",
     "text": [
      "A     | value | \n",
      "----------------\n",
      "False | True  | \n",
      "True  | True  | \n",
      "\n",
      "A     | False | value | \n",
      "------------------------\n",
      "False | False | True  | \n",
      "False | True  | True  | \n",
      "True  | False | True  | \n",
      "True  | True  | True  | \n",
      "\n",
      "A     | B     | value | \n",
      "------------------------\n",
      "False | False | True  | \n",
      "False | True  | True  | \n",
      "True  | False | True  | \n",
      "True  | True  | True  | \n",
      "\n"
     ]
    }
   ],
   "source": [
    "printtable(\"A or not A\")\n",
    "printtable(\"(A and not A) == False\")\n",
    "printtable(\"(A and B) -s>> B\")"
   ]
  },
  {
   "cell_type": "markdown",
   "id": "b653511d-c661-46e3-9c34-baa7247e5c09",
   "metadata": {},
   "source": [
    "Antwort: Alle sind `True`, also wahr (--> Tautologie)"
   ]
  },
  {
   "cell_type": "markdown",
   "id": "cd657a4a-ed1c-4e1f-8e30-327600ad6fda",
   "metadata": {},
   "source": [
    "Gruppe 2\n",
    "\n",
    "A ∧ ¬A<br>\n",
    "(A ↔ B) = (A ↮ B)<br>\n",
    "(A ∧ B) ↔ (¬A ∨ ¬B)"
   ]
  },
  {
   "cell_type": "code",
   "execution_count": 7,
   "id": "3f9a100f-2486-4b5f-9dc0-11720c1d2c1e",
   "metadata": {},
   "outputs": [
    {
     "name": "stdout",
     "output_type": "stream",
     "text": [
      "A     | value | \n",
      "----------------\n",
      "False | False | \n",
      "True  | False | \n",
      "\n",
      "a     | b     | value | \n",
      "------------------------\n",
      "False | False | False | \n",
      "False | True  | False | \n",
      "True  | False | False | \n",
      "True  | True  | False | \n",
      "\n",
      "a     | b     | value | \n",
      "------------------------\n",
      "False | False | False | \n",
      "False | True  | False | \n",
      "True  | False | False | \n",
      "True  | True  | False | \n",
      "\n"
     ]
    }
   ],
   "source": [
    "printtable(\"A and not A\")\n",
    "printtable(\"((a -s>> b) and (b -s>> a)) == not (a == b)\")\n",
    "printtable(\"((a and b) -s>> (not a or not b)) and ((not a or not b) -s>> (a and b))\")"
   ]
  },
  {
   "cell_type": "markdown",
   "id": "5c56d70c-807b-4c98-a3f5-67fb45b63986",
   "metadata": {},
   "source": [
    "Antwort: Alle sind `False` (--> Kontradiktion)"
   ]
  },
  {
   "cell_type": "markdown",
   "id": "170586f0-e27e-43db-923b-1bb721760e60",
   "metadata": {},
   "source": [
    "2. Eine Mutter sagt zu ihrem kleinen Kind: \"Wenn Du Deinen Teller leer isst, bekommst Du Nachtisch.\" Sie wissen, dass die Mutter damit auch sagen will: \"Wenn Du Deinen Teller nicht leer isst, bekommst Du keinen Nachtisch.\" Modellieren Sie diese Aussage der Mutter als logischen Ausdruck (zB. mit \"t\" für \"Teller leer essen\" und \"n\" für \"Nachtisch bekommen\") und geben Sie die Wahrheitstabelle an."
   ]
  },
  {
   "cell_type": "code",
   "execution_count": 8,
   "id": "d10419f9-1d55-4379-9f37-6cf18bdc3a7e",
   "metadata": {},
   "outputs": [
    {
     "name": "stdout",
     "output_type": "stream",
     "text": [
      "t     | n     | value | \n",
      "------------------------\n",
      "False | False | True  | \n",
      "False | True  | False | \n",
      "True  | False | False | \n",
      "True  | True  | True  | \n",
      "\n"
     ]
    }
   ],
   "source": [
    "printtable(\"(t -s>> n) and (n -s>> t)\")"
   ]
  },
  {
   "cell_type": "markdown",
   "id": "a60a83f6-6408-41e8-a8eb-2f958977306d",
   "metadata": {},
   "source": [
    "<h2>3.4 Tautologie und Kontradiktion</h2>\n",
    "\n",
    "Die folgenden Definitionen kann man schlecht in Python darstellen, da man eventuell andere Wissenschaften als Mathematik benötigt um festzustellen, ob etwas \"immer wahr\" ist. Daher kommen die mathematischen Operatoren $\\Rightarrow$ und $\\Leftrightarrow$ nicht in Python vor, sondern nur $\\rightarrow$ und $\\leftrightarrow$ (als \"-s>>\"  bzw. \"==\" geschrieben).\n",
    "\n",
    "<div style='background-color: lightgray'><b>Definition:</b> Aussageformen, die unabhängig von der Belegung ihrer Variablen immer wahr sind, heißen <i>Tautologien</i>. Aussageformen, die unabhängig von der Belegung ihrer Variablen immer falsch sind, heißen <i>Kontradiktionen</i>.</div>\n",
    "\n",
    "<div style='background-color: lightgray'><b>Definition:</b> Tautologien der Form A $\\rightarrow$ B heißen <i>Implikationen</i> und werden A $\\Rightarrow$ B geschrieben. Tautologien der Form A $\\leftrightarrow$ B heißen <i>Äquivalenzen</i> und werden A $\\Leftrightarrow$ B geschrieben.\n",
    "    \n",
    "<div style='background-color: lightgray'><b>Definition:</b> In der Implikation A $\\Rightarrow$  B wird A die <i>hinreichende Bedingung</i> für B genannt. B wird die <i>notwendige Bedingung</i> für A genannt."
   ]
  },
  {
   "cell_type": "markdown",
   "id": "f461c44c-4c61-45ba-85d1-bd0d9a774007",
   "metadata": {},
   "source": [
    "<h1>Kapitel 4: Aussagenlogisches Rechnen</h1>\n",
    "<h2>4.1 Aufwärmübungen</h2>\n",
    "\n",
    "1. Überzeugen Sie sich mittels Wahrheitstabelle, dass die folgenden Aussageformen Tautologien sind. (Beachten Sie dabei, dass Sie Klammern setzen müssen, da \"==\" eine höhere Präzedenz hat als \"and\" oder \"or\".)\n",
    "\n",
    "A ∧ (B ∧ C) ↔ (A ∧ B) ∧ C\n",
    "\n",
    "A ∨ (B ∧ C) ↔ (A ∨ B) ∧ (A ∨ C)"
   ]
  },
  {
   "cell_type": "code",
   "execution_count": null,
   "id": "189b0315-3502-40fc-a043-fedb63e6d25b",
   "metadata": {},
   "outputs": [],
   "source": []
  },
  {
   "cell_type": "markdown",
   "id": "603fd48a-ca6a-4c20-9d2c-713d135ce61d",
   "metadata": {},
   "source": [
    "2. Vergleichen Sie die Wahrheitstabelle für \"a → b and b → c\" mit der Wahrheitstabelle für \"a → c\". Sehen Sie sich insbesondere die Zeilen an, die in beiden Tabellen True ergeben. Welche Beziehung besteht zwischen den Tabellen? "
   ]
  },
  {
   "cell_type": "code",
   "execution_count": 14,
   "id": "cb12e9a1-4f19-4b51-a8d8-b550f5f9ead1",
   "metadata": {},
   "outputs": [
    {
     "name": "stdout",
     "output_type": "stream",
     "text": [
      "a     | b     | c     | value | \n",
      "--------------------------------\n",
      "False | False | False | True  | \n",
      "False | False | True  | True  | \n",
      "False | True  | False | False | \n",
      "False | True  | True  | True  | \n",
      "True  | False | False | False | \n",
      "True  | False | True  | False | \n",
      "True  | True  | False | False | \n",
      "True  | True  | True  | True  | \n",
      "\n",
      "a     | c     | value | \n",
      "------------------------\n",
      "False | False | True  | \n",
      "False | True  | True  | \n",
      "True  | False | False | \n",
      "True  | True  | True  | \n",
      "\n",
      "a     | b     | c     | value | \n",
      "--------------------------------\n",
      "False | False | False | True  | \n",
      "False | False | True  | True  | \n",
      "False | True  | False | True  | \n",
      "False | True  | True  | True  | \n",
      "True  | False | False | True  | \n",
      "True  | False | True  | True  | \n",
      "True  | True  | False | True  | \n",
      "True  | True  | True  | True  | \n",
      "\n"
     ]
    }
   ],
   "source": [
    "printtable(\"(a -s>> b) and (b -s>> c)\")\n",
    "printtable(\"a -s>> c\")\n",
    "printtable(\"((a -s>> b) and (b -s>> c)) -s>> (a -s>> c)\")"
   ]
  },
  {
   "cell_type": "markdown",
   "id": "8caaa0af-d5e3-41ab-affb-0a2296e3e425",
   "metadata": {},
   "source": [
    "Antwort: bei b == c ist Value `True`"
   ]
  },
  {
   "cell_type": "markdown",
   "id": "60cc0c7a-8fe9-4af8-abd8-efbf43fd6fc5",
   "metadata": {},
   "source": [
    "Welchen Python-Operator können Sie zwischen die beiden Aussageformen setzen, so dass sich eine Tautologie ergibt:"
   ]
  },
  {
   "cell_type": "code",
   "execution_count": 12,
   "id": "950d9ef1-2b9b-4608-a45c-5d65eb19ef52",
   "metadata": {},
   "outputs": [
    {
     "name": "stdout",
     "output_type": "stream",
     "text": [
      "a     | b     | c     | value | \n",
      "--------------------------------\n",
      "False | False | False | True  | \n",
      "False | False | True  | True  | \n",
      "False | True  | False | True  | \n",
      "False | True  | True  | True  | \n",
      "True  | False | False | True  | \n",
      "True  | False | True  | True  | \n",
      "True  | True  | False | True  | \n",
      "True  | True  | True  | True  | \n",
      "\n"
     ]
    }
   ],
   "source": [
    "printtable (\"((a -s>> b) and (b -s>> c)) -s>> (a -s>> c)\")"
   ]
  },
  {
   "cell_type": "markdown",
   "id": "73f660c5-8d18-4df3-a4fd-1e89b83387bf",
   "metadata": {},
   "source": [
    "<h2>4.3 Algebraische Eigenschaften logischer Operatoren</h2>\n",
    "    \n",
    "<div style='background-color: lightgray'><b>Definition:</b>\n",
    "folgende Namen für algebraische Eigenschaften werden festgelegt:\n",
    "</div>\n",
    "<table>\n",
    "<tr><td>neutrales Element\n",
    "<td>$A \\lor False \\Leftrightarrow A$\n",
    "<td>$A \\land True \\Leftrightarrow A$\n",
    "<tr><td>Komplementarität (tertium non datur)\n",
    "<td>$A \\lor \\lnot A \\Leftrightarrow True$\n",
    "<td>$A \\land \\lnot A \\Leftrightarrow False$\n",
    "<tr><td>absorbierendes Element (faule Auswertung)\n",
    "<td>$A \\lor True \\Leftrightarrow True$\n",
    "<td>$A \\land False \\Leftrightarrow False$\n",
    "<tr><td>Kommutativität\n",
    "<td>$A \\lor B \\Leftrightarrow B \\lor A$\n",
    "<td>$A \\land B \\Leftrightarrow B \\land A$\n",
    "<tr><td>Assoziativität\n",
    "<td>$A \\lor (B \\lor C) \\Leftrightarrow (A \\lor B) \\lor C$\n",
    "<td>$A \\land (B \\land C) \\Leftrightarrow (A \\land B) \\land  C$\n",
    "<tr><td>Distributivität\n",
    "<td>$A \\lor (B \\land C) \\Leftrightarrow  (A \\lor B) \\land (A \\lor C)$\n",
    "<td>$A \\land (B \\lor C) \\Leftrightarrow  (A \\land B) \\lor (A \\land C)$\n",
    "<tr><td>Idempotenz\n",
    "<td>$A \\lor A  \\Leftrightarrow A$\n",
    "<td>$A \\land A  \\Leftrightarrow A$\n",
    "<tr><td>Absorption\n",
    "<td>$A \\lor (A \\land B) \\Leftrightarrow A$\n",
    "<td>$A \\land (A \\lor B) \\Leftrightarrow A$\n",
    "<tr><td><td>$A \\lor (\\lnot A \\land B) \\Leftrightarrow A \\lor B$\n",
    "<td>$A \\land (\\lnot A \\lor B) \\Leftrightarrow A \\land B$\n",
    "<tr><td>de Morgan'sche Regeln\n",
    "<td>$\\lnot(A \\lor B) \\Leftrightarrow \\lnot A \\land \\lnot B$\n",
    "<td>$\\lnot(A \\land B) \\Leftrightarrow  \\lnot A \\lor \\lnot B$\n",
    "<tr><td>doppelte Negation\n",
    "<td>$\\lnot \\lnot A  \\Leftrightarrow A$\n",
    "</table>\n",
    "\n",
    "Können Sie einen Zusammenhang zwischen der linken und rechten Spalte beschreiben? Welche dieser Eigenschaften kennen Sie schon aus anderen Zusammenhängen (zB. für die Addition und Multiplikation von Zahlen)? Welche Eigenschaften gelten nicht für die Addition und Multiplikation von Zahlen?\n",
    "    \n",
    "Die Definition legt nur die Bezeichnungen fest. Man müsste nun überprüfen, dass es sich bei den Eigenschaften tatsächlich um Tautologien handelt. Überprüfen Sie dies für einige dieser Eigenschaften mit Python:"
   ]
  },
  {
   "cell_type": "markdown",
   "id": "73044c9f-4109-442c-9130-e8213e0eca3a",
   "metadata": {},
   "source": [
    "Antworten:\n",
    "    a:\n",
    "        S2 und S1 sind gespiegelt (siehe S. 34).\n",
    "        True und False müssen dementsprechend auch getauscht sein, da sie sich gegenüber liegen.\n",
    "    b: \n",
    "        - Distribut. aus Multipl. mit Klammer\n",
    "        - Ass. aus Plus und Mal\n",
    "        - Komm. aus Plus und Mal\n",
    "    c: \n",
    "        Absorption bei Zahlen > 1"
   ]
  },
  {
   "cell_type": "code",
   "execution_count": 16,
   "id": "49a5820d-3822-4172-86cb-fe57503c4fd8",
   "metadata": {},
   "outputs": [
    {
     "name": "stdout",
     "output_type": "stream",
     "text": [
      "a     | False | value | \n",
      "------------------------\n",
      "False | False | True  | \n",
      "False | True  | True  | \n",
      "True  | False | True  | \n",
      "True  | True  | True  | \n",
      "\n",
      "a     | value | \n",
      "----------------\n",
      "False | True  | \n",
      "True  | True  | \n",
      "\n",
      "a     | value | \n",
      "----------------\n",
      "False | True  | \n",
      "True  | True  | \n",
      "\n",
      "a     | value | \n",
      "----------------\n",
      "False | True  | \n",
      "True  | True  | \n",
      "\n"
     ]
    }
   ],
   "source": [
    "printtable(\"(a or False) == a\")\n",
    "printtable(\"(a or a) == a\")\n",
    "printtable(\"(not (not a)) == a\")\n",
    "printtable(\"(a and a) == a\")"
   ]
  },
  {
   "cell_type": "markdown",
   "id": "4a514f1e-4d1a-4266-9268-dd9ce8d049b0",
   "metadata": {},
   "source": [
    "Antwort: Stichprobe zeigt, dass es sich um Tautologieb handelt."
   ]
  },
  {
   "cell_type": "markdown",
   "id": "4f67b903-ad23-40ba-9e92-681216943a88",
   "metadata": {},
   "source": [
    "<h2>4.6 Allgemeine Strukturen</h2>\n",
    "\n",
    "Es existieren viele weitere algebraische Eigenschaften, zum Beispiel diese:\n",
    "\n",
    "<div style='background-color: lightgray'><b>Definition:</b> Eine binäre Operation $\\circ$ heißt transitiv, wenn gilt: Wenn A$\\circ$ B und B $\\circ$ C, dann auch A $\\circ$ C.</div>\n",
    "<p></p>\n",
    "Überprüfen Sie, ob dies auf das zutrifft, was Sie in der Aufwärmübung bezüglich $\\rightarrow$ (bzw. -s>>) gezeigt haben. D.h. Sie sollten in der Aufwärmübung gezeigt haben, dass die Subjunktion transitiv ist. Gibt es andere Operatoren, die transitiv sind? Überlegen Sie sich zB. ob +, *, < oder = transitiv sind. "
   ]
  },
  {
   "cell_type": "raw",
   "id": "8d738b8b-2d39-40c1-87d0-b521f8305041",
   "metadata": {},
   "source": [
    "Antwort: \n",
    "    +:\n",
    "        NEIN\n",
    "    *:\n",
    "        NEIN\n",
    "    <: \n",
    "        JA\n",
    "    =:\n",
    "        JA\n",
    "    "
   ]
  },
  {
   "cell_type": "markdown",
   "id": "bb734f06-0ddf-42ee-b5e7-3b3877f55c96",
   "metadata": {},
   "source": [
    "<h2>4.9 Übungsaufgaben</h2>\n",
    "\n",
    "Vereinfachen Sie die folgenden Ausdrücke durch Anwenden der algebraischen Eigenschaften. Sie können Ihre Vereinfachungen mit Wahrheitstafeln überprüfen, denn die Ergebnisspalte der Wahrheitstabelle muss nach jeder Vereinfachung unverändert bleiben.\n",
    "\n",
    "(a ∧ b) ∨ (a ∨ b)\n",
    "\n",
    "(a ∧ b) ∨ (a ∧ ¬b)\n",
    "\n",
    "(a ∧ b) ∧ (¬a ∧ ¬b)\n",
    "\n",
    "(a → b) ∧ ¬a\n",
    "\n",
    "(a <-> b) ∧ (a ∨ b)\n"
   ]
  },
  {
   "cell_type": "code",
   "execution_count": 30,
   "id": "6b2db7c1-faf1-409c-ac04-d21e388545f5",
   "metadata": {},
   "outputs": [
    {
     "name": "stdout",
     "output_type": "stream",
     "text": [
      "a     | b     | value | \n",
      "------------------------\n",
      "False | False | False | \n",
      "False | True  | True  | \n",
      "True  | False | True  | \n",
      "True  | True  | True  | \n",
      "\n",
      "a     | b     | value | \n",
      "------------------------\n",
      "False | False | False | \n",
      "False | True  | True  | \n",
      "True  | False | True  | \n",
      "True  | True  | True  | \n",
      "\n",
      "===================================\n",
      "a     | b     | value | \n",
      "------------------------\n",
      "False | False | False | \n",
      "False | True  | False | \n",
      "True  | False | True  | \n",
      "True  | True  | True  | \n",
      "\n",
      "a     | value | \n",
      "----------------\n",
      "False | a     | \n",
      "True  | a     | \n",
      "\n",
      "===================================\n",
      "a     | b     | value | \n",
      "------------------------\n",
      "False | False | True  | \n",
      "False | True  | False | \n",
      "True  | False | False | \n",
      "True  | True  | False | \n",
      "\n",
      "a     | b     | value | \n",
      "------------------------\n",
      "False | False | True  | \n",
      "False | True  | False | \n",
      "True  | False | False | \n",
      "True  | True  | False | \n",
      "\n",
      "===================================\n",
      "a     | b     | value | \n",
      "------------------------\n",
      "False | False | True  | \n",
      "False | True  | True  | \n",
      "True  | False | False | \n",
      "True  | True  | False | \n",
      "\n",
      "a     | value | \n",
      "----------------\n",
      "False | True  | \n",
      "True  | False | \n",
      "\n",
      "===================================\n",
      "a     | b     | value | \n",
      "------------------------\n",
      "False | False | False | \n",
      "False | True  | False | \n",
      "True  | False | False | \n",
      "True  | True  | True  | \n",
      "\n",
      "a     | b     | value | \n",
      "------------------------\n",
      "False | False | False | \n",
      "False | True  | False | \n",
      "True  | False | False | \n",
      "True  | True  | True  | \n",
      "\n",
      "===================================\n"
     ]
    }
   ],
   "source": [
    "printtable(\"(a and b) or (a or b)\")\n",
    "printtable(\"a or b\")\n",
    "print(35*\"=\")\n",
    "\n",
    "printtable(\"(a and b) or (a and not b)\")\n",
    "printtable(\"a\")\n",
    "print(35*\"=\")\n",
    "\n",
    "printtable(\"(a -s>> b) and (not a and not b)\")\n",
    "printtable(\"(not a and not b)\")\n",
    "print(35*\"=\")\n",
    "\n",
    "printtable(\"(a -s>> b) and (not a)\")\n",
    "printtable(\"not a\")\n",
    "print(35*\"=\")\n",
    "\n",
    "printtable(\"(a == b) and (a or b)\")\n",
    "printtable(\"a and b\")\n",
    "print(35*\"=\")"
   ]
  },
  {
   "cell_type": "code",
   "execution_count": null,
   "id": "62be8c9a-7057-46f1-b150-e0477a43c480",
   "metadata": {},
   "outputs": [],
   "source": []
  }
 ],
 "metadata": {
  "kernelspec": {
   "display_name": "Python 3 (ipykernel)",
   "language": "python",
   "name": "python3"
  },
  "language_info": {
   "codemirror_mode": {
    "name": "ipython",
    "version": 3
   },
   "file_extension": ".py",
   "mimetype": "text/x-python",
   "name": "python",
   "nbconvert_exporter": "python",
   "pygments_lexer": "ipython3",
   "version": "3.12.6"
  }
 },
 "nbformat": 4,
 "nbformat_minor": 5
}
