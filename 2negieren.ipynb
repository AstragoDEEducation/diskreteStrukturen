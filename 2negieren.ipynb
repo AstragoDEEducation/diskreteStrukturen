{
 "cells": [
  {
   "cell_type": "code",
   "execution_count": null,
   "id": "9d4449b4-d409-4927-a7b6-9fd139e324a7",
   "metadata": {},
   "outputs": [],
   "source": [
    "from utils.discrstruct import *"
   ]
  },
  {
   "cell_type": "markdown",
   "id": "bce79fb3-71bc-408e-a8a2-a38ee37de4c4",
   "metadata": {},
   "source": [
    "<h2>Negieren sprachlicher Sätze</h2>\n",
    "\n",
    "1) Die Sonne scheint und es regnet.\n",
    "\n",
    "Formale Modellierung: <b>S and R</b>\n",
    "\n",
    "Welches ist die richtige Negation:\n",
    "\n",
    "<ul>\n",
    "    <li> Die Sonne scheint nicht und es regnet nicht. <b>not S and not R</b>\n",
    "    <li>Es scheint weder die Sonne noch es regnet. <b>not S and not R</b>\n",
    "    <li>Die Sonne scheint nicht oder es regnet nicht. <b>not S or not R</b>\n",
    "    <li>Entweder die Sonne scheint nicht oder es regnet nicht. <b> (S and not R) or (not S and R)</b>\n",
    "        </ul>\n",
    "        \n",
    "Wenn Sie sich nicht sicher sind, können Sie sich die zugehörigen Wahrheitstabellen ansehen. Beim Negieren müssen sich alle Werte in der Ergebnisspalte ändern. D.h. überall, wo ursprünglich True stand, steht nach der Negierung False und überall, wo ursprünglich False stand, steht nach der Negierung True."
   ]
  },
  {
   "cell_type": "code",
   "execution_count": null,
   "id": "b90992e5-5bb4-43ba-9f46-8864ee1f31ee",
   "metadata": {},
   "outputs": [],
   "source": [
    "printtable(\"S and R\")"
   ]
  },
  {
   "cell_type": "code",
   "execution_count": null,
   "id": "1e9f245d-339f-4415-8eee-17ee0988faf9",
   "metadata": {},
   "outputs": [],
   "source": [
    "printtable(\"...\")"
   ]
  },
  {
   "cell_type": "markdown",
   "id": "7c73dcdf-0b9e-4bc2-a8d9-3f489b924068",
   "metadata": {},
   "source": [
    "2. Wenn die Sonne scheint, dann regnet es nicht.\n",
    "\n",
    "Formale Modellierung: <b>S -s>> not R</b>\n",
    "\n",
    "<ul>\n",
    "    <li>Wenn die Sonne nicht scheint, dann regnet es. <b>not S -s>> R</b>\n",
    "    <li>Wenn es regnet, dann scheint die Sonne nicht. <b>R -s>> not S</b>\n",
    "     <li>Die Sonne scheint nicht oder es regnet nicht. <b>not S or not R</b> \n",
    "    <li>Die Sonne scheint und es regnet. <b>S and R</b>     "
   ]
  },
  {
   "cell_type": "code",
   "execution_count": null,
   "id": "5bd0ab7f-e15b-4e9b-9eeb-cf24a5234dcd",
   "metadata": {},
   "outputs": [],
   "source": [
    "printtable(\"S -s>> not R\")"
   ]
  },
  {
   "cell_type": "code",
   "execution_count": null,
   "id": "6a808333-1443-49b7-a181-8a824383c46b",
   "metadata": {},
   "outputs": [],
   "source": [
    "printtable(\"...\")"
   ]
  },
  {
   "cell_type": "markdown",
   "id": "e303fce7-ff83-47d5-a098-44e0ea3a0a44",
   "metadata": {},
   "source": [
    "Negieren Sie die folgenden Sätze und überprüfen Sie mit Wahrheitstabellen.\n",
    "\n",
    "3. Er kommt zu spät oder gar nicht. <b>S or not G</b>\n",
    "4. Entweder sie trinkt Tee oder Kaffee. <b>(T and not K) or (not T and K)</b>\n",
    "5. Genau dann wenn Sie 2000 geboren wurden, sind Sie 23 Jahre alt. <b>(G and J) or (not G and not J)</b>"
   ]
  },
  {
   "cell_type": "code",
   "execution_count": null,
   "id": "96716ed2-317f-4427-8243-24734053041f",
   "metadata": {},
   "outputs": [],
   "source": [
    "printtable(\"...\")"
   ]
  },
  {
   "cell_type": "markdown",
   "id": "0513be8a-d11d-4c5d-b90d-cac5ec846045",
   "metadata": {},
   "source": [
    "<h3>Modellieren Sie selber und negieren Sie:</h3>\n",
    "\n",
    "6. Heute ist nicht Montag und nicht Dienstag.<br>\n",
    "7. Es gibt keine Lösung.<br>\n",
    "8. Draußen ist es dunkel.<br>\n",
    "9. Es ist 5 Uhr oder 6 Uhr.<br>\n",
    "10. Es regnet und schneit heute.<br>\n",
    "11. Wenn Sie im Lotto gewinnen, hören Sie mit dem Studium auf.\n"
   ]
  },
  {
   "cell_type": "code",
   "execution_count": null,
   "id": "2643e859-d8b7-46d2-b924-568359873f95",
   "metadata": {},
   "outputs": [],
   "source": [
    "printtable(\"...\")"
   ]
  },
  {
   "cell_type": "markdown",
   "id": "bbfdd0b5-5a21-4b73-b060-71c80ecf0d34",
   "metadata": {
    "tags": []
   },
   "source": [
    "<h2>Wie ist das sprachliche \"wenn\" gemeint:</h2>\n",
    "\n",
    "A) Wenn man mindestens 17 ist, darf man den Führerschein machen.\n",
    "<b>S -s>> F</b><br>\n",
    "B) Wenn man mindestens 17 und blind ist, darf man den Führerschein machen. <b>(S and B) -s>> F</b><br>\n",
    "\n",
    "Überzeugen Sie sich anhand der Wahrheitstabellen davon, dass immer, wenn Satz A wahr ist, dass dann auch Satz B wahr ist. "
   ]
  },
  {
   "cell_type": "code",
   "execution_count": null,
   "id": "0c88e8c0-1edb-4c6c-8c0e-4fecf333b33f",
   "metadata": {},
   "outputs": [],
   "source": [
    "printtable(\"...\")\n",
    "printtable(\"...\")"
   ]
  },
  {
   "cell_type": "markdown",
   "id": "7c6c30ac-b91c-4876-ac09-ff4d70c42c64",
   "metadata": {},
   "source": [
    "Das heißt, dass Satz B aus Satz A folgt. Wenn Satz B falsch ist, dann ist die Modellierung von Satz A als <b>S -s>> F</b> auch falsch. Das sprachliche \"wenn\" entspricht hier nicht dem logischen \"-s>>\".\n",
    "\n",
    "Modellieren Sie Satz A logisch richtig:"
   ]
  },
  {
   "cell_type": "code",
   "execution_count": null,
   "id": "474a8118-d85f-4c6f-8906-b7b33a487bb3",
   "metadata": {},
   "outputs": [],
   "source": [
    "printtable(\"...\")"
   ]
  },
  {
   "cell_type": "markdown",
   "id": "7e37104e-3f80-4a5d-92d6-8b6c4a9cd7c3",
   "metadata": {},
   "source": [
    "<h3>Modellieren Sie diese Sätze:</h3>\n",
    "\n",
    "Entscheiden Sie jeweils, ob \"wenn\", \"nur wenn\" oder \"genau dann, wenn\" am besten passt, und modellieren Sie entsprechend.\n",
    "\n",
    "12. Wenn Sie bezahlt haben, dürfen Sie gehen.\n",
    "\n",
    "13. Wenn es schneit, fällt der Unterricht aus.\n",
    "\n",
    "14. Wenn Sie die Übungsaufgaben bearbeiten, erhalten Sie alle Bonuspunkte."
   ]
  },
  {
   "cell_type": "code",
   "execution_count": null,
   "id": "d804e67a-28f3-4041-b286-f74ddf0cf3b6",
   "metadata": {},
   "outputs": [],
   "source": [
    "printtable(\"...\")"
   ]
  },
  {
   "cell_type": "markdown",
   "id": "973b2c45-cc08-44a0-952a-aeb1bedb6cd9",
   "metadata": {},
   "source": [
    "<h3>Wahrheitstabellen lesen</h3>\n",
    "\n",
    "Wie kann man diesen Ausdruck vereinfachen?\n",
    "\n",
    "$(P \\lor \\lnot Q) \\longleftrightarrow (\\lnot (P \\land Q)\\lor \\lnot P)$.\n",
    "\n",
    "Erstellen Sie die Wahrheitstabelle. Genau wann steht ein True in der Ergebnisspalte?"
   ]
  },
  {
   "cell_type": "code",
   "execution_count": null,
   "id": "ef2ef9bc-9e7c-4c7e-b050-43a8cac07b51",
   "metadata": {},
   "outputs": [],
   "source": [
    "printtable(\"...\")"
   ]
  },
  {
   "cell_type": "markdown",
   "id": "266412f9-7433-4e0e-886c-b3199f878370",
   "metadata": {},
   "source": [
    "<h2>Logikrätsel</h2>\n",
    "\n",
    "Auf einer Insel leben zwei Arten von Leuten: Ritter und Bauern. Ritter sagen immer die Wahrheit, während Bauern immer lügen. Was für Leute sind A und B, wenn sie diese Aussagen machen:\n",
    "\n",
    "A sagt: \"B ist ein Ritter\".\n",
    "\n",
    "B sagt: \"A und ich sind von verschiedener Art\".\n",
    "\n",
    "Verwenden Sie \"A ist Ritter\", \"A ist Bauer\", usw als Teilaussagen und bilden Sie Subjunktionen (\"A ist Ritter → ... \") um das Rätsel zu lösen. Wie viele mögliche Lösungen gibt es? (Vermutlich brauchen Sie Python für diese Aufgabe nicht.)"
   ]
  },
  {
   "cell_type": "code",
   "execution_count": null,
   "id": "ad1edbe1-e559-4991-9ac1-fdd29cbee390",
   "metadata": {},
   "outputs": [],
   "source": []
  }
 ],
 "metadata": {
  "kernelspec": {
   "display_name": "Python 3 (ipykernel)",
   "language": "python",
   "name": "python3"
  },
  "language_info": {
   "codemirror_mode": {
    "name": "ipython",
    "version": 3
   },
   "file_extension": ".py",
   "mimetype": "text/x-python",
   "name": "python",
   "nbconvert_exporter": "python",
   "pygments_lexer": "ipython3",
   "version": "3.10.8"
  }
 },
 "nbformat": 4,
 "nbformat_minor": 5
}
