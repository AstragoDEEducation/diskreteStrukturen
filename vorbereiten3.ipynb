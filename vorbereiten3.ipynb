{
 "cells": [
  {
   "cell_type": "markdown",
   "id": "71bf99af-c686-4d8f-8f49-0eaafdac764a",
   "metadata": {},
   "source": [
    "Denken Sie daran, das nächste Feld auszuführen, bevor Sie die untenstehenden Aufgaben bearbeiten."
   ]
  },
  {
   "cell_type": "code",
   "execution_count": null,
   "id": "8a22a3fc-4bd5-4a32-9f8a-021cdedd59e2",
   "metadata": {},
   "outputs": [],
   "source": [
    "from utils.discrstruct import *\n",
    "from definitions import *"
   ]
  },
  {
   "cell_type": "markdown",
   "id": "834dff7e-81f6-4aca-92a7-a9fd3a89106f",
   "metadata": {},
   "source": [
    "<h1>Kapitel 3: Tautologien</h1>\n",
    "<h2>3.1 Aufwärmübungen</h2>\n",
    "\n",
    "1. Was haben die Wahrheitswerte der folgenden Gruppen formallogischer Ausdrücke jeweils gemeinsam?\n",
    "\n",
    "Gruppe 1\n",
    "\n",
    "A ∨ ¬A\n",
    "(A ∧ ¬A) = 0\n",
    "(A ∧ B) → B\n",
    "\n",
    "Gruppe 2\n",
    "\n",
    "A ∧ ¬A\n",
    "(A ↔ B) = (A ↮ B)\n",
    "(A ∧ B) ↔ (¬A ∨ ¬B)\n",
    "\n",
    "Gruppe 3\n",
    "\n",
    "A ∧ A\n",
    "(A → B) → B\n",
    "B → (A ∧ B)\n",
    "A∧B↔B\n",
    "\n",
    "Falls Sie sich nicht sicher sind, übersetzen Sie die Ausdrücke in Python-Notation und sehen Sie sich die Wahrheitstabellen mit printtable() an. "
   ]
  },
  {
   "cell_type": "code",
   "execution_count": null,
   "id": "49850d47-7fe0-4d24-81b9-f3e4c0ca532e",
   "metadata": {},
   "outputs": [],
   "source": [
    "printtable(\"TODO\")"
   ]
  },
  {
   "cell_type": "markdown",
   "id": "170586f0-e27e-43db-923b-1bb721760e60",
   "metadata": {},
   "source": [
    "2. Eine Mutter sagt zu ihrem kleinen Kind: \"Wenn Du Deinen Teller leer isst, bekommst Du Nachtisch.\" Sie wissen, dass die Mutter damit auch sagen will: \"Wenn Du Deinen Teller nicht leer isst, bekommst Du keinen Nachtisch.\" Modellieren Sie diese Aussage der Mutter als logischen Ausdruck und geben Sie die Wahrheitstabelle an."
   ]
  },
  {
   "cell_type": "markdown",
   "id": "a60a83f6-6408-41e8-a8eb-2f958977306d",
   "metadata": {},
   "source": [
    "<h2>3.4 Tautologie und Kontradiktion</h2>\n",
    "\n",
    "Die folgenden Definitionen kann man schlecht in Python darstellen, da man eventuell andere Wissenschaften als Mathematik benötigt um festzustellen, ob etwas \"immer wahr\" ist. Daher kommen die Operatoren $\\Rightarrow$ und $\\Leftrightarrow$ nicht in Python vor.\n",
    "Die Symbole \"-s>>\" und \"==\" bedeuten $\\rightarrow$ und $\\leftrightarrow$.\n",
    "\n",
    "<div style='background-color: lightgray'><b>Definition:</b> Aussageformen, die unabhängig von der Belegung ihrer Variablen immer wahr sind, heißen <i>Tautologien</i>. Aussageformen, die unabhängig von der Belegung ihrer Variablen immer falsch sind, heißen <i>Kontradiktionen</i>.</div>\n",
    "\n",
    "<div style='background-color: lightgray'><b>Definition:</b> Tautologien der Form A $\\rightarrow$ B heißen <i>Implikationen</i> und werden A $\\Rightarrow$ B geschrieben. Tautologien der Form A $\\leftrightarrow$ B heißen <i>Äquivalenzen</i> und werden A $\\Leftrightarrow$ B geschrieben.\n",
    "    \n",
    "<div style='background-color: lightgray'><b>Definition:</b> In der Implikation A $\\Rightarrow$  B wird A die <i>hinreichende Bedingung</i> für B genannt. B wird die <i>notwendige Bedingung</i> für A genannt."
   ]
  },
  {
   "cell_type": "markdown",
   "id": "f461c44c-4c61-45ba-85d1-bd0d9a774007",
   "metadata": {},
   "source": [
    "<h1>Kapitel 4: Aussagenlogisches Rechnen</h1>\n",
    "<h2>4.1 Aufwärmübungen</h2>\n",
    "\n",
    "1. Überzeugen Sie sich mittels Wahrheitstabelle, dass die folgenden Aussageformen Tautologien sind:\n",
    "\n",
    "A ∧ (B ∧ C) ↔ (A ∧ B) ∧ C\n",
    "A ∨ (B ∧ C) ↔ (A ∨ B) ∧ (A ∨ C)\n",
    "\n",
    "Probieren Sie, ob Sie weitere ähnliche Beispiele von Tautologien finden können."
   ]
  },
  {
   "cell_type": "code",
   "execution_count": null,
   "id": "189b0315-3502-40fc-a043-fedb63e6d25b",
   "metadata": {},
   "outputs": [],
   "source": []
  },
  {
   "cell_type": "markdown",
   "id": "603fd48a-ca6a-4c20-9d2c-713d135ce61d",
   "metadata": {},
   "source": [
    "2. Angenommen die drei Aussagen a → b, b → c, c → d sind alle wahr. (Wir könnten also auch a => b, b => c, c => d schreiben.)\n",
    "\n",
    "(a)  Kann man dann eine Aussage über den Wahrheitswert von a → d machen? Welche und warum?\n",
    "\n",
    "(b)  Erstellen Sie eine Wahrheitstabelle für die vier Aussagen. Streichen Sie dann alle Zeilen, in  denen a →b den Wert false hat, dann alle  in  denen b → c den  Wert false hat,  und schließlich alle in denen c → d den Wert false hat, Stimmen die übrig gebliebenen Zeilen mit Ihrer Antwort aus Teil (a) überein?\n",
    "\n",
    "(c)  Gibt es einen kürzeren Weg, um die Frage aus Teil (a) zu beantworten, der ohne das Aufstellen der ganzen Wahrheitstabelle auskommt?\n"
   ]
  },
  {
   "cell_type": "code",
   "execution_count": null,
   "id": "126d37c2-f12a-4363-afd6-67c767b88d11",
   "metadata": {},
   "outputs": [],
   "source": []
  },
  {
   "cell_type": "markdown",
   "id": "73f660c5-8d18-4df3-a4fd-1e89b83387bf",
   "metadata": {},
   "source": [
    "<h2>4.3 Algebraische Eigenschaften logischer Operatoren</h2>\n",
    "    \n",
    "<div style='background-color: lightgray'><b>Definition:</b>\n",
    "folgende Namen sind für algebraische Eigenschaften festgelegt:\n",
    "</div>\n",
    "<table>\n",
    "<tr><td>neutrales Element\n",
    "<td>$A \\lor False \\Leftrightarrow A$\n",
    "<td>$A \\land True \\Leftrightarrow A$\n",
    "<tr><td>Komplementarität (tertium non datur)\n",
    "<td>$A \\lor \\lnot A \\Leftrightarrow True$\n",
    "<td>$A \\land \\lnot A \\Leftrightarrow False$\n",
    "<tr><td>absorbierendes Element (faule Auswertung)\n",
    "<td>$A \\lor True \\Leftrightarrow True$\n",
    "<td>$A \\land False \\Leftrightarrow False$\n",
    "<tr><td>Kommutativität\n",
    "<td>$A \\lor B \\Leftrightarrow B \\lor A$\n",
    "<td>$A \\land B \\Leftrightarrow B \\land A$\n",
    "<tr><td>Assoziativität\n",
    "<td>$A \\lor (B \\lor C) \\Leftrightarrow (A \\lor B) \\lor C$\n",
    "<td>$A \\land (B \\land C) \\Leftrightarrow (A \\land B) \\land  C$\n",
    "<tr><td>Distributivität\n",
    "<td>$A \\lor (B \\land C) \\Leftrightarrow  (A \\lor B) \\land (A \\lor C)$\n",
    "<td>$A \\land (B \\lor C) \\Leftrightarrow  (A \\land B) \\lor (A \\land C)$\n",
    "<tr><td>Idempotenz\n",
    "<td>$A \\lor A  \\Leftrightarrow A$\n",
    "<td>$A \\land A  \\Leftrightarrow A$\n",
    "<tr><td>Absorption\n",
    "<td>$A \\lor (A \\land B) \\Leftrightarrow A$\n",
    "<td>$A \\land (A \\lor B) \\Leftrightarrow A$\n",
    "<tr><td><td>$A \\lor (\\lnot A \\land B) \\Leftrightarrow A \\lor B$\n",
    "<td>$A \\land (\\lnot A \\lor B) \\Leftrightarrow A \\land B$\n",
    "<tr><td>de Morgan'sche Regeln\n",
    "<td>$\\lnot(A \\lor B) \\Leftrightarrow \\lnot A \\land \\lnot B$\n",
    "<td>$\\lnot(A \\land B) \\Leftrightarrow  \\lnot A \\lor \\lnot B$\n",
    "<tr><td>doppelte Negation\n",
    "<td>$\\lnot \\lnot A  \\Leftrightarrow A$\n",
    "</table>\n",
    "Diese Eigenschaften gelten für logische Operatoren, können aber auch für andere Operatoren gelten. Diese Definitionen von Eigenschaften sind in der Datei <b>definitions.py</b> hinterlegt. Zum Beispiel ist dort die Kommutativität definiert:"
   ]
  },
  {
   "cell_type": "code",
   "execution_count": null,
   "id": "8ea0712d-270f-4dc7-8a54-123b60fa3dd8",
   "metadata": {},
   "outputs": [],
   "source": [
    "def isKommut (setOrList,op):\n",
    "    return all (op(x,y) == op(y,x) \n",
    "    for x in setOrList for y in setOrList)"
   ]
  },
  {
   "cell_type": "markdown",
   "id": "a5bad3c4-741c-4b8d-989c-1455dd2f165a",
   "metadata": {},
   "source": [
    "Dabei wird einiges verwendet, was erst später behandelt wird. Sie brauchen das also noch nicht genau zu verstehen. Sie sehen aber, dass dort <i>op(x,y) == op(y,x)</i> geprüft wird, was genau dem Vertauschen von Operanden entspricht. Um die Definition anzuwenden, müssen Sie zunächst ein paar Operationen definieren, zum Beispiel:"
   ]
  },
  {
   "cell_type": "code",
   "execution_count": null,
   "id": "994cf4b8-f2c9-4060-9fa0-c9e1e203f016",
   "metadata": {},
   "outputs": [],
   "source": [
    "def plus (a,b):\n",
    "    return a + b\n",
    "\n",
    "def mal (a,b):\n",
    "    return a * b\n",
    "\n",
    "def negiert (a):\n",
    "    return -a"
   ]
  },
  {
   "cell_type": "markdown",
   "id": "58138035-0cf5-4294-81f7-8e9ab4fa811f",
   "metadata": {},
   "source": [
    "Sie können dann zum Beispiel Eigenschaften der Zahlen von 0 bis 100 bezüglich Addition und Multiplikation überprüfen:"
   ]
  },
  {
   "cell_type": "code",
   "execution_count": null,
   "id": "7ecd788b-aa55-4550-89c2-d3f3a399a98f",
   "metadata": {},
   "outputs": [],
   "source": [
    "hasNeutrElem(range(0,101),plus,0)\n",
    "isKompl(range(0,101),plus,1,negiert)\n",
    "hasAbsorbElem(range(0,101),plus,1)\n",
    "isKommut(range(0,101),plus)\n",
    "isAssoc(range(0,101),plus)\n",
    "isDistrib (range(0,101),mal,plus)\n",
    "isAbsorp (range(0,101),plus,mal,negiert)\n",
    "isIdemp (range(0,101),plus)\n",
    "hasDoubleNeg(range(0,101),negiert)"
   ]
  },
  {
   "cell_type": "markdown",
   "id": "1927cbef-17b7-46fe-b59f-e1efd432a802",
   "metadata": {},
   "source": [
    "Überlegen Sie sich, warum diese Eigenschaften gelten oder nicht gelten. Definieren Sie andere Operatoren (z.B. logisches Und, Oder, Negation, Subtraktion, Division) und überprüfen Sie deren Eigenschaften. Machen Sie das einfach analog, auch wenn Sie noch nicht ganz verstehen, wie diese Definitionen aufgebaut sind. Was müssen Sie jeweils als neutrales Element wählen? Warum gelten manche Eigenschaften nicht? Was passiert, wenn Sie im Distributivgesetz plus und mal vertauschen und warum?"
   ]
  },
  {
   "cell_type": "code",
   "execution_count": null,
   "id": "3eb7354c-21f3-4fd5-9f10-5b91f0433a65",
   "metadata": {},
   "outputs": [],
   "source": [
    "def und (a,b):\n",
    "    return TODO   \n",
    "\n",
    "def minus (a,b):\n",
    "    return TODO\n",
    "\n",
    "hasNeutrElem({True,False},und,True)"
   ]
  },
  {
   "cell_type": "markdown",
   "id": "4f67b903-ad23-40ba-9e92-681216943a88",
   "metadata": {},
   "source": [
    "Es existieren viele weitere algebraische Eigenschaften, zum Beispiel diese:"
   ]
  },
  {
   "cell_type": "markdown",
   "id": "e444efcf-a729-459c-b9ad-3e1e4902d9ad",
   "metadata": {},
   "source": [
    "<div style='background-color: lightgray'><b>Definition:</b> Eine binäre logische Operation $\\circ$ heißt transitiv, wenn gilt: Wenn A$\\circ$ B und B $\\circ$ C, dann auch A $\\circ$ C.</div>"
   ]
  },
  {
   "cell_type": "code",
   "execution_count": null,
   "id": "3e7611db-8620-4afb-88d2-acb3ecd45202",
   "metadata": {},
   "outputs": [],
   "source": [
    "def isTransitiv (setOrList,op):\n",
    "    return all ((op(a,b) and op(b,c)) -s>> op(a,c)\n",
    "    for a in setOrList for b in setOrList for c in setOrList)"
   ]
  },
  {
   "cell_type": "markdown",
   "id": "902dec3a-f39e-44ba-a767-f0f049da7b74",
   "metadata": {},
   "source": [
    "Damit können Sie zum Beispiel überprüfen, ob die Subjunktion transitiv ist:"
   ]
  },
  {
   "cell_type": "code",
   "execution_count": null,
   "id": "1ca40e47-8009-4414-83e5-29d9b531b52f",
   "metadata": {},
   "outputs": [],
   "source": [
    "def subjunktion (a,b):\n",
    "    return a -s>> b\n",
    "\n",
    "isTransitiv({True,False},subjunktion)"
   ]
  },
  {
   "cell_type": "markdown",
   "id": "bb734f06-0ddf-42ee-b5e7-3b3877f55c96",
   "metadata": {},
   "source": [
    "<h2>4.9 Übungsaufgaben</h2>\n",
    "\n",
    "Vereinfachen Sie die folgenden Ausdrücke. Verwenden Sie Wahrheitstafeln um Ihre Ergebnisse zu überprüfen.\n",
    "\n",
    "(a ∧ b) ∨ (a ∨ b)\n",
    "\n",
    "(a ∧ b) ∨ (a ∧ ¬b)\n",
    "\n",
    "(a ∧ b) ∧ (¬a ∧ ¬b)\n",
    "\n",
    "(a → b) ∧ ¬a\n",
    "\n",
    "(a <-> b) ∧ (a ∨ b)\n"
   ]
  },
  {
   "cell_type": "code",
   "execution_count": null,
   "id": "6b2db7c1-faf1-409c-ac04-d21e388545f5",
   "metadata": {},
   "outputs": [],
   "source": []
  }
 ],
 "metadata": {
  "kernelspec": {
   "display_name": "Python 3 (ipykernel)",
   "language": "python",
   "name": "python3"
  },
  "language_info": {
   "codemirror_mode": {
    "name": "ipython",
    "version": 3
   },
   "file_extension": ".py",
   "mimetype": "text/x-python",
   "name": "python",
   "nbconvert_exporter": "python",
   "pygments_lexer": "ipython3",
   "version": "3.10.8"
  }
 },
 "nbformat": 4,
 "nbformat_minor": 5
}
