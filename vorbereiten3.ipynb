{
 "cells": [
  {
   "cell_type": "markdown",
   "id": "71bf99af-c686-4d8f-8f49-0eaafdac764a",
   "metadata": {},
   "source": [
    "Denken Sie daran, das nächste Feld auszuführen, bevor Sie die untenstehenden Aufgaben bearbeiten."
   ]
  },
  {
   "cell_type": "code",
   "execution_count": null,
   "id": "8a22a3fc-4bd5-4a32-9f8a-021cdedd59e2",
   "metadata": {},
   "outputs": [],
   "source": [
    "from utils.discrstruct import *\n",
    "from definitions import *"
   ]
  },
  {
   "cell_type": "markdown",
   "id": "834dff7e-81f6-4aca-92a7-a9fd3a89106f",
   "metadata": {},
   "source": [
    "<h1>Kapitel 3: Tautologien</h1>\n",
    "<h2>3.1 Aufwärmübungen</h2>\n",
    "\n",
    "1. Was haben die Wahrheitswerte der folgenden Gruppen formallogischer Ausdrücke jeweils gemeinsam?\n",
    "\n",
    "Gruppe 1\n",
    "\n",
    "A ∨ ¬A<br>\n",
    "(A ∧ ¬A) = 0<br>\n",
    "(A ∧ B) → B\n",
    "\n",
    "Gruppe 2\n",
    "\n",
    "A ∧ ¬A<br>\n",
    "(A ↔ B) = (A ↮ B)<br>\n",
    "(A ∧ B) ↔ (¬A ∨ ¬B)\n",
    "\n",
    "Gruppe 3\n",
    "\n",
    "A ∧ A<br>\n",
    "(A → B) → B<br>\n",
    "B → (A ∧ B)<br>\n",
    "A∧B↔B\n",
    "\n",
    "Falls Sie sich nicht sicher sind, übersetzen Sie die Ausdrücke in Python-Notation und sehen Sie sich die Wahrheitstabellen mit printtable() an. "
   ]
  },
  {
   "cell_type": "code",
   "execution_count": null,
   "id": "49850d47-7fe0-4d24-81b9-f3e4c0ca532e",
   "metadata": {},
   "outputs": [],
   "source": [
    "printtable(\"TODO\")"
   ]
  },
  {
   "cell_type": "markdown",
   "id": "170586f0-e27e-43db-923b-1bb721760e60",
   "metadata": {},
   "source": [
    "2. Eine Mutter sagt zu ihrem kleinen Kind: \"Wenn Du Deinen Teller leer isst, bekommst Du Nachtisch.\" Sie wissen, dass die Mutter damit auch sagen will: \"Wenn Du Deinen Teller nicht leer isst, bekommst Du keinen Nachtisch.\" Modellieren Sie diese Aussage der Mutter als logischen Ausdruck (zB. mit \"t\" für \"Teller leer essen\" und \"n\" für \"Nachtisch bekommen\") und geben Sie die Wahrheitstabelle an."
   ]
  },
  {
   "cell_type": "code",
   "execution_count": null,
   "id": "d10419f9-1d55-4379-9f37-6cf18bdc3a7e",
   "metadata": {},
   "outputs": [],
   "source": []
  },
  {
   "cell_type": "markdown",
   "id": "a60a83f6-6408-41e8-a8eb-2f958977306d",
   "metadata": {},
   "source": [
    "<h2>3.4 Tautologie und Kontradiktion</h2>\n",
    "\n",
    "Die folgenden Definitionen kann man schlecht in Python darstellen, da man eventuell andere Wissenschaften als Mathematik benötigt um festzustellen, ob etwas \"immer wahr\" ist. Daher kommen die Operatoren $\\Rightarrow$ und $\\Leftrightarrow$ nicht in Python vor, sondern nur $\\rightarrow$ und $\\leftrightarrow$, die als \"-s>>\" (oder \"<=\") bzw. \"==\" geschrieben werden.\n",
    "\n",
    "<div style='background-color: lightgray'><b>Definition:</b> Aussageformen, die unabhängig von der Belegung ihrer Variablen immer wahr sind, heißen <i>Tautologien</i>. Aussageformen, die unabhängig von der Belegung ihrer Variablen immer falsch sind, heißen <i>Kontradiktionen</i>.</div>\n",
    "\n",
    "<div style='background-color: lightgray'><b>Definition:</b> Tautologien der Form A $\\rightarrow$ B heißen <i>Implikationen</i> und werden A $\\Rightarrow$ B geschrieben. Tautologien der Form A $\\leftrightarrow$ B heißen <i>Äquivalenzen</i> und werden A $\\Leftrightarrow$ B geschrieben.\n",
    "    \n",
    "<div style='background-color: lightgray'><b>Definition:</b> In der Implikation A $\\Rightarrow$  B wird A die <i>hinreichende Bedingung</i> für B genannt. B wird die <i>notwendige Bedingung</i> für A genannt."
   ]
  },
  {
   "cell_type": "markdown",
   "id": "f461c44c-4c61-45ba-85d1-bd0d9a774007",
   "metadata": {},
   "source": [
    "<h1>Kapitel 4: Aussagenlogisches Rechnen</h1>\n",
    "<h2>4.1 Aufwärmübungen</h2>\n",
    "\n",
    "1. Überzeugen Sie sich mittels Wahrheitstabelle, dass die folgenden Aussageformen Tautologien sind. (Beachten Sie dabei, dass Sie Klammern setzen müssen, da \"==\" eine höhere Präzedenz hat als \"and\" oder \"or\".)\n",
    "\n",
    "A ∧ (B ∧ C) ↔ (A ∧ B) ∧ C\n",
    "\n",
    "A ∨ (B ∧ C) ↔ (A ∨ B) ∧ (A ∨ C)"
   ]
  },
  {
   "cell_type": "code",
   "execution_count": null,
   "id": "189b0315-3502-40fc-a043-fedb63e6d25b",
   "metadata": {},
   "outputs": [],
   "source": []
  },
  {
   "cell_type": "markdown",
   "id": "603fd48a-ca6a-4c20-9d2c-713d135ce61d",
   "metadata": {},
   "source": [
    "2. Vergleichen Sie die Wahrheitstabelle für \"a → b and b → c\" mit der Wahrheitstabelle für \"a → c\". Sehen Sie sich insbesondere die Zeilen an, die in beiden Tabellen True ergeben. Welche Beziehung besteht zwischen den Tabellen? "
   ]
  },
  {
   "cell_type": "code",
   "execution_count": null,
   "id": "126d37c2-f12a-4363-afd6-67c767b88d11",
   "metadata": {},
   "outputs": [],
   "source": []
  },
  {
   "cell_type": "markdown",
   "id": "60cc0c7a-8fe9-4af8-abd8-efbf43fd6fc5",
   "metadata": {},
   "source": [
    "Welchen Python-Operator können Sie zwischen die beiden Aussageformen setzen, so dass sich eine Tautologie ergibt:"
   ]
  },
  {
   "cell_type": "code",
   "execution_count": null,
   "id": "950d9ef1-2b9b-4608-a45c-5d65eb19ef52",
   "metadata": {},
   "outputs": [],
   "source": [
    "printtable (\"((a -s>> b) and (b -s>> c)) TODO (a -s>> c)\")"
   ]
  },
  {
   "cell_type": "markdown",
   "id": "73f660c5-8d18-4df3-a4fd-1e89b83387bf",
   "metadata": {},
   "source": [
    "<h2>4.3 Algebraische Eigenschaften logischer Operatoren</h2>\n",
    "    \n",
    "<div style='background-color: lightgray'><b>Definition:</b>\n",
    "folgende Namen für algebraische Eigenschaften werden festgelegt:\n",
    "</div>\n",
    "<table>\n",
    "<tr><td>neutrales Element\n",
    "<td>$A \\lor False \\Leftrightarrow A$\n",
    "<td>$A \\land True \\Leftrightarrow A$\n",
    "<tr><td>Komplementarität (tertium non datur)\n",
    "<td>$A \\lor \\lnot A \\Leftrightarrow True$\n",
    "<td>$A \\land \\lnot A \\Leftrightarrow False$\n",
    "<tr><td>absorbierendes Element (faule Auswertung)\n",
    "<td>$A \\lor True \\Leftrightarrow True$\n",
    "<td>$A \\land False \\Leftrightarrow False$\n",
    "<tr><td>Kommutativität\n",
    "<td>$A \\lor B \\Leftrightarrow B \\lor A$\n",
    "<td>$A \\land B \\Leftrightarrow B \\land A$\n",
    "<tr><td>Assoziativität\n",
    "<td>$A \\lor (B \\lor C) \\Leftrightarrow (A \\lor B) \\lor C$\n",
    "<td>$A \\land (B \\land C) \\Leftrightarrow (A \\land B) \\land  C$\n",
    "<tr><td>Distributivität\n",
    "<td>$A \\lor (B \\land C) \\Leftrightarrow  (A \\lor B) \\land (A \\lor C)$\n",
    "<td>$A \\land (B \\lor C) \\Leftrightarrow  (A \\land B) \\lor (A \\land C)$\n",
    "<tr><td>Idempotenz\n",
    "<td>$A \\lor A  \\Leftrightarrow A$\n",
    "<td>$A \\land A  \\Leftrightarrow A$\n",
    "<tr><td>Absorption\n",
    "<td>$A \\lor (A \\land B) \\Leftrightarrow A$\n",
    "<td>$A \\land (A \\lor B) \\Leftrightarrow A$\n",
    "<tr><td><td>$A \\lor (\\lnot A \\land B) \\Leftrightarrow A \\lor B$\n",
    "<td>$A \\land (\\lnot A \\lor B) \\Leftrightarrow A \\land B$\n",
    "<tr><td>de Morgan'sche Regeln\n",
    "<td>$\\lnot(A \\lor B) \\Leftrightarrow \\lnot A \\land \\lnot B$\n",
    "<td>$\\lnot(A \\land B) \\Leftrightarrow  \\lnot A \\lor \\lnot B$\n",
    "<tr><td>doppelte Negation\n",
    "<td>$\\lnot \\lnot A  \\Leftrightarrow A$\n",
    "</table>\n",
    "\n",
    "Können Sie einen Zusammenhang zwischen der linken und rechten Spalte beschreiben? Welche dieser Eigenschaften kennen Sie schon aus anderen Zusammenhängen (zB. für die Addition und Multiplikation von Zahlen)? Welche Eigenschaften gelten nicht für die Addition und Multiplikation von Zahlen?\n",
    "    \n",
    "Die Definition legt nur die Bezeichnungen fest. Man müsste nun überprüfen, dass es sich bei den Eigenschaften tatsächlich um Tautologien handelt. Überprüfen Sie dies für einige dieser Eigenschaften mit Python:"
   ]
  },
  {
   "cell_type": "code",
   "execution_count": null,
   "id": "49a5820d-3822-4172-86cb-fe57503c4fd8",
   "metadata": {},
   "outputs": [],
   "source": [
    "printtable(\"(a or False) == a\")\n",
    "printtable(\"TODO\")"
   ]
  },
  {
   "cell_type": "markdown",
   "id": "4f67b903-ad23-40ba-9e92-681216943a88",
   "metadata": {},
   "source": [
    "<h2>4.6 Allgemeine Strukturen</h2>\n",
    "\n",
    "Es existieren viele weitere algebraische Eigenschaften, zum Beispiel diese:\n",
    "\n",
    "<div style='background-color: lightgray'><b>Definition:</b> Eine binäre Operation $\\circ$ heißt transitiv, wenn gilt: Wenn A$\\circ$ B und B $\\circ$ C, dann auch A $\\circ$ C.</div>\n",
    "<p></p>\n",
    "Überprüfen Sie, ob dies auf das zutrifft, was Sie in der Aufwärmübung bezüglich $\\rightarrow$ (bzw. -s>>) gezeigt haben. D.h. Sie sollten in der Aufwärmübung gezeigt haben, dass die Subjunktion transitiv ist. Gibt es andere Operatoren, die transitiv sind? Überlegen Sie sich zB. ob +, *, < oder = transitiv sind. "
   ]
  },
  {
   "cell_type": "markdown",
   "id": "bb734f06-0ddf-42ee-b5e7-3b3877f55c96",
   "metadata": {},
   "source": [
    "<h2>4.9 Übungsaufgaben</h2>\n",
    "\n",
    "Vereinfachen Sie die folgenden Ausdrücke durch Anwenden der algebraischen Eigenschaften. Sie können Ihre Vereinfachungen mit Wahrheitstafeln überprüfen, denn die Ergebnisspalte der Wahrheitstabelle muss nach jeder Vereinfachung unverändert bleiben.\n",
    "\n",
    "(a ∧ b) ∨ (a ∨ b)\n",
    "\n",
    "(a ∧ b) ∨ (a ∧ ¬b)\n",
    "\n",
    "(a ∧ b) ∧ (¬a ∧ ¬b)\n",
    "\n",
    "(a → b) ∧ ¬a\n",
    "\n",
    "(a <-> b) ∧ (a ∨ b)\n"
   ]
  },
  {
   "cell_type": "code",
   "execution_count": null,
   "id": "6b2db7c1-faf1-409c-ac04-d21e388545f5",
   "metadata": {},
   "outputs": [],
   "source": []
  }
 ],
 "metadata": {
  "kernelspec": {
   "display_name": "Python 3 (ipykernel)",
   "language": "python",
   "name": "python3"
  },
  "language_info": {
   "codemirror_mode": {
    "name": "ipython",
    "version": 3
   },
   "file_extension": ".py",
   "mimetype": "text/x-python",
   "name": "python",
   "nbconvert_exporter": "python",
   "pygments_lexer": "ipython3",
   "version": "3.10.8"
  }
 },
 "nbformat": 4,
 "nbformat_minor": 5
}
