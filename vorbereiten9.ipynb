{
 "cells": [
  {
   "cell_type": "code",
   "execution_count": null,
   "id": "b0a1e6a6-8423-45f7-95d1-fc2527576434",
   "metadata": {},
   "outputs": [],
   "source": [
    "from utils.discrstruct import *\n",
    "from sympy import EmptySet, FiniteSet,  PowerSet"
   ]
  },
  {
   "cell_type": "markdown",
   "id": "35c3c69d-fd7c-4a8a-80cc-a1a4a7f8e8f3",
   "metadata": {},
   "source": [
    "<h1>Kapitel 9: Funktionen als Objekte</h1>\n",
    "\n",
    "<h2>9.1 Aufwärmübungen</h2>\n",
    "\n",
    "1. Hier ist nochmal der Python-Code der Funktionseigenschaften links/rechts-total/eindeutig aus der letzten Woche mit ein paar Relationen, Funktionen, Definitions- und Wertebereichen:"
   ]
  },
  {
   "cell_type": "code",
   "execution_count": null,
   "id": "409a9489-f3a4-4f5a-8caf-2dddf822d3ab",
   "metadata": {},
   "outputs": [],
   "source": [
    "def linksTotal (D,W,f):\n",
    "    return all(any ((d,w) in f for w in W) for d in D)\n",
    "def rechtsTotal (D,W,f):\n",
    "    return all(any ((d,w) in f for d in D) for w in W)\n",
    "def rechtsEindeutig (f):   \n",
    "    return all( (a == x) -s>> (b == y) for (a,b) in f for (x,y) in f)\n",
    "def linksEindeutig (f):   \n",
    "    return all( (b == y) -s>> (a == x) for (a,b) in f for (x,y) in f)\n",
    "R1 = FiniteSet((1,21),(1,23),(3,23))\n",
    "F1 = FiniteSet((1,21),(2,21),(3,23))\n",
    "F2 = FiniteSet((1,21),(2,22),(3,23))\n",
    "D = FiniteSet(1,2,3)\n",
    "W1 = FiniteSet(21,22,23)\n",
    "W2 = FiniteSet(21,23)\n",
    "W3 = FiniteSet(21,22,23,24)"
   ]
  },
  {
   "cell_type": "markdown",
   "id": "286adb67-68d0-4093-b757-6f18af7782d5",
   "metadata": {},
   "source": [
    "<img src=\"https://upriss.github.io/educaJS/images/imgFTypes.jpg\" alt=\"Funktionseigenschaften\" width=800 />\n",
    "\n",
    "Verstehen Sie anhand des folgenden Python-Codes, was rechts/links-total/eindeutig jeweils bedeuten? In welchem Fall könnte man die Funktion umkehren, weil alle Bedingungen (in beide Richtungen) gelten?\n"
   ]
  },
  {
   "cell_type": "code",
   "execution_count": null,
   "id": "404997a9-1a5f-491b-8a95-49fd7c13fad9",
   "metadata": {},
   "outputs": [],
   "source": [
    "rechtsEindeutig(R1) or linksTotal(D,W1,R1) or linksEindeutig(R1) or rechtsTotal(D,W1,R1)\n",
    "rechtsEindeutig(F1) and linksTotal(D,W1,F1)\n",
    "rechtsTotal(D,W1,F1)\n",
    "rechtsTotal(D,W2,F1)\n",
    "rechtsEindeutig(F2) and linksTotal(D,W1,F2) and linksEindeutig(F2)\n",
    "rechtsTotal(D,W3,F2)\n",
    "rechtsTotal(D,W1,F2)"
   ]
  },
  {
   "cell_type": "markdown",
   "id": "ecb11182-7a6d-41e6-b8e9-c526f4fcab07",
   "metadata": {},
   "source": [
    "2. Hier sind nochmal die Funktionen addiere1 und bildmenge aus der letzten Woche. Definieren Sie die Quadratfunktion als eine weitere Funktion und wenden Sie bildmenge darauf an. Ist es in Java auch möglich, den Namen einer Funktion als Input in einer anderen Funktion zu verwenden, so wie in Python?"
   ]
  },
  {
   "cell_type": "code",
   "execution_count": null,
   "id": "61913522-5262-43f7-97a5-ccb28a067987",
   "metadata": {},
   "outputs": [],
   "source": [
    "def addiere1(a):\n",
    "     return a + 1\n",
    "addiere1(42)\n",
    "\n",
    "def bildmenge (f,D):\n",
    "    return FiniteSet(*[f(d) for d in D])\n",
    "bildmenge(addiere1,range(1,11))\n",
    "\n",
    "def quadrat(a):\n",
    "    return TODO"
   ]
  },
  {
   "cell_type": "markdown",
   "id": "c1fbaf9e-156c-4470-8585-9ec875d4f7d9",
   "metadata": {},
   "source": [
    "<h2>9.3 Besondere Eigenschaften</h2>\n",
    "\n",
    "Anstatt \"rechtstotal\" sagt man auch \"surjektiv\", anstatt \"linkseindeutig\" auch \"injektiv\".\n",
    "\n",
    "<div style='background-color: lightgray'><b>Definition:</b> \n",
    "Eine Funktion f : D → W heißt \n",
    "\n",
    "<ul>\n",
    "<li><i>surjektiv</i>, wenn jedes Element von W das Bild eines Elements von D ist.\n",
    "<li><i>injektiv</i>, genau dann wenn verschiedene Elemente von \n",
    "        D auf verschiedene Elemente von W abgebildet werden.\n",
    "<li><i>bijektiv</i> oder <i>umkehrbar</i>, \n",
    "genau dann wenn f sowohl injektiv als auch surjektiv ist.      \n",
    "</ul>\n",
    "</div>"
   ]
  },
  {
   "cell_type": "markdown",
   "id": "8f4c21bc-4cfa-455e-b9d0-f6bce0583ff4",
   "metadata": {},
   "source": [
    "<div style='background-color: lightgray'><b>Definition:</b> \n",
    "     Ist eine Funktion f : D → W bijektiv, dann wird die Funktion, die jedem y ∈ W genau ein x ∈ D zuordnet, als <i>Umkehrfunktion</i> von f bezeichnet und mit $f^{-1}$ symbolisiert.\n",
    "    </div>\n",
    "    \n",
    "Aufgabe: definieren Sie die Umkehrfunktion der Funktion F2 (bezüglich D und W1) aus den Aufwärmübungen:"
   ]
  },
  {
   "cell_type": "code",
   "execution_count": null,
   "id": "51eb8909-e55b-4bea-802b-c0369092a781",
   "metadata": {},
   "outputs": [],
   "source": [
    "F2Umkehrung = FiniteSet(\"TODO\")\n",
    "F2Umkehrung"
   ]
  },
  {
   "cell_type": "markdown",
   "id": "fa6bb9fc-b719-4c69-a801-8aedbe75f05e",
   "metadata": {},
   "source": [
    "<h2>9.4 Operationen auf Funktionen</h2>\n",
    "\n",
    "<div style='background-color: lightgray'><b>Definition:</b> \n",
    "    Für reellwertige Funktionen f : $\\mathbb{R}$ → $\\mathbb{R}$ und g : $\\mathbb{R}$ → $\\mathbb{R}$ ist die <i>Addition</i> f $\\oplus$ g eine Funktion \n",
    "    \n",
    "<center>f $\\oplus$ g : $\\mathbb{R}$ → $\\mathbb{R}$ mit x $\\mapsto$(f$\\oplus$ g)(x) = f(x)+g(x)</center>\n",
    "    </div>\n",
    "\n",
    "Eine direkte Implementierung dieser Definition in Python benötigt \"lambda\"-Funktionen, die wir in diesem Kurs nicht besprechen. Eine etwas einfachere Implementierung sieht so aus:"
   ]
  },
  {
   "cell_type": "code",
   "execution_count": null,
   "id": "059ffa91-c469-4d71-b23d-85973ea7b884",
   "metadata": {},
   "outputs": [],
   "source": [
    "def funktionSumme (f,g,x):\n",
    "    return f(x) + g(x)\n",
    "funktionSumme(addiere1,quadrat,5)"
   ]
  },
  {
   "cell_type": "markdown",
   "id": "e9e7dd0e-5dce-4e12-b319-03595f09c429",
   "metadata": {},
   "source": [
    "<div style='background-color: lightgray'><b>Definition:</b> \n",
    "Zwei Funktionen $f_1$ :$D_1$ →$W_1$ mit x $\\mapsto$ $f_1$(x) und $f_2$ :$D_2$ →$W_2$ mit x $\\mapsto$ $f_2$(x)\n",
    "sind genau dann <i>gleich</i> (notiert als $f_1$ = $f_2$), wenn\n",
    "    \n",
    "1. die Definitionsmengen gleich sind ($D_1$ = $D_2$) und\n",
    "    \n",
    "2. für alle x ∈ $D_1$ gilt $f_1$(x) = $f_2$(x)."
   ]
  },
  {
   "cell_type": "markdown",
   "id": "fbe39f95-6606-4f27-a5ab-94bffe4193b2",
   "metadata": {},
   "source": [
    "<h2>9.5 Komposition von Funktionen</h2>\n",
    "\n",
    "<div style='background-color: lightgray'><b>Definition:</b> \n",
    "Für die Funktionen f :$D_2$ →$W_2$ mit x $\\mapsto$ $f$(x) und g :$D_1$ →$W_1$ mit x $\\mapsto$ $g$(x) und $g(D_1) \\subseteq D_2$ heißt die Funktion \n",
    "    <center>f $\\circ$ g:$D_1$  →$W_2$, x$\\mapsto$ (f $\\circ$ g)(x)=f(g(x))</center>\n",
    "die <i>Komposition</i> oder <i>Verkettung</i> von f mit g.</div>\n",
    "    \n",
    "Zum Beispiel:"
   ]
  },
  {
   "cell_type": "code",
   "execution_count": null,
   "id": "3e69a732-04f5-4d41-b5f0-a2e53dcce00d",
   "metadata": {},
   "outputs": [],
   "source": [
    "quadrat(addiere1(5))\n",
    "addiere1(quadrat(5))"
   ]
  },
  {
   "cell_type": "markdown",
   "id": "49c599ea-07e8-435b-ab70-3d8daec3f075",
   "metadata": {},
   "source": [
    "<div style='background-color: lightgray'><b>Definition:</b> \n",
    "    Die Funktion id : M → M mit x $\\mapsto$ x wird Identitätsfunktion auf der Menge M genannt.</div>\n",
    "    \n",
    "In Python:"
   ]
  },
  {
   "cell_type": "code",
   "execution_count": null,
   "id": "78f5d089-71e6-41db-b137-5a9967ec727d",
   "metadata": {},
   "outputs": [],
   "source": [
    "def ident(x):\n",
    "    return x\n",
    "ident(1)"
   ]
  },
  {
   "cell_type": "markdown",
   "id": "b7041dc8-13c1-4e08-9385-72d06421df82",
   "metadata": {},
   "source": [
    "<div style='background-color: lightgray'><b>Definition:</b> \n",
    "Eine partielle Funktion f ist ein Prozess, der jedes Element x einer Menge D in höchstens ein Element f(x) einer Menge W transformiert.\n",
    "    </div>\n",
    "Welche der Eigenschaften linkstotal, rechtstotal, rechtseindeutig, linkseindeutig muss also für partielle Funktionen immer erfüllt sein?"
   ]
  },
  {
   "cell_type": "markdown",
   "id": "e554c8f9-cc56-4240-81bf-ec2afbb2b5d9",
   "metadata": {},
   "source": [
    "<h2>9.9 Übungsaufgaben</h2>\n",
    "\n",
    "1) Treffen Sie eine allgemeingültige Aussage über die Komposition mit der Identitätsfunktion, d. h. welche Wirkungen haben id ◦ f und f ◦ id? Zum Beispiel:"
   ]
  },
  {
   "cell_type": "code",
   "execution_count": null,
   "id": "79853ad3-b1c1-428f-b60d-6f04f2a396f6",
   "metadata": {},
   "outputs": [],
   "source": [
    "ident(addiere1(5))\n",
    "addiere1(ident(5))"
   ]
  },
  {
   "cell_type": "markdown",
   "id": "a9cf147d-04c4-4fd4-8cca-1b7787bda0a9",
   "metadata": {},
   "source": [
    "2) Überlegen und begründen Sie, ob die Komposition assoziativ und kommutativ ist.\n",
    "\n",
    "3) Programmieren Sie in Python die Subtraktion, Multiplikation und Division von Funktionen \n",
    "\n",
    "4) Wie kann man aus einer partiellen Funktion eine totale Funktion machen und aus einer totalen Funktion eine partielle Funktion?"
   ]
  },
  {
   "cell_type": "code",
   "execution_count": null,
   "id": "22668f74-b459-4b63-9698-c6f6a1b1de51",
   "metadata": {},
   "outputs": [],
   "source": []
  }
 ],
 "metadata": {
  "kernelspec": {
   "display_name": "Python 3 (ipykernel)",
   "language": "python",
   "name": "python3"
  },
  "language_info": {
   "codemirror_mode": {
    "name": "ipython",
    "version": 3
   },
   "file_extension": ".py",
   "mimetype": "text/x-python",
   "name": "python",
   "nbconvert_exporter": "python",
   "pygments_lexer": "ipython3",
   "version": "3.10.8"
  }
 },
 "nbformat": 4,
 "nbformat_minor": 5
}
