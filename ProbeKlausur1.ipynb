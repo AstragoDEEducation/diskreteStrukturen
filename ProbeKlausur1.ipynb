{
 "cells": [
  {
   "cell_type": "code",
   "execution_count": null,
   "id": "bee69768-d9bf-4a19-a937-8df42ff55a7d",
   "metadata": {},
   "outputs": [],
   "source": [
    "from utils.discrstruct import *\n",
    "from sympy import EmptySet, FiniteSet, PowerSet"
   ]
  },
  {
   "cell_type": "markdown",
   "id": "6e02643e-3ad3-4614-b5dc-e6f2635e1ca3",
   "metadata": {},
   "source": [
    "<b>Aufgabe 1</b>\n",
    "\n",
    "a) Erstellen Sie eine Wahrheitstabelle für (a ∧ ((a ∨ c) ∨ b)) → ((b ∧ c) ∧ ¬a) "
   ]
  },
  {
   "cell_type": "code",
   "execution_count": null,
   "id": "6567732a-d9de-4c9c-a764-9a01d8576ee2",
   "metadata": {},
   "outputs": [],
   "source": [
    "printtable(\"(a and ((a or c) or b)) -s>> ((b and c) and not a)\")"
   ]
  },
  {
   "cell_type": "markdown",
   "id": "967a4367-38b9-4304-8608-8614d858ebcf",
   "metadata": {},
   "source": [
    "b) Formen Sie (a∧((a∨c)∨b)) → ((b∧c)∧¬a) schrittweise um. "
   ]
  },
  {
   "cell_type": "code",
   "execution_count": null,
   "id": "57adf8a0-3e09-47b8-83ca-beab93080fa4",
   "metadata": {},
   "outputs": [],
   "source": [
    "printtable(\"(a and ((a or c) or b)) -s>> ((b and c) and not a)\")\n",
    "'Assoziativgesetz:'\n",
    "printtable(\"(a and (a or (c or b))) -s>> ((b and c) and not a)\")\n",
    "'Absorption:'\n",
    "printtable(\"a -s>> ((b and c) and not a)\")\n",
    "'Subjunktion als not ... or .... umformen:'\n",
    "printtable(\"not a or ((b and c) and not a)\")\n",
    "'Absorption:'\n",
    "printtable(\"not a\")"
   ]
  },
  {
   "cell_type": "markdown",
   "id": "60411f13-13f1-4ac8-88e6-770810248ec0",
   "metadata": {},
   "source": [
    "<b>Aufgabe 2</b>"
   ]
  },
  {
   "cell_type": "code",
   "execution_count": null,
   "id": "e2bf714f-c066-4c07-8dd2-ae1d2163bc45",
   "metadata": {},
   "outputs": [],
   "source": [
    "A = FiniteSet((1,1),(1,2),(2,2))\n",
    "B = FiniteSet(1,(1),(1,1),(1,1,1)) \n",
    "C = FiniteSet(1)"
   ]
  },
  {
   "cell_type": "markdown",
   "id": "50ffe679-7c33-4436-8737-135afccc1a36",
   "metadata": {},
   "source": [
    "Achtung: Python scheint nicht zwischen 1 und (1) zu unterscheiden. Daher sind die Antworten von Python anders als eigentlich in der Mathematik üblich! (In der Klausur würde ich Antworten akzeptieren, die entweder der normalen Mathematik entsprechen oder dem, was Python tut.)"
   ]
  },
  {
   "cell_type": "code",
   "execution_count": null,
   "id": "e72eef0e-21e9-47d8-bdae-41cd7acf08c1",
   "metadata": {},
   "outputs": [],
   "source": [
    "1 == (1)\n",
    "B"
   ]
  },
  {
   "cell_type": "code",
   "execution_count": null,
   "id": "1d1963fa-80e0-4daa-b092-f5b4f9108bf5",
   "metadata": {},
   "outputs": [],
   "source": [
    "A & B\n",
    "B | C\n",
    "B - (A | C)\n",
    "set(A * C)\n",
    "set(PowerSet(C))\n",
    "A & C\n",
    "C <= B\n",
    "C in A or C in B\n",
    "EmptySet <= A and EmptySet <= B and EmptySet <= C\n",
    "EmptySet in A or EmptySet in B or EmptySet in C"
   ]
  },
  {
   "cell_type": "code",
   "execution_count": null,
   "id": "e180ccb2-8bff-402e-a563-48409db2e38b",
   "metadata": {},
   "outputs": [],
   "source": [
    "{(a,b) for a in {1,2} for b in {1,2} if a <= b}\n",
    "{(a,b) for a in {1,2} for b in {1,2} if a <= b} == A"
   ]
  },
  {
   "cell_type": "code",
   "execution_count": null,
   "id": "0343979c-a0cc-4f8f-9db6-250d975ef538",
   "metadata": {},
   "outputs": [],
   "source": []
  }
 ],
 "metadata": {
  "kernelspec": {
   "display_name": "Python 3 (ipykernel)",
   "language": "python",
   "name": "python3"
  },
  "language_info": {
   "codemirror_mode": {
    "name": "ipython",
    "version": 3
   },
   "file_extension": ".py",
   "mimetype": "text/x-python",
   "name": "python",
   "nbconvert_exporter": "python",
   "pygments_lexer": "ipython3",
   "version": "3.10.8"
  }
 },
 "nbformat": 4,
 "nbformat_minor": 5
}
