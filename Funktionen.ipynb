{
 "cells": [
  {
   "cell_type": "code",
   "execution_count": null,
   "id": "3d5e1482-9168-44ef-9024-c87f41d69f2a",
   "metadata": {},
   "outputs": [],
   "source": [
    "from utils.discrstruct import *\n",
    "from sympy import EmptySet, FiniteSet, PowerSet"
   ]
  },
  {
   "cell_type": "markdown",
   "id": "239228f4-2294-476f-ad2d-4bcc9221bc0f",
   "metadata": {},
   "source": [
    "<h2>Funktionen als spezielle Relationen</h2>\n",
    "\n",
    "1. Spezifizieren Sie je eine Menge, die nur eine Relation, nur linksTotal oder nur rechtsEindeutig ist, und eine, die sowohl linksTotal als auch rechtsEindeutig ist. Verwenden Sie die Funktionen \"linksTotal\" und \"rechtsEindeutig\" aus dem Notebook \"vorbereiten8\" um Ihre Mengen zu überprüfen."
   ]
  },
  {
   "cell_type": "code",
   "execution_count": null,
   "id": "fd4ddaae-af74-47bc-91d7-352fa5d0d631",
   "metadata": {},
   "outputs": [],
   "source": []
  },
  {
   "cell_type": "markdown",
   "id": "12d99785-81b9-4267-bc88-d3bb08c1c31b",
   "metadata": {},
   "source": [
    "2. Implementieren Sie eine isFunction-Funktion unter Verwendung von linksTotal und rechtsEindeutig. "
   ]
  },
  {
   "cell_type": "code",
   "execution_count": null,
   "id": "a7da233d-8488-41a0-a79e-d18d7b57bca6",
   "metadata": {},
   "outputs": [],
   "source": []
  },
  {
   "cell_type": "markdown",
   "id": "594e9fbb-5fe1-4a6d-b00b-3e226b441bc6",
   "metadata": {},
   "source": [
    "3. Überprüfen Sie mit Ihrer isFunction-Funktion, ob die folgende Menge eine Funktion ist."
   ]
  },
  {
   "cell_type": "code",
   "execution_count": null,
   "id": "fc408328-f660-4eaa-8deb-93cf94f99c24",
   "metadata": {},
   "outputs": [],
   "source": [
    "{(x,y) for x in {True,False} for y in {True,False} if x -s>> y}"
   ]
  },
  {
   "cell_type": "markdown",
   "id": "a62aeeac-a52a-41fc-8ab1-67ce16cb183d",
   "metadata": {},
   "source": [
    "4. Überprüfen Sie, ob die leere Menge eine Funktion ist."
   ]
  },
  {
   "cell_type": "code",
   "execution_count": null,
   "id": "f6fe929a-d2d4-4c1f-968d-3f9ebc31c122",
   "metadata": {},
   "outputs": [],
   "source": []
  },
  {
   "cell_type": "markdown",
   "id": "0faf264a-2e63-4db2-9519-7c49da35fcf1",
   "metadata": {},
   "source": [
    "<h2>Funktionen als Transformationsprozesse</h2>\n",
    "\n",
    "5. Implementieren Sie die folgenden Funktionen in Python und wenden Sie sie auf geeignete Beispielwerte an.\n",
    "\n",
    "<ul>\n",
    "<li>$x \\mapsto x^2$\n",
    "<li>$x \\mapsto (x^2 = 1)$\n",
    "</ul>"
   ]
  },
  {
   "cell_type": "code",
   "execution_count": null,
   "id": "092c85c9-cbb3-4734-8af6-f99b54ada311",
   "metadata": {},
   "outputs": [],
   "source": []
  },
  {
   "cell_type": "markdown",
   "id": "099c61fa-76d8-4348-86f7-92fd215b59fe",
   "metadata": {},
   "source": [
    "6. Wenden Sie Ihre Funktion bildmenge (aus dem Notebook vorbereiten8) auf die beiden Funktionen an, die Sie gerade implementiert haben. Implementieren Sie eine Funktion bildmenge2, die auf Funktionen als spezielle Relationen anwendbar ist."
   ]
  },
  {
   "cell_type": "code",
   "execution_count": null,
   "id": "3fded840-b723-41c1-a993-8460a611dbe9",
   "metadata": {},
   "outputs": [],
   "source": []
  },
  {
   "cell_type": "markdown",
   "id": "e362d07e-8de2-4db8-8141-a5900209dd04",
   "metadata": {},
   "source": [
    "7. Implementieren Sie die folgende Relationseigenschaft \"connex\" in Python:<br>\n",
    "\"Eine Relation R auf einer Menge A heißt connex, wenn [a,b] $\\in$ R oder [b,a] $\\in$ R für alle a,b $\\in$ A gilt.\"<br>\n",
    "Spezifizieren Sie ein paar Relationen, an denen Sie das überprüfen können."
   ]
  },
  {
   "cell_type": "code",
   "execution_count": null,
   "id": "790a4d86-0766-42eb-941d-045403b04f83",
   "metadata": {},
   "outputs": [],
   "source": []
  },
  {
   "cell_type": "markdown",
   "id": "8d92fb8b-1f81-4ddb-950b-0fd10ca025cc",
   "metadata": {},
   "source": [
    "8. Implementieren Sie die folgende Funktion in Python und finden Sie heraus, was die Funktion berechnet.\n",
    "\n",
    "x $\\mapsto$ {1,2,...,x} - {pq | p,q $\\in$ {1,2,...,x}}"
   ]
  },
  {
   "cell_type": "code",
   "execution_count": null,
   "id": "3a976112-2f6e-4c14-9f9c-bf4e4035e137",
   "metadata": {},
   "outputs": [],
   "source": []
  }
 ],
 "metadata": {
  "kernelspec": {
   "display_name": "Python 3 (ipykernel)",
   "language": "python",
   "name": "python3"
  },
  "language_info": {
   "codemirror_mode": {
    "name": "ipython",
    "version": 3
   },
   "file_extension": ".py",
   "mimetype": "text/x-python",
   "name": "python",
   "nbconvert_exporter": "python",
   "pygments_lexer": "ipython3",
   "version": "3.10.8"
  }
 },
 "nbformat": 4,
 "nbformat_minor": 5
}
