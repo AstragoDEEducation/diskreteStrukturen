{
 "cells": [
  {
   "cell_type": "code",
   "execution_count": null,
   "id": "824b10e1-4561-4576-8f07-fd1421910c3f",
   "metadata": {},
   "outputs": [],
   "source": [
    "from utils.discrstruct import *"
   ]
  },
  {
   "cell_type": "markdown",
   "id": "f67c2948-f8a1-4294-837b-d244b057e897",
   "metadata": {},
   "source": [
    "<b>Aussage</b>: Für die Menge P der Primzahlen gilt: ∀(p ∈ P | p > 3 ⇒ ∃(n ∈ N | p = 6n + 1 oder p = 6n − 1))"
   ]
  },
  {
   "cell_type": "markdown",
   "id": "eea65525-05d5-4cee-8819-e27e3c5a9994",
   "metadata": {},
   "source": [
    "<b>1. Implementierung der Aussage in Python für Beispiele</b>"
   ]
  },
  {
   "cell_type": "markdown",
   "id": "43d91a7a-c7f4-4949-9472-74a7d4a4b3c3",
   "metadata": {},
   "source": [
    "<b>1.1 Definitionen</b>\n",
    "    \n",
    "Im Folgenden ist P1 die Liste der Primzahlen von 2 bis 100."
   ]
  },
  {
   "cell_type": "code",
   "execution_count": null,
   "id": "606b52c6-a086-4cf1-a8b5-c711b096bd0d",
   "metadata": {},
   "outputs": [],
   "source": [
    "P1 = {2,3,5,7,11,13,17,19,23,29,31,37,41,43,47,53,59,61,67,71,73,79,83,89,97}"
   ]
  },
  {
   "cell_type": "markdown",
   "id": "c63a1d10-2567-4041-82d7-3f47032b670e",
   "metadata": {},
   "source": [
    "Der quantifizierte Ausdruck kann dann als Menge M definiert werden:"
   ]
  },
  {
   "cell_type": "code",
   "execution_count": null,
   "id": "09c765e4-6d1c-4881-af99-03acdd879dbe",
   "metadata": {},
   "outputs": [],
   "source": [
    "M = {p for p in P1 if (p > 3) -s>> (any( p == 6*n+1 or p == 6*n-1 for n in range(1,98)))}"
   ]
  },
  {
   "cell_type": "markdown",
   "id": "4bc13ddf-bab5-4b19-96b6-b87ad06d2ddf",
   "metadata": {},
   "source": [
    "<b>1.2 Anwendung der Definitionen</b>\n",
    "\n",
    "Die Aussage soll für alle Primzahlen gelten. Die Menge M enthält alle Primzahlen, für die die \n",
    "Aussage gilt. Wenn P1 == M wahr ist, dann gilt die Aussage für die Primzahlen $<$ 100."
   ]
  },
  {
   "cell_type": "code",
   "execution_count": null,
   "id": "5856714d-70b7-4530-825d-693eda190536",
   "metadata": {},
   "outputs": [],
   "source": [
    "P1 == M"
   ]
  },
  {
   "cell_type": "markdown",
   "id": "da93262a-fe7d-4ec2-aa27-f26a6713619f",
   "metadata": {},
   "source": [
    "<b>1.3 Erklärungen</b>\n",
    "\n",
    "Fügen Sie hier noch weitere Details hinzu bezüglich, wie Sie überprüft haben, dass Ihr Python-Code richtig ist."
   ]
  },
  {
   "cell_type": "markdown",
   "id": "2932d3d4-104d-4cde-8863-6873707873ca",
   "metadata": {},
   "source": [
    "Die Elemente der Menge M:"
   ]
  },
  {
   "cell_type": "code",
   "execution_count": null,
   "id": "34a3f494-355a-46cb-b5eb-0aeb92c749ee",
   "metadata": {},
   "outputs": [],
   "source": [
    "M"
   ]
  },
  {
   "cell_type": "markdown",
   "id": "84418c4d-1ac6-4fe0-a847-b8975497a4be",
   "metadata": {},
   "source": [
    "Hier ein paar Beispiele für Werte von p und n:"
   ]
  },
  {
   "cell_type": "code",
   "execution_count": null,
   "id": "f90bcb11-021c-4f47-abbf-83d44133bd35",
   "metadata": {},
   "outputs": [],
   "source": [
    "p = 13\n",
    "{n for n in range(1,98) if p == 6*n+1 or p == 6*n-1}\n",
    "p = 17\n",
    "{n for n in range(1,98) if p == 6*n+1 or p == 6*n-1}\n",
    "p = 43\n",
    "{n for n in range(1,98) if p == 6*n+1 or p == 6*n-1}"
   ]
  },
  {
   "cell_type": "markdown",
   "id": "32107fd2-ef0b-421e-bfc8-ebfcf3f5e285",
   "metadata": {},
   "source": [
    "<b>2. Begründung oder Beweis der Aussage</b>\n",
    "\n",
    "Zu beweisen ist: ∀(p ∈ P | p > 3 ⇒ ∃(n ∈ N | p = 6n + 1 oder p = 6n − 1))\n",
    "\n",
    "Für jede Zahl z gibt es ein n, so dass z = 6n + 1 oder z = 6n + 2 oder z = 6n + 3 oder \n",
    "z = 6n + 4 oder z = 6m + 5 = 6(n-1) + 5 = 6n - 1 oder z = 6n + 6. Mehr Möglichkeiten kann es nicht geben, da 6m + 7 = 6(n-1) + 7 = 6n + 1 usw. \n",
    "\n",
    "In den folgenden Fällen kann es sich nicht um eine Primzahl handeln:\n",
    "z = 6n + 2 = 2(3n+1), z = 6n + 3 = 3(2n+1), z = 6n + 4 = 2(3n+2) oder\n",
    "z = 6n + 6 = 2(3 +3), da man jeweils die Zahl 2 oder 3 ausklammern kann und z somit einen Teiler außer 1 hat. Für z > 3 ist dieser Teiler ungleich der Zahl selbst.\n",
    "Also ist z keine Primzahl. Damit bleiben für Primzahlen nur die Möglichkeiten: z = 6n + 1 oder z = 6n − 1."
   ]
  },
  {
   "cell_type": "markdown",
   "id": "c2ea509e-af29-463c-8a61-96c7e4d41239",
   "metadata": {},
   "source": [
    "<b>2.1 Art der Begründung oder Beweistyp</b>\n",
    "\n",
    "Es handelt sich um einen direkten Beweis durch eine vollständige Fallunterscheidung.\n"
   ]
  },
  {
   "cell_type": "markdown",
   "id": "f160cdfc-a8d6-4b07-a736-f0dc5f31f93b",
   "metadata": {},
   "source": [
    "<b>2.2 Quellenangabe</b>\n",
    "\n",
    "Ich habe den Beweis selbst erstellt. (Falls Sie irgendwelche Webseiten o.ä. verwendet haben, geben Sie das hier an.)\n"
   ]
  },
  {
   "cell_type": "code",
   "execution_count": null,
   "id": "011c56aa-74ba-4840-b73c-07632111e52e",
   "metadata": {},
   "outputs": [],
   "source": []
  }
 ],
 "metadata": {
  "kernelspec": {
   "display_name": "Python 3 (ipykernel)",
   "language": "python",
   "name": "python3"
  },
  "language_info": {
   "codemirror_mode": {
    "name": "ipython",
    "version": 3
   },
   "file_extension": ".py",
   "mimetype": "text/x-python",
   "name": "python",
   "nbconvert_exporter": "python",
   "pygments_lexer": "ipython3",
   "version": "3.10.8"
  }
 },
 "nbformat": 4,
 "nbformat_minor": 5
}
