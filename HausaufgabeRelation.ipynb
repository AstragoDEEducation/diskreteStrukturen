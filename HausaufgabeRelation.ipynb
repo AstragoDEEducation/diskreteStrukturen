{
 "cells": [
  {
   "cell_type": "code",
   "execution_count": null,
   "id": "824b10e1-4561-4576-8f07-fd1421910c3f",
   "metadata": {},
   "outputs": [],
   "source": [
    "from utils.discrstruct import *"
   ]
  },
  {
   "cell_type": "markdown",
   "id": "f67c2948-f8a1-4294-837b-d244b057e897",
   "metadata": {},
   "source": [
    "<b>Aussage</b>: Die Teilbarkeitsrelation \"$|$\", die durch a|b $\\Longleftrightarrow$ b mod a = 0 definiert ist, ist transitiv."
   ]
  },
  {
   "cell_type": "markdown",
   "id": "eea65525-05d5-4cee-8819-e27e3c5a9994",
   "metadata": {},
   "source": [
    "<b>1. Implementierung der Aussage in Python für Beispiele</b>"
   ]
  },
  {
   "cell_type": "markdown",
   "id": "43d91a7a-c7f4-4949-9472-74a7d4a4b3c3",
   "metadata": {},
   "source": [
    "<b>1.1 Definitionen</b>\n",
    "    \n",
    "Die Teilbarkeitsrelation der Zahlen von 1 bis 10 kann folgendermaßen in Python implementiert werden:"
   ]
  },
  {
   "cell_type": "code",
   "execution_count": null,
   "id": "09c765e4-6d1c-4881-af99-03acdd879dbe",
   "metadata": {},
   "outputs": [],
   "source": [
    "RelTeilbar = {(a,b) for a in range(1,11) for b in range(1,11) if b % a == 0}"
   ]
  },
  {
   "cell_type": "markdown",
   "id": "d679336f-1bfd-4fb8-ad07-ecc55670d95c",
   "metadata": {},
   "source": [
    "Definition der Eigenschaft \"transitiv\" für Relationen:"
   ]
  },
  {
   "cell_type": "code",
   "execution_count": null,
   "id": "8b0ddd5d-12fb-4337-829b-3eeb2ae3e161",
   "metadata": {},
   "outputs": [],
   "source": [
    "def transitivRelation (R,A):\n",
    "    return all(((a,b) in R and (b,c) in R) -s>> ((a,c) in R) for a in A for b in A for c in A)"
   ]
  },
  {
   "cell_type": "markdown",
   "id": "4bc13ddf-bab5-4b19-96b6-b87ad06d2ddf",
   "metadata": {},
   "source": [
    "<b>1.2 Anwendung der Definitionen</b>\n",
    "\n",
    "Transitivität der Teilbarkeitsrelation der Zahlen von 1 bis 10:"
   ]
  },
  {
   "cell_type": "code",
   "execution_count": null,
   "id": "5856714d-70b7-4530-825d-693eda190536",
   "metadata": {},
   "outputs": [],
   "source": [
    "A1 = {1,2,3,4,5,6,7,8,9,10}\n",
    "transitivRelation (RelTeilbar,A1)"
   ]
  },
  {
   "cell_type": "markdown",
   "id": "da93262a-fe7d-4ec2-aa27-f26a6713619f",
   "metadata": {},
   "source": [
    "<b>1.3 Erklärungen</b>\n",
    "\n",
    "Fügen Sie hier noch weitere Details hinzu bezüglich, wie Sie überprüft haben, dass Ihr Python-Code richtig ist."
   ]
  },
  {
   "cell_type": "markdown",
   "id": "2932d3d4-104d-4cde-8863-6873707873ca",
   "metadata": {},
   "source": [
    "Die Elemente der Relation RelTeilbar:"
   ]
  },
  {
   "cell_type": "code",
   "execution_count": null,
   "id": "34a3f494-355a-46cb-b5eb-0aeb92c749ee",
   "metadata": {},
   "outputs": [],
   "source": [
    "RelTeilbar"
   ]
  },
  {
   "cell_type": "markdown",
   "id": "84418c4d-1ac6-4fe0-a847-b8975497a4be",
   "metadata": {},
   "source": [
    "Wenn ein Element aus RelTeilbar entfernt wird, dann gilt die Transitivität nicht mehr unbedingt:"
   ]
  },
  {
   "cell_type": "code",
   "execution_count": null,
   "id": "f90bcb11-021c-4f47-abbf-83d44133bd35",
   "metadata": {},
   "outputs": [],
   "source": [
    "transitivRelation (RelTeilbar-{(1,8)}, A1)"
   ]
  },
  {
   "cell_type": "markdown",
   "id": "32107fd2-ef0b-421e-bfc8-ebfcf3f5e285",
   "metadata": {},
   "source": [
    "<b>2. Begründung oder Beweis der Aussage</b>\n",
    "\n",
    "Zu beweisen ist: $a|b \\land b|c \\Rightarrow a|c$. Das ist äquivalent zu\n",
    "\n",
    "$\\exists(n_1,n_2 \\in \\mathbb{N} \\mid b = an_1 \\land c = bn_2) \\Rightarrow\n",
    "\\exists(n_3 \\in \\mathbb{N} \\mid c = an_3)$. \n",
    "\n",
    "Das ist durch Umformung äquivalent zu:\n",
    "\n",
    "$\\exists(n_1,n_2 \\in \\mathbb{N} \\mid c = an_1n_2) \\Rightarrow\n",
    "\\exists(n_3 \\in \\mathbb{N} \\mid c = an_3)$.\n",
    "\n",
    "Man kann $n_3 := n_1n_2$ wählen. Damit steht rechts immer etwas Wahres, wenn links wahr ist. Daher ist die Subjunktion als Ganzes immer wahr. Die Aussage ist somit bewiesen.\n"
   ]
  },
  {
   "cell_type": "markdown",
   "id": "c2ea509e-af29-463c-8a61-96c7e4d41239",
   "metadata": {},
   "source": [
    "<b>2.1 Art der Begründung oder Beweistyp</b>\n",
    "\n",
    "Es handelt sich um einen direkten Beweis.\n"
   ]
  },
  {
   "cell_type": "markdown",
   "id": "cf3838f0-a07d-42ee-9a56-b6c137ac7aa4",
   "metadata": {},
   "source": [
    "<b>2.2 Quellenangabe</b>\n",
    "\n",
    "Ich habe den Beweis selbst erstellt. (Falls Sie irgendwelche Webseiten o.ä. verwendet haben, geben Sie das hier an.)\n"
   ]
  },
  {
   "cell_type": "code",
   "execution_count": null,
   "id": "2c332795-1f35-4e36-b0e1-59b541789d0d",
   "metadata": {},
   "outputs": [],
   "source": []
  }
 ],
 "metadata": {
  "kernelspec": {
   "display_name": "Python 3 (ipykernel)",
   "language": "python",
   "name": "python3"
  },
  "language_info": {
   "codemirror_mode": {
    "name": "ipython",
    "version": 3
   },
   "file_extension": ".py",
   "mimetype": "text/x-python",
   "name": "python",
   "nbconvert_exporter": "python",
   "pygments_lexer": "ipython3",
   "version": "3.10.8"
  }
 },
 "nbformat": 4,
 "nbformat_minor": 5
}
