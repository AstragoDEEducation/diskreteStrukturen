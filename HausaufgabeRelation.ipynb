{
 "cells": [
  {
   "cell_type": "code",
   "execution_count": 1,
   "id": "824b10e1-4561-4576-8f07-fd1421910c3f",
   "metadata": {},
   "outputs": [
    {
     "data": {
      "text/html": [
       "<script type=\"text/javascript\">\n",
       "function ueberpruefen(property) {\n",
       "var solutions = \n",
       "{'kapitel2_1_0': 'RGllIEZsYXNjaGUgaXN0IG5pY2h0IHZvbGwu', 'kapitel2_1_1': 'RGllIEhvc2UgaXN0IG5pY2h0IHNjaHdhcnou', 'kapitel2_2_0': 'RXIgbWFnIGtlaW5lbiBTY2huYXBzIG9kZXIgZXIgbWFnIFNla3Qu', 'kapitel2_2_1': 'U2llIHRhbnp0IG5pY2h0IG9kZXIgZsOkaHJ0IG5pY2h0IFJhZC4=', 'kapitel2_3_0': 'SmE=', 'kapitel2_3_1': 'SmE=', 'kapitel2_3_2': 'SmE=', 'kapitel2_3_3': 'TmVpbg==', 'kapitel2_3_4': 'SmE=', 'kapitel2_3_5': 'TmVpbg==', 'kapitel2_3_6': 'SmE=', 'kapitel2_3_7': 'TmVpbg==', 'kapitel2_4_0': 'QXVzc2FnZWZvcm0=', 'kapitel2_4_1': 'QXVzc2FnZWZvcm0=', 'kapitel2_4_2': 'QXVzc2FnZWZvcm0=', 'kapitel2_4_3': 'V2VkZXIgQXVzc2FnZSBub2NoIEF1c3NhZ2Vmb3Jt', 'kapitel2_4_4': 'QXVzc2FnZQ==', 'kapitel2_4_5': 'QXVzc2FnZQ==', 'kapitel2_4_6': 'V2VkZXIgQXVzc2FnZSBub2NoIEF1c3NhZ2Vmb3Jt', 'kapitel2_4_7': 'QXVzc2FnZQ==', 'kapitel2_5_0': 'ZW50d2VkZXItb2Rlcg==', 'kapitel2_5_1': 'ZW50d2VkZXItb2Rlcg==', 'kapitel2_5_2': 'bG9naXNjaGVzIG9kZXI=', 'kapitel2_5_3': 'ZW50d2VkZXItb2Rlcg==', 'kapitel2_6_0': 'd2Focg==', 'kapitel2_6_1': 'ZmFsc2No', 'kapitel2_6_2': 'd2Focg==', 'kapitel2_6_3': 'ZmFsc2No', 'kapitel2_7_0': 'QXVmesOkaGx1bmcgdm9uIEdlZ2Vuc3TDpG5kZW4=', 'kapitel2_7_1': 'bG9naXNjaGUgS29uanVua3Rpb24=', 'kapitel2_7_2': 'bG9naXNjaGUgS29uanVua3Rpb24=', 'kapitel2_7_3': 'QXVmesOkaGx1bmcgdm9uIEdlZ2Vuc3TDpG5kZW4=', 'kapitel3_1_0': 'RGVmaW5pdGlvbg==', 'kapitel3_1_1': 'VGhlb3JlbQ==', 'kapitel3_1_2': 'RGVmaW5pdGlvbg==', 'kapitel3_1_3': 'VGhlb3JlbQ==', 'kapitel3_1_4': 'RGVmaW5pdGlvbg==', 'kapitel3_1_5': 'VGhlb3JlbQ==', 'kapitel3_2_0': 'QSDihpIgQg==', 'kapitel3_2_1': 'QSDihpAgQg==', 'kapitel3_2_2': 'QSDih5IgQg==', 'kapitel3_2_3': 'QSDih5IgQg==', 'kapitel3_2_4': 'QSDihpAgQg==', 'kapitel3_2_5': 'QSDih5QgQg==', 'kapitel3_3_0': 'a29tbXV0YXRpdg==', 'kapitel3_3_1': 'bmljaHQga29tbXV0YXRpdg==', 'kapitel3_3_2': 'bmljaHQga29tbXV0YXRpdg==', 'kapitel3_3_3': 'bmljaHQga29tbXV0YXRpdg==', 'kapitel3_4_0': 'bmV1dHJhbGVzIEVsZW1lbnQ=', 'kapitel3_4_1': 'a2VpbiBuZXV0cmFsZXMgRWxlbWVudA==', 'kapitel3_4_2': 'a2VpbiBuZXV0cmFsZXMgRWxlbWVudA==', 'kapitel3_4_3': 'bmV1dHJhbGVzIEVsZW1lbnQ=', 'kapitel3_4_4': 'bmV1dHJhbGVzIEVsZW1lbnQ=', 'kapitel3_4_5': 'a2VpbiBuZXV0cmFsZXMgRWxlbWVudA==', 'kapitel3_4_6': 'a2VpbiBuZXV0cmFsZXMgRWxlbWVudA==', 'kapitel3_4_7': 'bmV1dHJhbGVzIEVsZW1lbnQ='}\n",
       "\n",
       "   form_elements = document.querySelector(\"#\"+property).elements;\n",
       "   for (i = 0; i < form_elements.length ;i++) {\n",
       "      var answer = \"<font size=5 color='red'>&#10007;</font>\";\n",
       "      if (typeof solutions[form_elements[i].id] !== 'undefined') {\n",
       "         if (form_elements[i].value == \n",
       "             decodeURIComponent(escape(atob(solutions[form_elements[i].id] )))) {\n",
       "             answer = \"<font size=5 color='green'>&#10003;</font>\";\n",
       "         }\n",
       "      document.querySelector(\"#\" + form_elements[i].id + \"_ans\").innerHTML=answer;\n",
       "      }\n",
       "   }\n",
       "}\n",
       "</script>"
      ],
      "text/plain": [
       "<IPython.core.display.HTML object>"
      ]
     },
     "metadata": {},
     "output_type": "display_data"
    }
   ],
   "source": [
    "from utils.discrstruct import *\n",
    "from sympy import EmptySet, FiniteSet, PowerSet"
   ]
  },
  {
   "cell_type": "markdown",
   "id": "f67c2948-f8a1-4294-837b-d244b057e897",
   "metadata": {},
   "source": [
    "<b>Aussage</b>: Die Teilbarkeitsrelation \"$|$\", die durch a|b $\\Longleftrightarrow$ b mod a = 0 definiert ist, ist transitiv."
   ]
  },
  {
   "cell_type": "markdown",
   "id": "eea65525-05d5-4cee-8819-e27e3c5a9994",
   "metadata": {},
   "source": [
    "<b>1. Implementierung der Aussage in Python für Beispiele</b>"
   ]
  },
  {
   "cell_type": "markdown",
   "id": "43d91a7a-c7f4-4949-9472-74a7d4a4b3c3",
   "metadata": {},
   "source": [
    "<b>1.1 Definitionen</b>\n",
    "    \n",
    "Die Teilbarkeitsrelation der Zahlen von 1 bis 10 kann folgendermaßen in Python implementiert werden:"
   ]
  },
  {
   "cell_type": "code",
   "execution_count": 2,
   "id": "09c765e4-6d1c-4881-af99-03acdd879dbe",
   "metadata": {},
   "outputs": [],
   "source": [
    "RelTeilbar = FiniteSet(*[(a,b) for a in range(1,11) for b in range(1,11) if b % a == 0])"
   ]
  },
  {
   "cell_type": "markdown",
   "id": "d679336f-1bfd-4fb8-ad07-ecc55670d95c",
   "metadata": {},
   "source": [
    "Definition der Eigenschaft \"transitiv\" für Relationen:"
   ]
  },
  {
   "cell_type": "code",
   "execution_count": 3,
   "id": "8b0ddd5d-12fb-4337-829b-3eeb2ae3e161",
   "metadata": {},
   "outputs": [],
   "source": [
    "def transitivRelation (R,A):\n",
    "    return all (((a,b) in R and (b,c) in R) -s>> ((a,c) in R)\n",
    "    for a in A for b in A for c in A)"
   ]
  },
  {
   "cell_type": "markdown",
   "id": "4bc13ddf-bab5-4b19-96b6-b87ad06d2ddf",
   "metadata": {},
   "source": [
    "<b>1.2 Anwendung der Definitionen</b>\n",
    "\n",
    "Transitivität der Teilbarkeitsrelation der Zahlen von 1 bis 10:"
   ]
  },
  {
   "cell_type": "code",
   "execution_count": 4,
   "id": "5856714d-70b7-4530-825d-693eda190536",
   "metadata": {},
   "outputs": [
    {
     "data": {
      "text/plain": [
       "True"
      ]
     },
     "execution_count": 4,
     "metadata": {},
     "output_type": "execute_result"
    }
   ],
   "source": [
    "A1 = FiniteSet(*range(1,11))\n",
    "transitivRelation (RelTeilbar,A1)"
   ]
  },
  {
   "cell_type": "markdown",
   "id": "da93262a-fe7d-4ec2-aa27-f26a6713619f",
   "metadata": {},
   "source": [
    "<b>1.3 Erklärungen</b>\n",
    "\n",
    "Fügen Sie hier noch weitere Details hinzu bezüglich, wie Sie überprüft haben, dass Ihr Python-Code richtig ist."
   ]
  },
  {
   "cell_type": "markdown",
   "id": "2932d3d4-104d-4cde-8863-6873707873ca",
   "metadata": {},
   "source": [
    "Die Elemente der Relation RelTeilbar:"
   ]
  },
  {
   "cell_type": "code",
   "execution_count": 8,
   "id": "34a3f494-355a-46cb-b5eb-0aeb92c749ee",
   "metadata": {},
   "outputs": [
    {
     "data": {
      "text/latex": [
       "$\\displaystyle \\left\\{\\left( 1, \\  1\\right), \\left( 1, \\  2\\right), \\left( 1, \\  3\\right), \\left( 1, \\  4\\right), \\left( 1, \\  5\\right), \\left( 1, \\  6\\right), \\left( 1, \\  7\\right), \\left( 1, \\  8\\right), \\left( 1, \\  9\\right), \\left( 1, \\  10\\right), \\left( 2, \\  2\\right), \\left( 2, \\  4\\right), \\left( 2, \\  6\\right), \\left( 2, \\  8\\right), \\left( 2, \\  10\\right), \\left( 3, \\  3\\right), \\left( 3, \\  6\\right), \\left( 3, \\  9\\right), \\left( 4, \\  4\\right), \\left( 4, \\  8\\right), \\left( 5, \\  5\\right), \\left( 5, \\  10\\right), \\left( 6, \\  6\\right), \\left( 7, \\  7\\right), \\left( 8, \\  8\\right), \\left( 9, \\  9\\right), \\left( 10, \\  10\\right)\\right\\}$"
      ],
      "text/plain": [
       "{(1, 1), (1, 2), (1, 3), (1, 4), (1, 5), (1, 6), (1, 7), (1, 8), (1, 9), (1, 10), (2, 2), (2, 4), (2, 6), (2, 8), (2, 10), (3, 3), (3, 6), (3, 9), (4, 4), (4, 8), (5, 5), (5, 10), (6, 6), (7, 7), (8, 8), (9, 9), (10, 10)}"
      ]
     },
     "execution_count": 8,
     "metadata": {},
     "output_type": "execute_result"
    }
   ],
   "source": [
    "RelTeilbar"
   ]
  },
  {
   "cell_type": "markdown",
   "id": "84418c4d-1ac6-4fe0-a847-b8975497a4be",
   "metadata": {},
   "source": [
    "Wenn ein Element aus RelTeilbar entfernt wird, dann gilt die Transitivität nicht mehr unbedingt:"
   ]
  },
  {
   "cell_type": "code",
   "execution_count": 6,
   "id": "f90bcb11-021c-4f47-abbf-83d44133bd35",
   "metadata": {},
   "outputs": [
    {
     "data": {
      "text/plain": [
       "False"
      ]
     },
     "execution_count": 6,
     "metadata": {},
     "output_type": "execute_result"
    }
   ],
   "source": [
    "transitivRelation (RelTeilbar - FiniteSet((1,8)),A1)"
   ]
  },
  {
   "cell_type": "markdown",
   "id": "32107fd2-ef0b-421e-bfc8-ebfcf3f5e285",
   "metadata": {},
   "source": [
    "<b>2. Begründung oder Beweis der Aussage</b>\n",
    "\n",
    "Zu beweisen ist: $a|b \\land b|c \\Rightarrow a|c$. Das ist äquivalent zu\n",
    "\n",
    "$\\exists(n_1,n_2 \\in \\mathbb{N} \\mid b = an_1 \\land c = bn_2) \\Rightarrow\n",
    "\\exists(n_3 \\in \\mathbb{N} \\mid c = an_3)$. \n",
    "\n",
    "Das ist durch Umformung äquivalent zu:\n",
    "\n",
    "$\\exists(n_1,n_2 \\in \\mathbb{N} \\mid c = an_1n_2) \\Rightarrow\n",
    "\\exists(n_3 \\in \\mathbb{N} \\mid c = an_3)$.\n",
    "\n",
    "Man kann $n_3 := n_1n_2$ wählen. Damit steht rechts immer etwas Wahres, wenn links Wahr ist. Daher ist die Subjunktion als Ganzes immer wahr. Die Aussage ist somit bewiesen.\n"
   ]
  },
  {
   "cell_type": "markdown",
   "id": "c2ea509e-af29-463c-8a61-96c7e4d41239",
   "metadata": {},
   "source": [
    "<b>2.1 Art der Begründung oder Beweistyp</b>\n",
    "\n",
    "Es handelt sich um einen direkten Beweis.\n"
   ]
  },
  {
   "cell_type": "markdown",
   "id": "cf3838f0-a07d-42ee-9a56-b6c137ac7aa4",
   "metadata": {},
   "source": [
    "<b>2.2 Quellenangabe</b>\n",
    "\n",
    "Ich habe den Beweis selbst erstellt. (Falls Sie irgendwelche Webseiten o.ä. verwendet haben, geben Sie das hier an.)\n"
   ]
  },
  {
   "cell_type": "code",
   "execution_count": null,
   "id": "2c332795-1f35-4e36-b0e1-59b541789d0d",
   "metadata": {},
   "outputs": [],
   "source": []
  }
 ],
 "metadata": {
  "kernelspec": {
   "display_name": "Python 3 (ipykernel)",
   "language": "python",
   "name": "python3"
  },
  "language_info": {
   "codemirror_mode": {
    "name": "ipython",
    "version": 3
   },
   "file_extension": ".py",
   "mimetype": "text/x-python",
   "name": "python",
   "nbconvert_exporter": "python",
   "pygments_lexer": "ipython3",
   "version": "3.10.8"
  }
 },
 "nbformat": 4,
 "nbformat_minor": 5
}
